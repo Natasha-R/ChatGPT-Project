{
 "cells": [
  {
   "cell_type": "code",
   "execution_count": 1,
   "id": "03d58dbf-c726-4538-ab27-073fcc2ea5dd",
   "metadata": {
    "tags": []
   },
   "outputs": [],
   "source": [
    "import pandas as pd\n",
    "import json\n",
    "import os"
   ]
  },
  {
   "cell_type": "markdown",
   "id": "cafc9d47-4302-4bbf-839b-7092c18773b1",
   "metadata": {},
   "source": [
    "# Scenarios"
   ]
  },
  {
   "cell_type": "markdown",
   "id": "f733cd4e-932c-46f6-9a99-1748cbe37a08",
   "metadata": {},
   "source": [
    "For the assignments, different students were assigned different possible scenarios - e.g. a maintenance droid, tidy up robot, etc.   \n",
    "The scenario affects the names of the default files provided, and influences the choice of variable names in the students' code."
   ]
  },
  {
   "cell_type": "code",
   "execution_count": 11,
   "id": "4aeeed85-c60d-4ec5-a484-c0be5a8b5289",
   "metadata": {
    "tags": []
   },
   "outputs": [],
   "source": [
    "student_scenarios = {}\n",
    "scenario_instructions = []\n",
    "possible_scenarios = [\"maintenance droid\", \"cleaning device\", \"tidy-up robot\", \"mining machine\"]\n",
    "m0_students = [name for name in os.listdir(\"raw_solutions\\\\student_solutions\") if name[:2]==\"m0\"]\n",
    "for student_name in m0_students:\n",
    "    instructions_path = f\"raw_solutions\\\\student_solutions\\\\{student_name}\\\\README.md\"\n",
    "    with open(instructions_path, \"r\", encoding='utf-8') as instructions_file:\n",
    "        instructions = instructions_file.read()\n",
    "        scenario = [scenario for scenario in possible_scenarios if scenario in instructions][0]\n",
    "        student_scenarios[student_name[3:]] = scenario\n",
    "        scenario_instructions.append(instructions)"
   ]
  },
  {
   "cell_type": "code",
   "execution_count": 12,
   "id": "28f90af5-6a6a-46dc-bcc2-e17507c9b37e",
   "metadata": {
    "tags": []
   },
   "outputs": [
    {
     "data": {
      "text/plain": [
       "[('student107', 'cleaning device'),\n",
       " ('student108', 'mining machine'),\n",
       " ('student109', 'maintenance droid'),\n",
       " ('student11', 'tidy-up robot')]"
      ]
     },
     "execution_count": 12,
     "metadata": {},
     "output_type": "execute_result"
    }
   ],
   "source": [
    "list(student_scenarios.items())[10:14]"
   ]
  },
  {
   "cell_type": "code",
   "execution_count": 13,
   "id": "fece309c-ab1d-4ee5-8d0a-c7e9c2c29c1c",
   "metadata": {
    "tags": []
   },
   "outputs": [
    {
     "data": {
      "text/plain": [
       "tidy-up robot        50\n",
       "mining machine       39\n",
       "maintenance droid    35\n",
       "cleaning device      33\n",
       "dtype: int64"
      ]
     },
     "execution_count": 13,
     "metadata": {},
     "output_type": "execute_result"
    }
   ],
   "source": [
    "pd.Series(student_scenarios.values()).value_counts()"
   ]
  },
  {
   "cell_type": "code",
   "execution_count": 14,
   "id": "339c2375-a994-41bf-9d4c-adccd8201292",
   "metadata": {
    "tags": []
   },
   "outputs": [],
   "source": [
    "with open(\"processed_solutions/student_scenarios.json\", 'w') as json_file:\n",
    "    json.dump(student_scenarios, json_file)"
   ]
  },
  {
   "cell_type": "markdown",
   "id": "02d87882-571d-4712-893c-45fd74f6afc3",
   "metadata": {},
   "source": [
    "There are four different core scenarios:  \n",
    "* Tidy-up robot in a room\n",
    "* Mining machine on a mining field\n",
    "* Maintenance droid on a spaceship deck\n",
    "* Cleaning device in a space\n",
    "\n",
    "There are different descriptions of the \"barriers\" in the problem:\n",
    "* Barriers\n",
    "* Walls\n",
    "* Obstacles\n",
    "\n",
    "Different descriptions of the \"cells\" in the problem:\n",
    "* Gridcell\n",
    "* Cell\n",
    "* Tile\n",
    "\n",
    "Different descriptions of the \"commands\" in the problem:\n",
    "* Command\n",
    "* Order\n",
    "* Task\n",
    "\n",
    "Different descriptions of the \"transport categories\" in the problem:\n",
    "* Transport category\n",
    "* Transport system\n",
    "* Transport technology\n",
    "\n",
    "All of the different scenario variants are randomly crossed together for each student."
   ]
  },
  {
   "cell_type": "markdown",
   "id": "eb60b41d-e3b1-4f99-949e-20153d3f2e78",
   "metadata": {},
   "source": [
    "An example of different variants in the instructions for milestone 0:"
   ]
  },
  {
   "cell_type": "code",
   "execution_count": 15,
   "id": "867b3a0f-3427-491f-8339-403e5f22cc48",
   "metadata": {
    "tags": []
   },
   "outputs": [
    {
     "data": {
      "text/html": [
       "<div>\n",
       "<style scoped>\n",
       "    .dataframe tbody tr th:only-of-type {\n",
       "        vertical-align: middle;\n",
       "    }\n",
       "\n",
       "    .dataframe tbody tr th {\n",
       "        vertical-align: top;\n",
       "    }\n",
       "\n",
       "    .dataframe thead th {\n",
       "        text-align: right;\n",
       "    }\n",
       "</style>\n",
       "<table border=\"1\" class=\"dataframe\">\n",
       "  <thead>\n",
       "    <tr style=\"text-align: right;\">\n",
       "      <th></th>\n",
       "      <th>Count</th>\n",
       "    </tr>\n",
       "  </thead>\n",
       "  <tbody>\n",
       "    <tr>\n",
       "      <th>## Milestone 0 (M0) - Controlling a tidy-up robot\\n\\nA tidy-up robot is used to tidy up a room - collect garbage, sort stuff, etc. \\nIn milestone 0, you have the task to steer such a tidy-up robot across a room with barriers.\\nThe room is square-shaped. In the following image, you see a how th</th>\n",
       "      <td>21</td>\n",
       "    </tr>\n",
       "    <tr>\n",
       "      <th>## Milestone 0 (M0) - Controlling a mining machine\\n\\nA mining machine is used to collect minerals from a mining field, like copper, cobalt, lithium, etc. \\nIn milestone 0, you have the task to steer such a mining machine across a field with walls.\\nThe field is square-shaped. In the following</th>\n",
       "      <td>19</td>\n",
       "    </tr>\n",
       "    <tr>\n",
       "      <th>## Milestone 0 (M0) - Controlling a tidy-up robot\\n\\nA tidy-up robot is used to tidy up a room - collect garbage, sort stuff, etc. \\nIn milestone 0, you have the task to steer such a tidy-up robot across a room with walls.\\nThe room is square-shaped. In the following image, you see a how the r</th>\n",
       "      <td>17</td>\n",
       "    </tr>\n",
       "    <tr>\n",
       "      <th>## Milestone 0 (M0) - Controlling a maintenance droid\\n\\nA maintenance droid is used to fix minor problems - reconnect loose plugs, switch broken light bulbs, etc. \\nIn milestone 0, you have the task to steer such a maintenance droid across a spaceship deck with barriers.\\nThe spaceship deck i</th>\n",
       "      <td>15</td>\n",
       "    </tr>\n",
       "    <tr>\n",
       "      <th>## Milestone 0 (M0) - Controlling a cleaning device\\n\\nA cleaning device is used to clean a given space - vacuum it, remove food stains, etc. \\nIn milestone 0, you have the task to steer such a cleaning device across a space with obstacles.\\nThe space is square-shaped. In the following image,</th>\n",
       "      <td>14</td>\n",
       "    </tr>\n",
       "    <tr>\n",
       "      <th>## Milestone 0 (M0) - Controlling a mining machine\\n\\nA mining machine is used to collect minerals from a mining field, like copper, cobalt, lithium, etc. \\nIn milestone 0, you have the task to steer such a mining machine across a field with barriers.\\nThe field is square-shaped. In the follow</th>\n",
       "      <td>13</td>\n",
       "    </tr>\n",
       "    <tr>\n",
       "      <th>## Milestone 0 (M0) - Controlling a maintenance droid\\n\\nA maintenance droid is used to fix minor problems - reconnect loose plugs, switch broken light bulbs, etc. \\nIn milestone 0, you have the task to steer such a maintenance droid across a spaceship deck with obstacles.\\nThe spaceship deck</th>\n",
       "      <td>12</td>\n",
       "    </tr>\n",
       "    <tr>\n",
       "      <th>## Milestone 0 (M0) - Controlling a tidy-up robot\\n\\nA tidy-up robot is used to tidy up a room - collect garbage, sort stuff, etc. \\nIn milestone 0, you have the task to steer such a tidy-up robot across a room with obstacles.\\nThe room is square-shaped. In the following image, you see a how t</th>\n",
       "      <td>12</td>\n",
       "    </tr>\n",
       "    <tr>\n",
       "      <th>## Milestone 0 (M0) - Controlling a cleaning device\\n\\nA cleaning device is used to clean a given space - vacuum it, remove food stains, etc. \\nIn milestone 0, you have the task to steer such a cleaning device across a space with walls.\\nThe space is square-shaped. In the following image, you</th>\n",
       "      <td>11</td>\n",
       "    </tr>\n",
       "    <tr>\n",
       "      <th>## Milestone 0 (M0) - Controlling a maintenance droid\\n\\nA maintenance droid is used to fix minor problems - reconnect loose plugs, switch broken light bulbs, etc. \\nIn milestone 0, you have the task to steer such a maintenance droid across a spaceship deck with walls.\\nThe spaceship deck is s</th>\n",
       "      <td>8</td>\n",
       "    </tr>\n",
       "    <tr>\n",
       "      <th>## Milestone 0 (M0) - Controlling a cleaning device\\n\\nA cleaning device is used to clean a given space - vacuum it, remove food stains, etc. \\nIn milestone 0, you have the task to steer such a cleaning device across a space with barriers.\\nThe space is square-shaped. In the following image, y</th>\n",
       "      <td>8</td>\n",
       "    </tr>\n",
       "    <tr>\n",
       "      <th>## Milestone 0 (M0) - Controlling a mining machine\\n\\nA mining machine is used to collect minerals from a mining field, like copper, cobalt, lithium, etc. \\nIn milestone 0, you have the task to steer such a mining machine across a field with obstacles.\\nThe field is square-shaped. In the follo</th>\n",
       "      <td>7</td>\n",
       "    </tr>\n",
       "  </tbody>\n",
       "</table>\n",
       "</div>"
      ],
      "text/plain": [
       "                                                    Count\n",
       "## Milestone 0 (M0) - Controlling a tidy-up rob...     21\n",
       "## Milestone 0 (M0) - Controlling a mining mach...     19\n",
       "## Milestone 0 (M0) - Controlling a tidy-up rob...     17\n",
       "## Milestone 0 (M0) - Controlling a maintenance...     15\n",
       "## Milestone 0 (M0) - Controlling a cleaning de...     14\n",
       "## Milestone 0 (M0) - Controlling a mining mach...     13\n",
       "## Milestone 0 (M0) - Controlling a maintenance...     12\n",
       "## Milestone 0 (M0) - Controlling a tidy-up rob...     12\n",
       "## Milestone 0 (M0) - Controlling a cleaning de...     11\n",
       "## Milestone 0 (M0) - Controlling a maintenance...      8\n",
       "## Milestone 0 (M0) - Controlling a cleaning de...      8\n",
       "## Milestone 0 (M0) - Controlling a mining mach...      7"
      ]
     },
     "execution_count": 15,
     "metadata": {},
     "output_type": "execute_result"
    }
   ],
   "source": [
    "pd.DataFrame(pd.Series(scenario[510:800] for scenario in scenario_instructions).value_counts(),columns=[\"Count\"])"
   ]
  }
 ],
 "metadata": {
  "kernelspec": {
   "display_name": "Python 3 (ipykernel)",
   "language": "python",
   "name": "python3"
  },
  "language_info": {
   "codemirror_mode": {
    "name": "ipython",
    "version": 3
   },
   "file_extension": ".py",
   "mimetype": "text/x-python",
   "name": "python",
   "nbconvert_exporter": "python",
   "pygments_lexer": "ipython3",
   "version": "3.9.12"
  }
 },
 "nbformat": 4,
 "nbformat_minor": 5
}
