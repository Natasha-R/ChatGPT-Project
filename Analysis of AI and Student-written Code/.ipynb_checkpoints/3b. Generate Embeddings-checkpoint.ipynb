{
 "cells": [
  {
   "cell_type": "code",
   "execution_count": 1,
   "id": "126ac8f6-15c6-43bb-add6-f7f0707fdb32",
   "metadata": {
    "tags": []
   },
   "outputs": [],
   "source": [
    "import pandas as pd\n",
    "import numpy as np\n",
    "import scipy as sp\n",
    "import tiktoken\n",
    "import openai\n",
    "import time\n",
    "from openai.embeddings_utils import get_embedding"
   ]
  },
  {
   "cell_type": "markdown",
   "id": "498a9c2c-95f0-4715-8ae0-42c25b52b7c6",
   "metadata": {},
   "source": [
    "Getting the embeddings from the api:"
   ]
  },
  {
   "cell_type": "code",
   "execution_count": 3,
   "id": "f5bf1b7c-c91b-40cf-bcfc-24e319a94fee",
   "metadata": {
    "tags": []
   },
   "outputs": [],
   "source": [
    "def get_embeddings(code):\n",
    "    embeddings = []\n",
    "    for solution in code:\n",
    "        embeddings.append(get_embedding(solution, engine=embedding_model))\n",
    "        time.sleep(1)\n",
    "    return embeddings"
   ]
  },
  {
   "cell_type": "markdown",
   "id": "d268a392-27b3-4ce6-95fd-5b9e245751af",
   "metadata": {},
   "source": [
    "### Generating embeddings for the ST2 M0 solutions:"
   ]
  },
  {
   "cell_type": "code",
   "execution_count": 9,
   "id": "7277b691-8094-4461-bb31-ca5357f92e11",
   "metadata": {},
   "outputs": [],
   "source": [
    "m0_data = pd.read_csv(\"ss21_processed_solutions/m0_data.csv\")\n",
    "m0_code = list(m0_data[\"code\"])"
   ]
  },
  {
   "cell_type": "markdown",
   "id": "31e0bb70-3e39-49a8-8b94-8e6fb9f69646",
   "metadata": {},
   "source": [
    "Calculating how many tokens will be embedded:"
   ]
  },
  {
   "cell_type": "code",
   "execution_count": 7,
   "id": "0b84012d-e08a-4853-aade-92790a897be4",
   "metadata": {
    "tags": []
   },
   "outputs": [],
   "source": [
    "embedding_model = \"text-embedding-ada-002\"\n",
    "embedding_encoding = \"cl100k_base\""
   ]
  },
  {
   "cell_type": "code",
   "execution_count": 10,
   "id": "170684d7-2394-4549-a8d6-82a223ecb385",
   "metadata": {
    "tags": []
   },
   "outputs": [],
   "source": [
    "encoding = tiktoken.get_encoding(embedding_encoding)\n",
    "num_tokens = [len(encoding.encode(code)) for code in m0_code]"
   ]
  },
  {
   "cell_type": "code",
   "execution_count": 11,
   "id": "2249d0a9-27b4-424f-ae7b-ccc382445392",
   "metadata": {
    "tags": []
   },
   "outputs": [
    {
     "name": "stdout",
     "output_type": "stream",
     "text": [
      "largest number of tokens: 4911\n",
      "total number of tokens: 194030\n",
      "total cost: $ 0.077612\n"
     ]
    }
   ],
   "source": [
    "print(\"largest number of tokens:\", max(num_tokens))\n",
    "print(\"total number of tokens:\", sum(num_tokens))\n",
    "print(\"total cost: $\", sum(num_tokens)/1000*0.0004)"
   ]
  },
  {
   "cell_type": "raw",
   "id": "480bfe5e-0423-4e08-a6a4-6d19d9040044",
   "metadata": {},
   "source": [
    "m0_embeddings = get_embeddings(m0_code)"
   ]
  },
  {
   "cell_type": "code",
   "execution_count": 27,
   "id": "0611c2c6-24bb-43f8-936f-250a11222f4b",
   "metadata": {},
   "outputs": [],
   "source": [
    "m0_data[\"embedding\"] = m0_embeddings\n",
    "m0_data = pd.concat([m0_data, pd.DataFrame(m0_embeddings)], axis=1)"
   ]
  },
  {
   "cell_type": "code",
   "execution_count": 31,
   "id": "143046e3-06a7-4173-a462-91732ad312eb",
   "metadata": {},
   "outputs": [],
   "source": [
    "m0_data.to_csv(\"ss21_processed_solutions/m0_embedding_data.csv\", index=False)"
   ]
  },
  {
   "cell_type": "markdown",
   "id": "3d2541cd-9895-4e2c-bf8a-e03fed65ee33",
   "metadata": {},
   "source": [
    "### Generating embeddings for the modified solutions:"
   ]
  },
  {
   "cell_type": "code",
   "execution_count": 4,
   "id": "1ee657b6-a681-42e4-8feb-2efcb3264be3",
   "metadata": {
    "tags": []
   },
   "outputs": [],
   "source": [
    "optimised_data = pd.read_csv(\"ss21_processed_solutions/optimised_data.csv\")\n",
    "optimised_code = list(optimised_data[\"code\"])"
   ]
  },
  {
   "cell_type": "raw",
   "id": "42990a31-48be-4837-a504-4349db0ce4f8",
   "metadata": {
    "tags": []
   },
   "source": [
    "optimised_embeddings = get_embeddings(optimised_code)"
   ]
  },
  {
   "cell_type": "code",
   "execution_count": 13,
   "id": "e274c489-0cb8-46da-8b3c-b6d2c68e8a77",
   "metadata": {
    "tags": []
   },
   "outputs": [],
   "source": [
    "optimised_data[\"embedding\"] = optimised_embeddings\n",
    "optimised_data = pd.concat([optimised_data.reset_index(drop=True), pd.DataFrame(optimised_embeddings)], axis=1)"
   ]
  },
  {
   "cell_type": "code",
   "execution_count": 14,
   "id": "ebaf1984-b1c7-4e21-af5a-1a2707c0bb44",
   "metadata": {
    "tags": []
   },
   "outputs": [],
   "source": [
    "optimised_data.to_csv(\"ss21_processed_solutions/optimised_embedding_data.csv\", index=False)"
   ]
  }
 ],
 "metadata": {
  "kernelspec": {
   "display_name": "Python 3 (ipykernel)",
   "language": "python",
   "name": "python3"
  },
  "language_info": {
   "codemirror_mode": {
    "name": "ipython",
    "version": 3
   },
   "file_extension": ".py",
   "mimetype": "text/x-python",
   "name": "python",
   "nbconvert_exporter": "python",
   "pygments_lexer": "ipython3",
   "version": "3.9.12"
  }
 },
 "nbformat": 4,
 "nbformat_minor": 5
}
