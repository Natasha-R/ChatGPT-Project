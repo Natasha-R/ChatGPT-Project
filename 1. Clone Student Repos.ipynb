{
 "cells": [
  {
   "cell_type": "code",
   "execution_count": 1,
   "id": "0fca6986-9746-4a13-887c-aff66ebad8fd",
   "metadata": {
    "tags": []
   },
   "outputs": [],
   "source": [
    "import gitlab\n",
    "from git import Repo\n",
    "import os\n",
    "import pandas as pd\n",
    "import time\n",
    "import shutil\n",
    "import stat"
   ]
  },
  {
   "cell_type": "markdown",
   "id": "0ebaea94-09ac-44aa-ab88-d7b0a2277e22",
   "metadata": {},
   "source": [
    "## Downloading the student solutions"
   ]
  },
  {
   "cell_type": "markdown",
   "id": "f83d1f98-8115-4a2f-8573-c6924343842a",
   "metadata": {},
   "source": [
    "Import the list of repo URLS for each milestone:"
   ]
  },
  {
   "cell_type": "code",
   "execution_count": 2,
   "id": "a4c61faa-4681-440d-b8a4-d57e1b73f3a7",
   "metadata": {
    "tags": []
   },
   "outputs": [],
   "source": [
    "milestone_lists = [pd.read_csv(\"student_repos_list/st2m0.csv\"),\n",
    "                   pd.read_csv(\"student_repos_list/st2m1.csv\"),\n",
    "                   pd.read_csv(\"student_repos_list/st2m2.csv\"),\n",
    "                   pd.read_csv(\"student_repos_list/st2m3.csv\"),\n",
    "                   pd.read_csv(\"student_repos_list/st2m4.csv\")]\n",
    "milestone_names = [\"m0\", \"m1\", \"m2\", \"m3\", \"m4\"]"
   ]
  },
  {
   "cell_type": "markdown",
   "id": "bed269ed-5340-4968-bc49-b9f5ec53d809",
   "metadata": {},
   "source": [
    "Clone every solution repo:"
   ]
  },
  {
   "cell_type": "code",
   "execution_count": 4,
   "id": "2eaee4e5-56be-4509-8a42-9ecfb32e09e5",
   "metadata": {
    "tags": []
   },
   "outputs": [],
   "source": [
    "token = os.environ.get(\"GITLAB_ACCESS_TOKEN\")\n",
    "gl = gitlab.Gitlab('https://git.st.archi-lab.io/', private_token=token)\n",
    "\n",
    "for milestone, milestone_name in zip(milestone_lists, milestone_names):\n",
    "    for repo, student_name in zip(milestone[\"Code Repo\"], milestone[\"Student\"]):\n",
    "        repo_url = repo + \".git\"\n",
    "        Repo.clone_from(repo_url, f\"ss21_raw_solutions/student_solutions/{milestone_name}_{student_name.strip()}\")\n",
    "        time.sleep(0.06)"
   ]
  },
  {
   "cell_type": "markdown",
   "id": "47a475e8-1480-4e70-a676-f9147fffafdd",
   "metadata": {},
   "source": [
    "Check the repos were cloned correctly:"
   ]
  },
  {
   "cell_type": "code",
   "execution_count": 5,
   "id": "196cea3b-748b-4ae2-a7a7-9c16094d11b4",
   "metadata": {
    "tags": []
   },
   "outputs": [],
   "source": [
    "# generate all of the unique repos that were cloned\n",
    "# list the milestone and student names from the directory\n",
    "cloned_repos = pd.Series(os.listdir(\"ss21_raw_solutions/student_solutions\")).str.split(\"_\", expand=True)\n",
    "cloned_repos = cloned_repos.rename(columns={0:\"Milestone\", 1:\"Student\"}).sort_values([\"Milestone\", \"Student\"]).reset_index(drop=True)"
   ]
  },
  {
   "cell_type": "code",
   "execution_count": 6,
   "id": "fc3c2cb4-c93f-46c0-9834-2cc0ce1d1ff3",
   "metadata": {
    "tags": []
   },
   "outputs": [],
   "source": [
    "# generate all of the unique repos from the list of URLS\n",
    "# add the milestone name to student name \\ for every milestone\n",
    "URL_repos = pd.concat([pd.concat([pd.Series([milestone_name]*len(milestone[\"Student\"])), milestone[\"Student\"].str.strip()], axis=1)\\\n",
    "                       for milestone_name, milestone in zip(milestone_names, milestone_lists)])\n",
    "URL_repos = URL_repos.rename(columns={0:\"Milestone\"}).sort_values([\"Milestone\", \"Student\"]).reset_index(drop=True)"
   ]
  },
  {
   "cell_type": "code",
   "execution_count": 7,
   "id": "64b31b86-feac-44c2-a073-2ca50837eab0",
   "metadata": {},
   "outputs": [
    {
     "data": {
      "text/plain": [
       "True"
      ]
     },
     "execution_count": 7,
     "metadata": {},
     "output_type": "execute_result"
    }
   ],
   "source": [
    "cloned_repos.equals(URL_repos)"
   ]
  },
  {
   "cell_type": "markdown",
   "id": "11f7c032-6b5b-43fb-8252-4506ef4ce833",
   "metadata": {},
   "source": [
    "## Downloading the students' hidden tests"
   ]
  },
  {
   "cell_type": "markdown",
   "id": "e32c5d03-c2dd-4914-9f01-b6944bb86b79",
   "metadata": {},
   "source": [
    "Cloning the test repos:"
   ]
  },
  {
   "cell_type": "code",
   "execution_count": 3,
   "id": "2bffd223-87c1-42e5-b411-830296d43b09",
   "metadata": {
    "tags": []
   },
   "outputs": [],
   "source": [
    "m0_students = milestone_lists[0][\"Student\"]\n",
    "m0_tests =  milestone_lists[0][\"Test Repo\"]"
   ]
  },
  {
   "cell_type": "code",
   "execution_count": 14,
   "id": "8c1204ed-811a-4569-8447-a1e35bd92147",
   "metadata": {
    "tags": []
   },
   "outputs": [],
   "source": [
    "for student_name, test_repo in zip(m0_students, m0_tests):\n",
    "    repo_url = test_repo + \".git\"\n",
    "    Repo.clone_from(repo_url, f\"ss21_raw_solutions/student_tests/test_{student_name.strip()}\")\n",
    "    time.sleep(0.06)"
   ]
  },
  {
   "cell_type": "markdown",
   "id": "062f87d5-021e-428e-b42d-4d530ad14d79",
   "metadata": {},
   "source": [
    "Moving the hidden test files into the student solutions:"
   ]
  },
  {
   "cell_type": "code",
   "execution_count": 4,
   "id": "73cdcd27-5d6c-4579-acfd-85f575646801",
   "metadata": {
    "tags": []
   },
   "outputs": [],
   "source": [
    "with open(\"student_repos_list/student_anonymised_dict.json\", 'r') as json_file:\n",
    "    id_to_student = json.load(json_file)"
   ]
  },
  {
   "cell_type": "code",
   "execution_count": 7,
   "id": "3d090dbd-d948-44b8-81ce-3f3c76b22214",
   "metadata": {
    "tags": []
   },
   "outputs": [],
   "source": [
    "for student_id, student_name in id_to_student.items():\n",
    "    test_path = f\"ss21_raw_solutions/student_tests/test_{student_name}/src/test/java/thkoeln/st/st2praktikum/exercise/Exercise0HiddenTests.java\"\n",
    "    solution_path = f\"ss21_raw_solutions/student_solutions/m0_{student_id}/src/test/java/thkoeln/st/st2praktikum/exercise\"\n",
    "    shutil.copy(test_path, solution_path)"
   ]
  }
 ],
 "metadata": {
  "kernelspec": {
   "display_name": "Python 3 (ipykernel)",
   "language": "python",
   "name": "python3"
  },
  "language_info": {
   "codemirror_mode": {
    "name": "ipython",
    "version": 3
   },
   "file_extension": ".py",
   "mimetype": "text/x-python",
   "name": "python",
   "nbconvert_exporter": "python",
   "pygments_lexer": "ipython3",
   "version": "3.9.12"
  }
 },
 "nbformat": 4,
 "nbformat_minor": 5
}
