{
 "cells": [
  {
   "cell_type": "code",
   "execution_count": 14,
   "id": "c05353c5-4a34-435f-9b19-9736711382e5",
   "metadata": {
    "tags": []
   },
   "outputs": [],
   "source": [
    "import pandas as pd \n",
    "import seaborn as sns\n",
    "import matplotlib.pyplot as plt\n",
    "from matplotlib.ticker import EngFormatter, StrMethodFormatter"
   ]
  },
  {
   "cell_type": "markdown",
   "id": "2eb1ef00-941f-4993-8981-52f723349d42",
   "metadata": {},
   "source": [
    "Create a dataset indicating which of the four default tests were passed by which code:"
   ]
  },
  {
   "cell_type": "code",
   "execution_count": 15,
   "id": "094bbdf7-912f-49cb-ae80-d94218ca5c95",
   "metadata": {
    "tags": []
   },
   "outputs": [],
   "source": [
    "data = pd.read_csv(\"processed_solutions/m0_data.csv\")\n",
    "tests = pd.read_csv(\"processed_solutions/passing_test.csv\")"
   ]
  },
  {
   "cell_type": "code",
   "execution_count": 16,
   "id": "8cc7c31d-84ba-45cc-8f0e-5101bbe6f033",
   "metadata": {
    "tags": []
   },
   "outputs": [],
   "source": [
    "if len(tests)<len(data):\n",
    "    print(\"NEED TO UPDATE THE PASSING TESTS FILE!\")\n",
    "else:\n",
    "    test_results = data.merge(tests, how=\"left\", on=[\"name\", \"source\", \"style\", \"version\"])\n",
    "    test_results[\"num_tests_passed\"] = test_results[[\"test_1\", \"test_2\", \"hidden_test_1\", \"hidden_test_2\"]].sum(axis=1)\n",
    "    test_results[\"%_tests_passed\"] = test_results[\"num_tests_passed\"]/4*100\n",
    "    test_results[\"version\"] = test_results[\"version\"].fillna(test_results[\"source\"])"
   ]
  },
  {
   "cell_type": "markdown",
   "id": "fd983799-4111-40e0-a9db-f9875a543d2b",
   "metadata": {},
   "source": [
    "### Differences in passing tests, by different sources/model versions:"
   ]
  },
  {
   "cell_type": "code",
   "execution_count": 17,
   "id": "b997bb11-9afa-4b48-8b09-1c08506089cf",
   "metadata": {
    "tags": []
   },
   "outputs": [],
   "source": [
    "mean_num_tests_passed = test_results.groupby(\"version\").agg({\"num_tests_passed\":\"mean\", \"%_tests_passed\":\"mean\", \"source\":\"min\"}).reset_index().sort_values(\"%_tests_passed\")"
   ]
  },
  {
   "cell_type": "code",
   "execution_count": 20,
   "id": "653fc7ef-03f0-480d-81a3-43b9fe05e1d2",
   "metadata": {
    "tags": []
   },
   "outputs": [
    {
     "data": {
      "text/html": [
       "<div>\n",
       "<style scoped>\n",
       "    .dataframe tbody tr th:only-of-type {\n",
       "        vertical-align: middle;\n",
       "    }\n",
       "\n",
       "    .dataframe tbody tr th {\n",
       "        vertical-align: top;\n",
       "    }\n",
       "\n",
       "    .dataframe thead th {\n",
       "        text-align: right;\n",
       "    }\n",
       "</style>\n",
       "<table border=\"1\" class=\"dataframe\">\n",
       "  <thead>\n",
       "    <tr style=\"text-align: right;\">\n",
       "      <th></th>\n",
       "      <th>name</th>\n",
       "      <th>source</th>\n",
       "      <th>style</th>\n",
       "      <th>version</th>\n",
       "      <th>code</th>\n",
       "      <th>test_1</th>\n",
       "      <th>test_2</th>\n",
       "      <th>hidden_test_1</th>\n",
       "      <th>hidden_test_2</th>\n",
       "      <th>num_tests_passed</th>\n",
       "      <th>%_tests_passed</th>\n",
       "    </tr>\n",
       "  </thead>\n",
       "  <tbody>\n",
       "    <tr>\n",
       "      <th>0</th>\n",
       "      <td>1</td>\n",
       "      <td>gpt3.5</td>\n",
       "      <td>plain</td>\n",
       "      <td>gpt3.5</td>\n",
       "      <td>package thkoeln.st.st2praktikum.exercise;\\n\\np...</td>\n",
       "      <td>False</td>\n",
       "      <td>False</td>\n",
       "      <td>False</td>\n",
       "      <td>True</td>\n",
       "      <td>1.0</td>\n",
       "      <td>25.0</td>\n",
       "    </tr>\n",
       "    <tr>\n",
       "      <th>1</th>\n",
       "      <td>10</td>\n",
       "      <td>gpt3.5</td>\n",
       "      <td>plain</td>\n",
       "      <td>gpt3.5</td>\n",
       "      <td>package thkoeln.st.st2praktikum.exercise;\\n\\np...</td>\n",
       "      <td>True</td>\n",
       "      <td>False</td>\n",
       "      <td>False</td>\n",
       "      <td>False</td>\n",
       "      <td>1.0</td>\n",
       "      <td>25.0</td>\n",
       "    </tr>\n",
       "    <tr>\n",
       "      <th>2</th>\n",
       "      <td>11</td>\n",
       "      <td>gpt3.5</td>\n",
       "      <td>cc</td>\n",
       "      <td>gpt3.5</td>\n",
       "      <td>package thkoeln.st.st2praktikum.exercise;\\n\\ni...</td>\n",
       "      <td>False</td>\n",
       "      <td>False</td>\n",
       "      <td>False</td>\n",
       "      <td>False</td>\n",
       "      <td>0.0</td>\n",
       "      <td>0.0</td>\n",
       "    </tr>\n",
       "    <tr>\n",
       "      <th>3</th>\n",
       "      <td>12</td>\n",
       "      <td>gpt3.5</td>\n",
       "      <td>cc</td>\n",
       "      <td>gpt3.5</td>\n",
       "      <td>package thkoeln.st.st2praktikum.exercise;\\n\\np...</td>\n",
       "      <td>False</td>\n",
       "      <td>False</td>\n",
       "      <td>False</td>\n",
       "      <td>False</td>\n",
       "      <td>0.0</td>\n",
       "      <td>0.0</td>\n",
       "    </tr>\n",
       "    <tr>\n",
       "      <th>4</th>\n",
       "      <td>13</td>\n",
       "      <td>gpt3.5</td>\n",
       "      <td>cc</td>\n",
       "      <td>gpt3.5</td>\n",
       "      <td>package thkoeln.st.st2praktikum.exercise;\\n\\ni...</td>\n",
       "      <td>False</td>\n",
       "      <td>False</td>\n",
       "      <td>False</td>\n",
       "      <td>False</td>\n",
       "      <td>0.0</td>\n",
       "      <td>0.0</td>\n",
       "    </tr>\n",
       "    <tr>\n",
       "      <th>...</th>\n",
       "      <td>...</td>\n",
       "      <td>...</td>\n",
       "      <td>...</td>\n",
       "      <td>...</td>\n",
       "      <td>...</td>\n",
       "      <td>...</td>\n",
       "      <td>...</td>\n",
       "      <td>...</td>\n",
       "      <td>...</td>\n",
       "      <td>...</td>\n",
       "      <td>...</td>\n",
       "    </tr>\n",
       "    <tr>\n",
       "      <th>194</th>\n",
       "      <td>student92</td>\n",
       "      <td>student</td>\n",
       "      <td>NaN</td>\n",
       "      <td>student</td>\n",
       "      <td>package thkoeln.st.st2praktikum.exercise;\\n\\np...</td>\n",
       "      <td>True</td>\n",
       "      <td>True</td>\n",
       "      <td>True</td>\n",
       "      <td>True</td>\n",
       "      <td>4.0</td>\n",
       "      <td>100.0</td>\n",
       "    </tr>\n",
       "    <tr>\n",
       "      <th>195</th>\n",
       "      <td>student94</td>\n",
       "      <td>student</td>\n",
       "      <td>NaN</td>\n",
       "      <td>student</td>\n",
       "      <td>package thkoeln.st.st2praktikum.exercise;\\npub...</td>\n",
       "      <td>True</td>\n",
       "      <td>True</td>\n",
       "      <td>True</td>\n",
       "      <td>True</td>\n",
       "      <td>4.0</td>\n",
       "      <td>100.0</td>\n",
       "    </tr>\n",
       "    <tr>\n",
       "      <th>196</th>\n",
       "      <td>student96</td>\n",
       "      <td>student</td>\n",
       "      <td>NaN</td>\n",
       "      <td>student</td>\n",
       "      <td>package thkoeln.st.st2praktikum.exercise;\\n\\np...</td>\n",
       "      <td>True</td>\n",
       "      <td>True</td>\n",
       "      <td>True</td>\n",
       "      <td>True</td>\n",
       "      <td>4.0</td>\n",
       "      <td>100.0</td>\n",
       "    </tr>\n",
       "    <tr>\n",
       "      <th>197</th>\n",
       "      <td>student97</td>\n",
       "      <td>student</td>\n",
       "      <td>NaN</td>\n",
       "      <td>student</td>\n",
       "      <td>package thkoeln.st.st2praktikum.exercise;\\n\\n\\...</td>\n",
       "      <td>True</td>\n",
       "      <td>True</td>\n",
       "      <td>True</td>\n",
       "      <td>True</td>\n",
       "      <td>4.0</td>\n",
       "      <td>100.0</td>\n",
       "    </tr>\n",
       "    <tr>\n",
       "      <th>198</th>\n",
       "      <td>student98</td>\n",
       "      <td>student</td>\n",
       "      <td>NaN</td>\n",
       "      <td>student</td>\n",
       "      <td>package thkoeln.st.st2praktikum.exercise;\\n\\na...</td>\n",
       "      <td>True</td>\n",
       "      <td>True</td>\n",
       "      <td>True</td>\n",
       "      <td>True</td>\n",
       "      <td>4.0</td>\n",
       "      <td>100.0</td>\n",
       "    </tr>\n",
       "  </tbody>\n",
       "</table>\n",
       "<p>199 rows × 11 columns</p>\n",
       "</div>"
      ],
      "text/plain": [
       "          name   source  style  version  \\\n",
       "0            1   gpt3.5  plain   gpt3.5   \n",
       "1           10   gpt3.5  plain   gpt3.5   \n",
       "2           11   gpt3.5     cc   gpt3.5   \n",
       "3           12   gpt3.5     cc   gpt3.5   \n",
       "4           13   gpt3.5     cc   gpt3.5   \n",
       "..         ...      ...    ...      ...   \n",
       "194  student92  student    NaN  student   \n",
       "195  student94  student    NaN  student   \n",
       "196  student96  student    NaN  student   \n",
       "197  student97  student    NaN  student   \n",
       "198  student98  student    NaN  student   \n",
       "\n",
       "                                                  code test_1 test_2  \\\n",
       "0    package thkoeln.st.st2praktikum.exercise;\\n\\np...  False  False   \n",
       "1    package thkoeln.st.st2praktikum.exercise;\\n\\np...   True  False   \n",
       "2    package thkoeln.st.st2praktikum.exercise;\\n\\ni...  False  False   \n",
       "3    package thkoeln.st.st2praktikum.exercise;\\n\\np...  False  False   \n",
       "4    package thkoeln.st.st2praktikum.exercise;\\n\\ni...  False  False   \n",
       "..                                                 ...    ...    ...   \n",
       "194  package thkoeln.st.st2praktikum.exercise;\\n\\np...   True   True   \n",
       "195  package thkoeln.st.st2praktikum.exercise;\\npub...   True   True   \n",
       "196  package thkoeln.st.st2praktikum.exercise;\\n\\np...   True   True   \n",
       "197  package thkoeln.st.st2praktikum.exercise;\\n\\n\\...   True   True   \n",
       "198  package thkoeln.st.st2praktikum.exercise;\\n\\na...   True   True   \n",
       "\n",
       "    hidden_test_1 hidden_test_2  num_tests_passed  %_tests_passed  \n",
       "0           False          True               1.0            25.0  \n",
       "1           False         False               1.0            25.0  \n",
       "2           False         False               0.0             0.0  \n",
       "3           False         False               0.0             0.0  \n",
       "4           False         False               0.0             0.0  \n",
       "..            ...           ...               ...             ...  \n",
       "194          True          True               4.0           100.0  \n",
       "195          True          True               4.0           100.0  \n",
       "196          True          True               4.0           100.0  \n",
       "197          True          True               4.0           100.0  \n",
       "198          True          True               4.0           100.0  \n",
       "\n",
       "[199 rows x 11 columns]"
      ]
     },
     "execution_count": 20,
     "metadata": {},
     "output_type": "execute_result"
    }
   ],
   "source": [
    "test_results"
   ]
  },
  {
   "cell_type": "code",
   "execution_count": 25,
   "id": "5f51f8e0-93f7-4704-9e7b-9083c2eca819",
   "metadata": {
    "tags": []
   },
   "outputs": [
    {
     "data": {
      "text/html": [
       "<div>\n",
       "<style scoped>\n",
       "    .dataframe tbody tr th:only-of-type {\n",
       "        vertical-align: middle;\n",
       "    }\n",
       "\n",
       "    .dataframe tbody tr th {\n",
       "        vertical-align: top;\n",
       "    }\n",
       "\n",
       "    .dataframe thead th {\n",
       "        text-align: right;\n",
       "    }\n",
       "</style>\n",
       "<table border=\"1\" class=\"dataframe\">\n",
       "  <thead>\n",
       "    <tr style=\"text-align: right;\">\n",
       "      <th></th>\n",
       "      <th>num_tests_passed</th>\n",
       "      <th>%_tests_passed</th>\n",
       "    </tr>\n",
       "    <tr>\n",
       "      <th>source</th>\n",
       "      <th></th>\n",
       "      <th></th>\n",
       "    </tr>\n",
       "  </thead>\n",
       "  <tbody>\n",
       "    <tr>\n",
       "      <th>bard</th>\n",
       "      <td>0.058824</td>\n",
       "      <td>1.470588</td>\n",
       "    </tr>\n",
       "    <tr>\n",
       "      <th>bing</th>\n",
       "      <td>1.035714</td>\n",
       "      <td>25.892857</td>\n",
       "    </tr>\n",
       "    <tr>\n",
       "      <th>gpt3.5</th>\n",
       "      <td>0.263158</td>\n",
       "      <td>6.578947</td>\n",
       "    </tr>\n",
       "    <tr>\n",
       "      <th>gpt4</th>\n",
       "      <td>1.161290</td>\n",
       "      <td>29.032258</td>\n",
       "    </tr>\n",
       "    <tr>\n",
       "      <th>student</th>\n",
       "      <td>3.923077</td>\n",
       "      <td>98.076923</td>\n",
       "    </tr>\n",
       "  </tbody>\n",
       "</table>\n",
       "</div>"
      ],
      "text/plain": [
       "         num_tests_passed  %_tests_passed\n",
       "source                                   \n",
       "bard             0.058824        1.470588\n",
       "bing             1.035714       25.892857\n",
       "gpt3.5           0.263158        6.578947\n",
       "gpt4             1.161290       29.032258\n",
       "student          3.923077       98.076923"
      ]
     },
     "execution_count": 25,
     "metadata": {},
     "output_type": "execute_result"
    }
   ],
   "source": [
    "test_results.groupby(\"source\").mean()"
   ]
  },
  {
   "cell_type": "code",
   "execution_count": 24,
   "id": "c7da54e0-d158-4129-a0de-12be250ed44e",
   "metadata": {
    "tags": []
   },
   "outputs": [
    {
     "data": {
      "text/html": [
       "<div>\n",
       "<style scoped>\n",
       "    .dataframe tbody tr th:only-of-type {\n",
       "        vertical-align: middle;\n",
       "    }\n",
       "\n",
       "    .dataframe tbody tr th {\n",
       "        vertical-align: top;\n",
       "    }\n",
       "\n",
       "    .dataframe thead th {\n",
       "        text-align: right;\n",
       "    }\n",
       "</style>\n",
       "<table border=\"1\" class=\"dataframe\">\n",
       "  <thead>\n",
       "    <tr style=\"text-align: right;\">\n",
       "      <th></th>\n",
       "      <th>num_tests_passed</th>\n",
       "      <th>%_tests_passed</th>\n",
       "    </tr>\n",
       "    <tr>\n",
       "      <th>version</th>\n",
       "      <th></th>\n",
       "      <th></th>\n",
       "    </tr>\n",
       "  </thead>\n",
       "  <tbody>\n",
       "    <tr>\n",
       "      <th>balanced</th>\n",
       "      <td>1.142857</td>\n",
       "      <td>28.571429</td>\n",
       "    </tr>\n",
       "    <tr>\n",
       "      <th>bard</th>\n",
       "      <td>0.058824</td>\n",
       "      <td>1.470588</td>\n",
       "    </tr>\n",
       "    <tr>\n",
       "      <th>concise</th>\n",
       "      <td>1.111111</td>\n",
       "      <td>27.777778</td>\n",
       "    </tr>\n",
       "    <tr>\n",
       "      <th>creative</th>\n",
       "      <td>0.916667</td>\n",
       "      <td>22.916667</td>\n",
       "    </tr>\n",
       "    <tr>\n",
       "      <th>gpt3.5</th>\n",
       "      <td>0.263158</td>\n",
       "      <td>6.578947</td>\n",
       "    </tr>\n",
       "    <tr>\n",
       "      <th>gpt4</th>\n",
       "      <td>1.161290</td>\n",
       "      <td>29.032258</td>\n",
       "    </tr>\n",
       "    <tr>\n",
       "      <th>student</th>\n",
       "      <td>3.923077</td>\n",
       "      <td>98.076923</td>\n",
       "    </tr>\n",
       "  </tbody>\n",
       "</table>\n",
       "</div>"
      ],
      "text/plain": [
       "          num_tests_passed  %_tests_passed\n",
       "version                                   \n",
       "balanced          1.142857       28.571429\n",
       "bard              0.058824        1.470588\n",
       "concise           1.111111       27.777778\n",
       "creative          0.916667       22.916667\n",
       "gpt3.5            0.263158        6.578947\n",
       "gpt4              1.161290       29.032258\n",
       "student           3.923077       98.076923"
      ]
     },
     "execution_count": 24,
     "metadata": {},
     "output_type": "execute_result"
    }
   ],
   "source": [
    "test_results.groupby(\"version\").mean()"
   ]
  },
  {
   "cell_type": "code",
   "execution_count": 40,
   "id": "69ff33cf-e51d-4225-b041-b717878ae48c",
   "metadata": {
    "tags": []
   },
   "outputs": [
    {
     "data": {
      "image/png": "[encoded data removed]",
      "text/plain": [
       "<Figure size 720x432 with 1 Axes>"
      ]
     },
     "metadata": {
      "needs_background": "light"
     },
     "output_type": "display_data"
    }
   ],
   "source": [
    "plt.rcParams.update({\"font.size\": 14})\n",
    "sns.set_palette('Set2')\n",
    "fig, ax = plt.subplots(figsize=(10, 6))\n",
    "sns.barplot(data=mean_num_tests_passed, x=\"source\", y=\"%_tests_passed\",\n",
    "            ci=None, zorder=2, linewidth=1.5, edgecolor=\"0.4\", ax=ax)\n",
    "ax.set_ylabel(\"Average % of tests passed (out of 4 tests)\")\n",
    "ax.set_xlabel(\"Version\", labelpad=10)\n",
    "ax.grid(zorder=-1, alpha=0.5)\n",
    "ax.set_yticks([0, 25, 50, 75, 100])\n",
    "ax.yaxis.set_major_formatter(StrMethodFormatter(u\"{x}%\"))\n",
    "ax.set_title(\"Average % of tests passed - by source\");"
   ]
  },
  {
   "cell_type": "code",
   "execution_count": 27,
   "id": "4e48e90d-bf74-4bba-aeea-0ef1c6723089",
   "metadata": {
    "tags": []
   },
   "outputs": [
    {
     "data": {
      "image/png": "[encoded data removed]",
      "text/plain": [
       "<Figure size 720x432 with 1 Axes>"
      ]
     },
     "metadata": {
      "needs_background": "light"
     },
     "output_type": "display_data"
    }
   ],
   "source": [
    "plt.rcParams.update({\"font.size\": 14})\n",
    "sns.set_palette('Set2')\n",
    "fig, ax = plt.subplots(figsize=(10, 6))\n",
    "sns.barplot(data=mean_num_tests_passed, x=\"version\", y=\"%_tests_passed\", hue=\"source\", \n",
    "            dodge=False, zorder=2, linewidth=1.5, edgecolor=\"0.4\", ax=ax)\n",
    "ax.set_ylabel(\"Average % of tests passed (out of 4 tests)\")\n",
    "ax.set_xlabel(\"Version\", labelpad=10)\n",
    "ax.grid(zorder=-1, alpha=0.5)\n",
    "ax.set_yticks([0, 25, 50, 75, 100])\n",
    "ax.yaxis.set_major_formatter(StrMethodFormatter(u\"{x}%\"))\n",
    "ax.set_title(\"Average % of tests passed - by source\");"
   ]
  },
  {
   "cell_type": "code",
   "execution_count": 36,
   "id": "8788551d-7a25-43f6-8b5f-60b98387ffae",
   "metadata": {
    "tags": []
   },
   "outputs": [
    {
     "data": {
      "image/png": "[encoded data removed]",
      "text/plain": [
       "<Figure size 720x432 with 1 Axes>"
      ]
     },
     "metadata": {
      "needs_background": "light"
     },
     "output_type": "display_data"
    }
   ],
   "source": [
    "sns.set_palette('Set2')\n",
    "fig, ax = plt.subplots(figsize=(10, 6))\n",
    "sns.boxplot(data=test_results, x=\"%_tests_passed\", y=\"source\", \n",
    "            whis=[0, 100], capprops={\"alpha\":0}, linewidth=2.5,\n",
    "            order=[\"bard\", \"gpt3.5\", \"bing\", \"gpt4\", \"student\"])\n",
    "ax.set_axisbelow(True)\n",
    "ax.grid(alpha=0.5)\n",
    "ax.set_xticks([0, 25, 50, 75, 100])\n",
    "ax.xaxis.set_major_formatter(StrMethodFormatter(u\"{x}%\"))\n",
    "ax.set_xlabel(\"% of tests passed (out of 4 tests)\")\n",
    "ax.set_ylabel(\"Source\")\n",
    "ax.set_title(\"% of tests passed - by source\");"
   ]
  },
  {
   "cell_type": "code",
   "execution_count": 39,
   "id": "17eaeee3-a8f4-411a-917a-7af2b6861558",
   "metadata": {
    "tags": []
   },
   "outputs": [
    {
     "data": {
      "image/png": "[encoded data removed]",
      "text/plain": [
       "<Figure size 720x432 with 1 Axes>"
      ]
     },
     "metadata": {
      "needs_background": "light"
     },
     "output_type": "display_data"
    }
   ],
   "source": [
    "sns.set_palette('Set2')\n",
    "fig, ax = plt.subplots(figsize=(10, 6))\n",
    "sns.boxplot(data=test_results, x=\"%_tests_passed\", y=\"version\", hue=\"source\",\n",
    "            dodge=False, whis=[0, 100], capprops={\"alpha\":0}, linewidth=2.5,\n",
    "            order=[\"bard\", \"gpt3.5\", \"creative\", \"concise\", \"balanced\", \"gpt4\", \"student\"],\n",
    "            hue_order=[\"bard\", \"gpt3.5\", \"bing\", \"gpt4\", \"student\"])\n",
    "ax.set_axisbelow(True)\n",
    "ax.grid(alpha=0.5)\n",
    "ax.set_xticks([0, 25, 50, 75, 100])\n",
    "ax.xaxis.set_major_formatter(StrMethodFormatter(u\"{x}%\"))\n",
    "ax.set_xlabel(\"% of tests passed (out of 4 tests)\")\n",
    "ax.set_ylabel(\"Source\")\n",
    "ax.set_title(\"% of tests passed - by source\");"
   ]
  },
  {
   "cell_type": "markdown",
   "id": "b4824a2d-e89a-4d42-ae0f-88f4ae5b17df",
   "metadata": {},
   "source": [
    "### Differences in passing tests, by different styling prompts:"
   ]
  },
  {
   "cell_type": "code",
   "execution_count": 30,
   "id": "0c4d5733-772d-4c47-bd0b-98fe5b64c851",
   "metadata": {
    "tags": []
   },
   "outputs": [],
   "source": [
    "tests_passed_style = test_results.groupby(\"style\").mean().reset_index().sort_values(\"%_tests_passed\")"
   ]
  },
  {
   "cell_type": "code",
   "execution_count": 31,
   "id": "6f385a9b-e688-4735-864b-df11435be260",
   "metadata": {
    "tags": []
   },
   "outputs": [
    {
     "data": {
      "text/html": [
       "<div>\n",
       "<style scoped>\n",
       "    .dataframe tbody tr th:only-of-type {\n",
       "        vertical-align: middle;\n",
       "    }\n",
       "\n",
       "    .dataframe tbody tr th {\n",
       "        vertical-align: top;\n",
       "    }\n",
       "\n",
       "    .dataframe thead th {\n",
       "        text-align: right;\n",
       "    }\n",
       "</style>\n",
       "<table border=\"1\" class=\"dataframe\">\n",
       "  <thead>\n",
       "    <tr style=\"text-align: right;\">\n",
       "      <th></th>\n",
       "      <th>num_tests_passed</th>\n",
       "      <th>%_tests_passed</th>\n",
       "    </tr>\n",
       "    <tr>\n",
       "      <th>style</th>\n",
       "      <th></th>\n",
       "      <th></th>\n",
       "    </tr>\n",
       "  </thead>\n",
       "  <tbody>\n",
       "    <tr>\n",
       "      <th>cc</th>\n",
       "      <td>0.526316</td>\n",
       "      <td>13.157895</td>\n",
       "    </tr>\n",
       "    <tr>\n",
       "      <th>plain</th>\n",
       "      <td>0.714286</td>\n",
       "      <td>17.857143</td>\n",
       "    </tr>\n",
       "    <tr>\n",
       "      <th>styled</th>\n",
       "      <td>0.962963</td>\n",
       "      <td>24.074074</td>\n",
       "    </tr>\n",
       "  </tbody>\n",
       "</table>\n",
       "</div>"
      ],
      "text/plain": [
       "        num_tests_passed  %_tests_passed\n",
       "style                                   \n",
       "cc              0.526316       13.157895\n",
       "plain           0.714286       17.857143\n",
       "styled          0.962963       24.074074"
      ]
     },
     "execution_count": 31,
     "metadata": {},
     "output_type": "execute_result"
    }
   ],
   "source": [
    "test_results.groupby(\"style\").mean()"
   ]
  },
  {
   "cell_type": "code",
   "execution_count": 41,
   "id": "64e1c303-1763-4854-8cca-8bd1334768ab",
   "metadata": {
    "tags": []
   },
   "outputs": [
    {
     "data": {
      "image/png": "[encoded data removed]",
      "text/plain": [
       "<Figure size 432x432 with 1 Axes>"
      ]
     },
     "metadata": {
      "needs_background": "light"
     },
     "output_type": "display_data"
    }
   ],
   "source": [
    "plt.rcParams.update({\"font.size\": 13})\n",
    "sns.set_palette('Set2')\n",
    "fig, ax = plt.subplots(figsize=(6, 6))\n",
    "sns.barplot(data=tests_passed_style, x=\"style\", y=\"%_tests_passed\", \n",
    "            linewidth=1.5, edgecolor=\"0.4\", zorder=2, ax=ax)\n",
    "ax.set_ylabel(\"Average % of tests passed (out of 4 tests)\")\n",
    "ax.set_xlabel(\"Styling prompt\", labelpad=10)\n",
    "ax.grid(alpha=0.5, zorder=-2)\n",
    "ax.set_yticks([0, 25, 50, 75, 100])\n",
    "ax.yaxis.set_major_formatter(StrMethodFormatter(u\"{x}%\"))\n",
    "ax.set_title(\"Average % of tests passed - by styling prompt\", fontsize=13.5);"
   ]
  },
  {
   "cell_type": "code",
   "execution_count": 34,
   "id": "42cc6601-afcf-4d89-bd3c-39fa04517486",
   "metadata": {
    "tags": []
   },
   "outputs": [
    {
     "data": {
      "image/png": "[encoded data removed]",
      "text/plain": [
       "<Figure size 432x216 with 1 Axes>"
      ]
     },
     "metadata": {
      "needs_background": "light"
     },
     "output_type": "display_data"
    }
   ],
   "source": [
    "fig, ax = plt.subplots(figsize=(6, 3))\n",
    "sns.boxplot(data=test_results, x=\"%_tests_passed\", y=\"style\", \n",
    "            dodge=False, whis=[0, 95], linewidth=2.5,\n",
    "            order=[\"cc\", \"plain\", \"styled\"])\n",
    "ax.set_axisbelow(True)\n",
    "ax.grid(alpha=0.5)\n",
    "ax.set_xticks([0, 25, 50, 75, 100])\n",
    "ax.xaxis.set_major_formatter(StrMethodFormatter(u\"{x}%\"))\n",
    "ax.set_xlabel(\"% of tests passed (out of 4 tests)\")\n",
    "ax.set_ylabel(\"Styling prompt\")\n",
    "ax.set_title(\"% of tests passed - by styling prompt\", fontsize=14);"
   ]
  },
  {
   "cell_type": "markdown",
   "id": "1d13e218-d872-472b-b907-d030e1090503",
   "metadata": {},
   "source": [
    "### Differences in passing tests, by different styling prompts and sources:"
   ]
  },
  {
   "cell_type": "markdown",
   "id": "7cc189e8-cd80-44c6-94af-b6e203ae38d4",
   "metadata": {},
   "source": [
    "Due to the very low sample sizes at this level of stratification, these results are extremely unreliable."
   ]
  },
  {
   "cell_type": "code",
   "execution_count": 42,
   "id": "abc734b5-67d6-4721-b08b-9bc10acf9b5e",
   "metadata": {
    "tags": []
   },
   "outputs": [],
   "source": [
    "test_passed_ver_style = test_results.groupby([\"source\", \"style\"]).agg({\"num_tests_passed\":\"mean\", \"%_tests_passed\":\"mean\"}).reset_index().sort_values(\"%_tests_passed\")"
   ]
  },
  {
   "cell_type": "code",
   "execution_count": 43,
   "id": "9608d4c3-ec74-42c6-ad00-dc3574ff1088",
   "metadata": {
    "tags": []
   },
   "outputs": [
    {
     "data": {
      "text/html": [
       "<div>\n",
       "<style scoped>\n",
       "    .dataframe tbody tr th:only-of-type {\n",
       "        vertical-align: middle;\n",
       "    }\n",
       "\n",
       "    .dataframe tbody tr th {\n",
       "        vertical-align: top;\n",
       "    }\n",
       "\n",
       "    .dataframe thead th {\n",
       "        text-align: right;\n",
       "    }\n",
       "</style>\n",
       "<table border=\"1\" class=\"dataframe\">\n",
       "  <thead>\n",
       "    <tr style=\"text-align: right;\">\n",
       "      <th></th>\n",
       "      <th></th>\n",
       "      <th>num_tests_passed</th>\n",
       "      <th>%_tests_passed</th>\n",
       "    </tr>\n",
       "    <tr>\n",
       "      <th>source</th>\n",
       "      <th>style</th>\n",
       "      <th></th>\n",
       "      <th></th>\n",
       "    </tr>\n",
       "  </thead>\n",
       "  <tbody>\n",
       "    <tr>\n",
       "      <th rowspan=\"3\" valign=\"top\">bard</th>\n",
       "      <th>cc</th>\n",
       "      <td>0.000000</td>\n",
       "      <td>0.000000</td>\n",
       "    </tr>\n",
       "    <tr>\n",
       "      <th>plain</th>\n",
       "      <td>0.125000</td>\n",
       "      <td>3.125000</td>\n",
       "    </tr>\n",
       "    <tr>\n",
       "      <th>styled</th>\n",
       "      <td>0.000000</td>\n",
       "      <td>0.000000</td>\n",
       "    </tr>\n",
       "    <tr>\n",
       "      <th rowspan=\"3\" valign=\"top\">bing</th>\n",
       "      <th>cc</th>\n",
       "      <td>1.000000</td>\n",
       "      <td>25.000000</td>\n",
       "    </tr>\n",
       "    <tr>\n",
       "      <th>plain</th>\n",
       "      <td>0.916667</td>\n",
       "      <td>22.916667</td>\n",
       "    </tr>\n",
       "    <tr>\n",
       "      <th>styled</th>\n",
       "      <td>1.222222</td>\n",
       "      <td>30.555556</td>\n",
       "    </tr>\n",
       "    <tr>\n",
       "      <th rowspan=\"3\" valign=\"top\">gpt3.5</th>\n",
       "      <th>cc</th>\n",
       "      <td>0.000000</td>\n",
       "      <td>0.000000</td>\n",
       "    </tr>\n",
       "    <tr>\n",
       "      <th>plain</th>\n",
       "      <td>0.300000</td>\n",
       "      <td>7.500000</td>\n",
       "    </tr>\n",
       "    <tr>\n",
       "      <th>styled</th>\n",
       "      <td>0.400000</td>\n",
       "      <td>10.000000</td>\n",
       "    </tr>\n",
       "    <tr>\n",
       "      <th rowspan=\"3\" valign=\"top\">gpt4</th>\n",
       "      <th>cc</th>\n",
       "      <td>0.750000</td>\n",
       "      <td>18.750000</td>\n",
       "    </tr>\n",
       "    <tr>\n",
       "      <th>plain</th>\n",
       "      <td>1.052632</td>\n",
       "      <td>26.315789</td>\n",
       "    </tr>\n",
       "    <tr>\n",
       "      <th>styled</th>\n",
       "      <td>1.625000</td>\n",
       "      <td>40.625000</td>\n",
       "    </tr>\n",
       "  </tbody>\n",
       "</table>\n",
       "</div>"
      ],
      "text/plain": [
       "               num_tests_passed  %_tests_passed\n",
       "source style                                   \n",
       "bard   cc              0.000000        0.000000\n",
       "       plain           0.125000        3.125000\n",
       "       styled          0.000000        0.000000\n",
       "bing   cc              1.000000       25.000000\n",
       "       plain           0.916667       22.916667\n",
       "       styled          1.222222       30.555556\n",
       "gpt3.5 cc              0.000000        0.000000\n",
       "       plain           0.300000        7.500000\n",
       "       styled          0.400000       10.000000\n",
       "gpt4   cc              0.750000       18.750000\n",
       "       plain           1.052632       26.315789\n",
       "       styled          1.625000       40.625000"
      ]
     },
     "execution_count": 43,
     "metadata": {},
     "output_type": "execute_result"
    }
   ],
   "source": [
    "test_results.groupby([\"source\", \"style\"]).mean()"
   ]
  },
  {
   "cell_type": "code",
   "execution_count": 44,
   "id": "6d0e0ca0-3d2e-4499-9dfb-cef60657399e",
   "metadata": {
    "tags": []
   },
   "outputs": [
    {
     "data": {
      "text/plain": [
       "source  style \n",
       "bard    cc         4\n",
       "        plain      8\n",
       "        styled     5\n",
       "bing    cc         7\n",
       "        plain     12\n",
       "        styled     9\n",
       "gpt3.5  cc         4\n",
       "        plain     10\n",
       "        styled     5\n",
       "gpt4    cc         4\n",
       "        plain     19\n",
       "        styled     8\n",
       "Name: code, dtype: int64"
      ]
     },
     "execution_count": 44,
     "metadata": {},
     "output_type": "execute_result"
    }
   ],
   "source": [
    "test_results.groupby([\"source\", \"style\"]).count()[\"code\"]"
   ]
  },
  {
   "cell_type": "code",
   "execution_count": 45,
   "id": "68306da5-32eb-4a97-bd9a-27dc86fc1470",
   "metadata": {
    "tags": []
   },
   "outputs": [
    {
     "data": {
      "image/png": "[encoded data removed]",
      "text/plain": [
       "<Figure size 864x432 with 1 Axes>"
      ]
     },
     "metadata": {
      "needs_background": "light"
     },
     "output_type": "display_data"
    }
   ],
   "source": [
    "plt.rcParams.update({\"font.size\": 14})\n",
    "sns.set_palette(\"Set3\")\n",
    "fig, ax = plt.subplots(figsize=(12, 6))\n",
    "sns.barplot(data=test_passed_ver_style, x=\"source\", y=\"%_tests_passed\", hue=\"style\",\n",
    "            zorder=2, linewidth=1.5, edgecolor=\"0.4\", ax=ax)\n",
    "ax.set_ylabel(\"Average % of tests passed (out of 4 tests)\")\n",
    "ax.set_xlabel(\"Version\", labelpad=10)\n",
    "ax.grid(zorder=-1, alpha=0.5)\n",
    "ax.set_yticks([0, 25, 50, 75, 100])\n",
    "ax.yaxis.set_major_formatter(StrMethodFormatter(u\"{x}%\"))\n",
    "ax.set_title(\"Average % of tests passed - by source and style\");"
   ]
  }
 ],
 "metadata": {
  "kernelspec": {
   "display_name": "Python 3 (ipykernel)",
   "language": "python",
   "name": "python3"
  },
  "language_info": {
   "codemirror_mode": {
    "name": "ipython",
    "version": 3
   },
   "file_extension": ".py",
   "mimetype": "text/x-python",
   "name": "python",
   "nbconvert_exporter": "python",
   "pygments_lexer": "ipython3",
   "version": "3.9.12"
  }
 },
 "nbformat": 4,
 "nbformat_minor": 5
}
