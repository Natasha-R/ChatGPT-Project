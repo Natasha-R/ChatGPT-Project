{
 "cells": [
  {
   "cell_type": "code",
   "execution_count": 199,
   "id": "c05353c5-4a34-435f-9b19-9736711382e5",
   "metadata": {
    "tags": []
   },
   "outputs": [],
   "source": [
    "import pandas as pd \n",
    "import seaborn as sns\n",
    "import matplotlib.pyplot as plt\n",
    "from matplotlib.ticker import EngFormatter, StrMethodFormatter"
   ]
  },
  {
   "cell_type": "markdown",
   "id": "2eb1ef00-941f-4993-8981-52f723349d42",
   "metadata": {},
   "source": [
    "Create a dataset indicating which of the four default tests were passed by which code:"
   ]
  },
  {
   "cell_type": "code",
   "execution_count": 2,
   "id": "094bbdf7-912f-49cb-ae80-d94218ca5c95",
   "metadata": {
    "tags": []
   },
   "outputs": [],
   "source": [
    "data = pd.read_csv(\"processed_solutions/m0_data.csv\")\n",
    "tests = pd.read_csv(\"processed_solutions/passing_test.csv\")"
   ]
  },
  {
   "cell_type": "code",
   "execution_count": 191,
   "id": "8cc7c31d-84ba-45cc-8f0e-5101bbe6f033",
   "metadata": {
    "tags": []
   },
   "outputs": [],
   "source": [
    "test_results = data.merge(tests, how=\"left\", on=[\"name\", \"source\", \"style\", \"version\"])\n",
    "test_results[\"num_tests_passed\"] = test_results[[\"test_1\", \"test_2\", \"hidden_test_1\", \"hidden_test_2\"]].sum(axis=1)\n",
    "test_results[\"%_tests_passed\"] = test_results[\"num_tests_passed\"]/4*100\n",
    "test_results[\"version\"] = test_results[\"version\"].fillna(test_results[\"source\"])"
   ]
  },
  {
   "cell_type": "markdown",
   "id": "fd983799-4111-40e0-a9db-f9875a543d2b",
   "metadata": {},
   "source": [
    "### Differences in passing tests, by different sources/model versions:"
   ]
  },
  {
   "cell_type": "code",
   "execution_count": 211,
   "id": "b997bb11-9afa-4b48-8b09-1c08506089cf",
   "metadata": {
    "tags": []
   },
   "outputs": [],
   "source": [
    "mean_num_tests_passed = test_results.groupby(\"version\").agg({\"num_tests_passed\":\"mean\", \"%_tests_passed\":\"mean\", \"source\":\"min\"}).reset_index().sort_values(\"%_tests_passed\")"
   ]
  },
  {
   "cell_type": "code",
   "execution_count": 212,
   "id": "c7da54e0-d158-4129-a0de-12be250ed44e",
   "metadata": {
    "tags": []
   },
   "outputs": [
    {
     "data": {
      "text/html": [
       "<div>\n",
       "<style scoped>\n",
       "    .dataframe tbody tr th:only-of-type {\n",
       "        vertical-align: middle;\n",
       "    }\n",
       "\n",
       "    .dataframe tbody tr th {\n",
       "        vertical-align: top;\n",
       "    }\n",
       "\n",
       "    .dataframe thead th {\n",
       "        text-align: right;\n",
       "    }\n",
       "</style>\n",
       "<table border=\"1\" class=\"dataframe\">\n",
       "  <thead>\n",
       "    <tr style=\"text-align: right;\">\n",
       "      <th></th>\n",
       "      <th>test_1</th>\n",
       "      <th>test_2</th>\n",
       "      <th>hidden_test_1</th>\n",
       "      <th>hidden_test_2</th>\n",
       "      <th>num_tests_passed</th>\n",
       "      <th>%_tests_passed</th>\n",
       "    </tr>\n",
       "    <tr>\n",
       "      <th>version</th>\n",
       "      <th></th>\n",
       "      <th></th>\n",
       "      <th></th>\n",
       "      <th></th>\n",
       "      <th></th>\n",
       "      <th></th>\n",
       "    </tr>\n",
       "  </thead>\n",
       "  <tbody>\n",
       "    <tr>\n",
       "      <th>balanced</th>\n",
       "      <td>0.000000</td>\n",
       "      <td>0.000000</td>\n",
       "      <td>0.571429</td>\n",
       "      <td>0.571429</td>\n",
       "      <td>1.142857</td>\n",
       "      <td>28.571429</td>\n",
       "    </tr>\n",
       "    <tr>\n",
       "      <th>bard</th>\n",
       "      <td>0.000000</td>\n",
       "      <td>0.000000</td>\n",
       "      <td>0.058824</td>\n",
       "      <td>0.000000</td>\n",
       "      <td>0.058824</td>\n",
       "      <td>1.470588</td>\n",
       "    </tr>\n",
       "    <tr>\n",
       "      <th>concise</th>\n",
       "      <td>0.222222</td>\n",
       "      <td>0.000000</td>\n",
       "      <td>0.555556</td>\n",
       "      <td>0.333333</td>\n",
       "      <td>1.111111</td>\n",
       "      <td>27.777778</td>\n",
       "    </tr>\n",
       "    <tr>\n",
       "      <th>creative</th>\n",
       "      <td>0.166667</td>\n",
       "      <td>0.000000</td>\n",
       "      <td>0.500000</td>\n",
       "      <td>0.250000</td>\n",
       "      <td>0.916667</td>\n",
       "      <td>22.916667</td>\n",
       "    </tr>\n",
       "    <tr>\n",
       "      <th>gpt3.5</th>\n",
       "      <td>0.052632</td>\n",
       "      <td>0.000000</td>\n",
       "      <td>0.000000</td>\n",
       "      <td>0.210526</td>\n",
       "      <td>0.263158</td>\n",
       "      <td>6.578947</td>\n",
       "    </tr>\n",
       "    <tr>\n",
       "      <th>gpt4</th>\n",
       "      <td>0.470588</td>\n",
       "      <td>0.058824</td>\n",
       "      <td>0.058824</td>\n",
       "      <td>0.470588</td>\n",
       "      <td>1.058824</td>\n",
       "      <td>26.470588</td>\n",
       "    </tr>\n",
       "    <tr>\n",
       "      <th>student</th>\n",
       "      <td>0.980769</td>\n",
       "      <td>0.980769</td>\n",
       "      <td>0.980769</td>\n",
       "      <td>0.980769</td>\n",
       "      <td>3.923077</td>\n",
       "      <td>98.076923</td>\n",
       "    </tr>\n",
       "  </tbody>\n",
       "</table>\n",
       "</div>"
      ],
      "text/plain": [
       "            test_1    test_2  hidden_test_1  hidden_test_2  num_tests_passed  \\\n",
       "version                                                                        \n",
       "balanced  0.000000  0.000000       0.571429       0.571429          1.142857   \n",
       "bard      0.000000  0.000000       0.058824       0.000000          0.058824   \n",
       "concise   0.222222  0.000000       0.555556       0.333333          1.111111   \n",
       "creative  0.166667  0.000000       0.500000       0.250000          0.916667   \n",
       "gpt3.5    0.052632  0.000000       0.000000       0.210526          0.263158   \n",
       "gpt4      0.470588  0.058824       0.058824       0.470588          1.058824   \n",
       "student   0.980769  0.980769       0.980769       0.980769          3.923077   \n",
       "\n",
       "          %_tests_passed  \n",
       "version                   \n",
       "balanced       28.571429  \n",
       "bard            1.470588  \n",
       "concise        27.777778  \n",
       "creative       22.916667  \n",
       "gpt3.5          6.578947  \n",
       "gpt4           26.470588  \n",
       "student        98.076923  "
      ]
     },
     "execution_count": 212,
     "metadata": {},
     "output_type": "execute_result"
    }
   ],
   "source": [
    "test_results.groupby(\"version\").mean()"
   ]
  },
  {
   "cell_type": "code",
   "execution_count": 213,
   "id": "69ff33cf-e51d-4225-b041-b717878ae48c",
   "metadata": {
    "tags": []
   },
   "outputs": [
    {
     "data": {
      "image/png": "[encoded data removed]",
      "text/plain": [
       "<Figure size 720x432 with 1 Axes>"
      ]
     },
     "metadata": {
      "needs_background": "light"
     },
     "output_type": "display_data"
    }
   ],
   "source": [
    "plt.rcParams.update({\"font.size\": 14})\n",
    "sns.set_palette('Set2')\n",
    "fig, ax = plt.subplots(figsize=(10, 6))\n",
    "sns.barplot(data=mean_num_tests_passed, x=\"version\", y=\"%_tests_passed\", hue=\"source\", \n",
    "            dodge=False, zorder=2, linewidth=1.5, edgecolor=\"0.4\", ax=ax)\n",
    "ax.set_ylabel(\"Average % of tests passed (out of 4 tests)\")\n",
    "ax.set_xlabel(\"Version\", labelpad=10)\n",
    "ax.grid(zorder=-1, alpha=0.5)\n",
    "ax.set_yticks([0, 25, 50, 75, 100])\n",
    "ax.yaxis.set_major_formatter(StrMethodFormatter(u\"{x}%\"))\n",
    "ax.set_title(\"Average % of tests passed - by source\");"
   ]
  },
  {
   "cell_type": "code",
   "execution_count": 214,
   "id": "642a5991-dcf9-45ca-b6c9-f5a60141aec7",
   "metadata": {
    "tags": []
   },
   "outputs": [
    {
     "data": {
      "image/png": "[encoded data removed]",
      "text/plain": [
       "<Figure size 720x432 with 1 Axes>"
      ]
     },
     "metadata": {
      "needs_background": "light"
     },
     "output_type": "display_data"
    }
   ],
   "source": [
    "fig, ax = plt.subplots(figsize=(10, 6))\n",
    "sns.boxplot(data=test_results, x=\"%_tests_passed\", y=\"version\", hue=\"source\", \n",
    "            dodge=False, whis=[0, 100], capprops={\"alpha\":0}, linewidth=2.5,\n",
    "            order=[\"bard\", \"gpt3.5\", \"creative\", \"gpt4\", \"concise\", \"balanced\", \"student\"],\n",
    "            hue_order = [\"bard\", \"gpt3.5\", \"bing\", \"gpt4\", \"student\"])\n",
    "ax.set_axisbelow(True)\n",
    "ax.grid(alpha=0.5)\n",
    "ax.set_xticks([0, 25, 50, 75, 100])\n",
    "ax.xaxis.set_major_formatter(StrMethodFormatter(u\"{x}%\"))\n",
    "ax.set_xlabel(\"% of tests passed (out of 4 tests)\")\n",
    "ax.set_ylabel(\"Source\")\n",
    "ax.set_title(\"% of tests passed - by source\");"
   ]
  },
  {
   "cell_type": "markdown",
   "id": "b4824a2d-e89a-4d42-ae0f-88f4ae5b17df",
   "metadata": {},
   "source": [
    "### Differences in passing tests, by different styling prompts:"
   ]
  },
  {
   "cell_type": "code",
   "execution_count": 215,
   "id": "0c4d5733-772d-4c47-bd0b-98fe5b64c851",
   "metadata": {
    "tags": []
   },
   "outputs": [],
   "source": [
    "tests_passed_style = test_results.groupby(\"style\").mean().reset_index().sort_values(\"%_tests_passed\")"
   ]
  },
  {
   "cell_type": "code",
   "execution_count": 216,
   "id": "6f385a9b-e688-4735-864b-df11435be260",
   "metadata": {
    "tags": []
   },
   "outputs": [
    {
     "data": {
      "text/html": [
       "<div>\n",
       "<style scoped>\n",
       "    .dataframe tbody tr th:only-of-type {\n",
       "        vertical-align: middle;\n",
       "    }\n",
       "\n",
       "    .dataframe tbody tr th {\n",
       "        vertical-align: top;\n",
       "    }\n",
       "\n",
       "    .dataframe thead th {\n",
       "        text-align: right;\n",
       "    }\n",
       "</style>\n",
       "<table border=\"1\" class=\"dataframe\">\n",
       "  <thead>\n",
       "    <tr style=\"text-align: right;\">\n",
       "      <th></th>\n",
       "      <th>test_1</th>\n",
       "      <th>test_2</th>\n",
       "      <th>hidden_test_1</th>\n",
       "      <th>hidden_test_2</th>\n",
       "      <th>num_tests_passed</th>\n",
       "      <th>%_tests_passed</th>\n",
       "    </tr>\n",
       "    <tr>\n",
       "      <th>style</th>\n",
       "      <th></th>\n",
       "      <th></th>\n",
       "      <th></th>\n",
       "      <th></th>\n",
       "      <th></th>\n",
       "      <th></th>\n",
       "    </tr>\n",
       "  </thead>\n",
       "  <tbody>\n",
       "    <tr>\n",
       "      <th>cc</th>\n",
       "      <td>0.133333</td>\n",
       "      <td>0.000000</td>\n",
       "      <td>0.133333</td>\n",
       "      <td>0.200000</td>\n",
       "      <td>0.466667</td>\n",
       "      <td>11.666667</td>\n",
       "    </tr>\n",
       "    <tr>\n",
       "      <th>plain</th>\n",
       "      <td>0.234043</td>\n",
       "      <td>0.021277</td>\n",
       "      <td>0.148936</td>\n",
       "      <td>0.297872</td>\n",
       "      <td>0.702128</td>\n",
       "      <td>17.553191</td>\n",
       "    </tr>\n",
       "    <tr>\n",
       "      <th>styled</th>\n",
       "      <td>0.000000</td>\n",
       "      <td>0.000000</td>\n",
       "      <td>0.421053</td>\n",
       "      <td>0.263158</td>\n",
       "      <td>0.684211</td>\n",
       "      <td>17.105263</td>\n",
       "    </tr>\n",
       "  </tbody>\n",
       "</table>\n",
       "</div>"
      ],
      "text/plain": [
       "          test_1    test_2  hidden_test_1  hidden_test_2  num_tests_passed  \\\n",
       "style                                                                        \n",
       "cc      0.133333  0.000000       0.133333       0.200000          0.466667   \n",
       "plain   0.234043  0.021277       0.148936       0.297872          0.702128   \n",
       "styled  0.000000  0.000000       0.421053       0.263158          0.684211   \n",
       "\n",
       "        %_tests_passed  \n",
       "style                   \n",
       "cc           11.666667  \n",
       "plain        17.553191  \n",
       "styled       17.105263  "
      ]
     },
     "execution_count": 216,
     "metadata": {},
     "output_type": "execute_result"
    }
   ],
   "source": [
    "test_results.groupby(\"style\").mean()"
   ]
  },
  {
   "cell_type": "code",
   "execution_count": 217,
   "id": "64e1c303-1763-4854-8cca-8bd1334768ab",
   "metadata": {
    "tags": []
   },
   "outputs": [
    {
     "data": {
      "image/png": "[encoded data removed]",
      "text/plain": [
       "<Figure size 432x432 with 1 Axes>"
      ]
     },
     "metadata": {
      "needs_background": "light"
     },
     "output_type": "display_data"
    }
   ],
   "source": [
    "plt.rcParams.update({\"font.size\": 13})\n",
    "sns.set_palette('Set2')\n",
    "fig, ax = plt.subplots(figsize=(6, 6))\n",
    "sns.barplot(data=tests_passed_style, x=\"style\", y=\"%_tests_passed\", \n",
    "            linewidth=1.5, edgecolor=\"0.4\", zorder=2, ax=ax)\n",
    "ax.set_ylabel(\"Average % of tests passed (out of 4 tests)\")\n",
    "ax.set_xlabel(\"Styling prompt\", labelpad=10)\n",
    "ax.grid(alpha=0.5, zorder=-2)\n",
    "ax.set_yticks([0, 25, 50, 75, 100])\n",
    "ax.yaxis.set_major_formatter(StrMethodFormatter(u\"{x}%\"))\n",
    "ax.set_title(\"Average % of tests passed - by styling prompt\", fontsize=13.5);"
   ]
  },
  {
   "cell_type": "code",
   "execution_count": 218,
   "id": "42cc6601-afcf-4d89-bd3c-39fa04517486",
   "metadata": {
    "tags": []
   },
   "outputs": [
    {
     "data": {
      "image/png": "[encoded data removed]",
      "text/plain": [
       "<Figure size 432x216 with 1 Axes>"
      ]
     },
     "metadata": {
      "needs_background": "light"
     },
     "output_type": "display_data"
    }
   ],
   "source": [
    "fig, ax = plt.subplots(figsize=(6, 3))\n",
    "sns.boxplot(data=test_results, x=\"%_tests_passed\", y=\"style\", \n",
    "            dodge=False, whis=[0, 100], capprops={\"alpha\":0}, linewidth=2.5,\n",
    "            order=[\"cc\", \"styled\", \"plain\"], hue_order = [\"cc\", \"styled\", \"plain\"])\n",
    "ax.set_axisbelow(True)\n",
    "ax.grid(alpha=0.5)\n",
    "ax.set_xticks([0, 25, 50, 75, 100])\n",
    "ax.set_xlabel(\"% of tests passed (out of 4 tests)\")\n",
    "ax.set_ylabel(\"Styling prompt\")\n",
    "ax.set_title(\"% of tests passed - by styling prompt\", fontsize=14);"
   ]
  },
  {
   "cell_type": "markdown",
   "id": "1d13e218-d872-472b-b907-d030e1090503",
   "metadata": {},
   "source": [
    "### Differences in passing tests, by different styling prompts and sources:"
   ]
  },
  {
   "cell_type": "markdown",
   "id": "7cc189e8-cd80-44c6-94af-b6e203ae38d4",
   "metadata": {},
   "source": [
    "Due to the very low sample sizes at this level of stratification, these results are extremely unreliable."
   ]
  },
  {
   "cell_type": "code",
   "execution_count": 242,
   "id": "abc734b5-67d6-4721-b08b-9bc10acf9b5e",
   "metadata": {
    "tags": []
   },
   "outputs": [],
   "source": [
    "test_passed_ver_style = test_results.groupby([\"version\", \"style\"]).agg({\"num_tests_passed\":\"mean\", \"%_tests_passed\":\"mean\", \"source\":\"min\"}).reset_index().sort_values(\"%_tests_passed\")"
   ]
  },
  {
   "cell_type": "code",
   "execution_count": 237,
   "id": "9608d4c3-ec74-42c6-ad00-dc3574ff1088",
   "metadata": {
    "tags": []
   },
   "outputs": [
    {
     "data": {
      "text/html": [
       "<div>\n",
       "<style scoped>\n",
       "    .dataframe tbody tr th:only-of-type {\n",
       "        vertical-align: middle;\n",
       "    }\n",
       "\n",
       "    .dataframe tbody tr th {\n",
       "        vertical-align: top;\n",
       "    }\n",
       "\n",
       "    .dataframe thead th {\n",
       "        text-align: right;\n",
       "    }\n",
       "</style>\n",
       "<table border=\"1\" class=\"dataframe\">\n",
       "  <thead>\n",
       "    <tr style=\"text-align: right;\">\n",
       "      <th></th>\n",
       "      <th></th>\n",
       "      <th>test_1</th>\n",
       "      <th>test_2</th>\n",
       "      <th>hidden_test_1</th>\n",
       "      <th>hidden_test_2</th>\n",
       "      <th>num_tests_passed</th>\n",
       "      <th>%_tests_passed</th>\n",
       "    </tr>\n",
       "    <tr>\n",
       "      <th>version</th>\n",
       "      <th>style</th>\n",
       "      <th></th>\n",
       "      <th></th>\n",
       "      <th></th>\n",
       "      <th></th>\n",
       "      <th></th>\n",
       "      <th></th>\n",
       "    </tr>\n",
       "  </thead>\n",
       "  <tbody>\n",
       "    <tr>\n",
       "      <th rowspan=\"3\" valign=\"top\">balanced</th>\n",
       "      <th>cc</th>\n",
       "      <td>0.000000</td>\n",
       "      <td>0.000000</td>\n",
       "      <td>0.333333</td>\n",
       "      <td>0.666667</td>\n",
       "      <td>1.000000</td>\n",
       "      <td>25.000000</td>\n",
       "    </tr>\n",
       "    <tr>\n",
       "      <th>plain</th>\n",
       "      <td>0.000000</td>\n",
       "      <td>0.000000</td>\n",
       "      <td>0.666667</td>\n",
       "      <td>0.333333</td>\n",
       "      <td>1.000000</td>\n",
       "      <td>25.000000</td>\n",
       "    </tr>\n",
       "    <tr>\n",
       "      <th>styled</th>\n",
       "      <td>0.000000</td>\n",
       "      <td>0.000000</td>\n",
       "      <td>1.000000</td>\n",
       "      <td>1.000000</td>\n",
       "      <td>2.000000</td>\n",
       "      <td>50.000000</td>\n",
       "    </tr>\n",
       "    <tr>\n",
       "      <th rowspan=\"3\" valign=\"top\">bard</th>\n",
       "      <th>cc</th>\n",
       "      <td>0.000000</td>\n",
       "      <td>0.000000</td>\n",
       "      <td>0.000000</td>\n",
       "      <td>0.000000</td>\n",
       "      <td>0.000000</td>\n",
       "      <td>0.000000</td>\n",
       "    </tr>\n",
       "    <tr>\n",
       "      <th>plain</th>\n",
       "      <td>0.000000</td>\n",
       "      <td>0.000000</td>\n",
       "      <td>0.125000</td>\n",
       "      <td>0.000000</td>\n",
       "      <td>0.125000</td>\n",
       "      <td>3.125000</td>\n",
       "    </tr>\n",
       "    <tr>\n",
       "      <th>styled</th>\n",
       "      <td>0.000000</td>\n",
       "      <td>0.000000</td>\n",
       "      <td>0.000000</td>\n",
       "      <td>0.000000</td>\n",
       "      <td>0.000000</td>\n",
       "      <td>0.000000</td>\n",
       "    </tr>\n",
       "    <tr>\n",
       "      <th rowspan=\"3\" valign=\"top\">concise</th>\n",
       "      <th>cc</th>\n",
       "      <td>0.500000</td>\n",
       "      <td>0.000000</td>\n",
       "      <td>0.500000</td>\n",
       "      <td>0.500000</td>\n",
       "      <td>1.500000</td>\n",
       "      <td>37.500000</td>\n",
       "    </tr>\n",
       "    <tr>\n",
       "      <th>plain</th>\n",
       "      <td>0.333333</td>\n",
       "      <td>0.000000</td>\n",
       "      <td>0.333333</td>\n",
       "      <td>0.333333</td>\n",
       "      <td>1.000000</td>\n",
       "      <td>25.000000</td>\n",
       "    </tr>\n",
       "    <tr>\n",
       "      <th>styled</th>\n",
       "      <td>0.000000</td>\n",
       "      <td>0.000000</td>\n",
       "      <td>0.750000</td>\n",
       "      <td>0.250000</td>\n",
       "      <td>1.000000</td>\n",
       "      <td>25.000000</td>\n",
       "    </tr>\n",
       "    <tr>\n",
       "      <th rowspan=\"3\" valign=\"top\">creative</th>\n",
       "      <th>cc</th>\n",
       "      <td>0.500000</td>\n",
       "      <td>0.000000</td>\n",
       "      <td>0.000000</td>\n",
       "      <td>0.000000</td>\n",
       "      <td>0.500000</td>\n",
       "      <td>12.500000</td>\n",
       "    </tr>\n",
       "    <tr>\n",
       "      <th>plain</th>\n",
       "      <td>0.166667</td>\n",
       "      <td>0.000000</td>\n",
       "      <td>0.333333</td>\n",
       "      <td>0.333333</td>\n",
       "      <td>0.833333</td>\n",
       "      <td>20.833333</td>\n",
       "    </tr>\n",
       "    <tr>\n",
       "      <th>styled</th>\n",
       "      <td>0.000000</td>\n",
       "      <td>0.000000</td>\n",
       "      <td>1.000000</td>\n",
       "      <td>0.250000</td>\n",
       "      <td>1.250000</td>\n",
       "      <td>31.250000</td>\n",
       "    </tr>\n",
       "    <tr>\n",
       "      <th rowspan=\"3\" valign=\"top\">gpt3.5</th>\n",
       "      <th>cc</th>\n",
       "      <td>0.000000</td>\n",
       "      <td>0.000000</td>\n",
       "      <td>0.000000</td>\n",
       "      <td>0.000000</td>\n",
       "      <td>0.000000</td>\n",
       "      <td>0.000000</td>\n",
       "    </tr>\n",
       "    <tr>\n",
       "      <th>plain</th>\n",
       "      <td>0.100000</td>\n",
       "      <td>0.000000</td>\n",
       "      <td>0.000000</td>\n",
       "      <td>0.200000</td>\n",
       "      <td>0.300000</td>\n",
       "      <td>7.500000</td>\n",
       "    </tr>\n",
       "    <tr>\n",
       "      <th>styled</th>\n",
       "      <td>0.000000</td>\n",
       "      <td>0.000000</td>\n",
       "      <td>0.000000</td>\n",
       "      <td>0.400000</td>\n",
       "      <td>0.400000</td>\n",
       "      <td>10.000000</td>\n",
       "    </tr>\n",
       "    <tr>\n",
       "      <th>gpt4</th>\n",
       "      <th>plain</th>\n",
       "      <td>0.470588</td>\n",
       "      <td>0.058824</td>\n",
       "      <td>0.058824</td>\n",
       "      <td>0.470588</td>\n",
       "      <td>1.058824</td>\n",
       "      <td>26.470588</td>\n",
       "    </tr>\n",
       "  </tbody>\n",
       "</table>\n",
       "</div>"
      ],
      "text/plain": [
       "                   test_1    test_2  hidden_test_1  hidden_test_2  \\\n",
       "version  style                                                      \n",
       "balanced cc      0.000000  0.000000       0.333333       0.666667   \n",
       "         plain   0.000000  0.000000       0.666667       0.333333   \n",
       "         styled  0.000000  0.000000       1.000000       1.000000   \n",
       "bard     cc      0.000000  0.000000       0.000000       0.000000   \n",
       "         plain   0.000000  0.000000       0.125000       0.000000   \n",
       "         styled  0.000000  0.000000       0.000000       0.000000   \n",
       "concise  cc      0.500000  0.000000       0.500000       0.500000   \n",
       "         plain   0.333333  0.000000       0.333333       0.333333   \n",
       "         styled  0.000000  0.000000       0.750000       0.250000   \n",
       "creative cc      0.500000  0.000000       0.000000       0.000000   \n",
       "         plain   0.166667  0.000000       0.333333       0.333333   \n",
       "         styled  0.000000  0.000000       1.000000       0.250000   \n",
       "gpt3.5   cc      0.000000  0.000000       0.000000       0.000000   \n",
       "         plain   0.100000  0.000000       0.000000       0.200000   \n",
       "         styled  0.000000  0.000000       0.000000       0.400000   \n",
       "gpt4     plain   0.470588  0.058824       0.058824       0.470588   \n",
       "\n",
       "                 num_tests_passed  %_tests_passed  \n",
       "version  style                                     \n",
       "balanced cc              1.000000       25.000000  \n",
       "         plain           1.000000       25.000000  \n",
       "         styled          2.000000       50.000000  \n",
       "bard     cc              0.000000        0.000000  \n",
       "         plain           0.125000        3.125000  \n",
       "         styled          0.000000        0.000000  \n",
       "concise  cc              1.500000       37.500000  \n",
       "         plain           1.000000       25.000000  \n",
       "         styled          1.000000       25.000000  \n",
       "creative cc              0.500000       12.500000  \n",
       "         plain           0.833333       20.833333  \n",
       "         styled          1.250000       31.250000  \n",
       "gpt3.5   cc              0.000000        0.000000  \n",
       "         plain           0.300000        7.500000  \n",
       "         styled          0.400000       10.000000  \n",
       "gpt4     plain           1.058824       26.470588  "
      ]
     },
     "execution_count": 239,
     "metadata": {},
     "output_type": "execute_result"
    }
   ],
   "source": [
    "test_results.groupby([\"version\", \"style\"]).mean()"
   ]
  },
  {
   "cell_type": "code",
   "execution_count": 245,
   "id": "6d0e0ca0-3d2e-4499-9dfb-cef60657399e",
   "metadata": {
    "tags": []
   },
   "outputs": [
    {
     "data": {
      "text/plain": [
       "version   style \n",
       "balanced  cc         3\n",
       "          plain      3\n",
       "          styled     1\n",
       "bard      cc         4\n",
       "          plain      8\n",
       "          styled     5\n",
       "concise   cc         2\n",
       "          plain      3\n",
       "          styled     4\n",
       "creative  cc         2\n",
       "          plain      6\n",
       "          styled     4\n",
       "gpt3.5    cc         4\n",
       "          plain     10\n",
       "          styled     5\n",
       "gpt4      plain     17\n",
       "Name: code, dtype: int64"
      ]
     },
     "execution_count": 245,
     "metadata": {},
     "output_type": "execute_result"
    }
   ],
   "source": [
    "test_results.groupby([\"version\", \"style\"]).count()[\"code\"]"
   ]
  },
  {
   "cell_type": "code",
   "execution_count": 233,
   "id": "68306da5-32eb-4a97-bd9a-27dc86fc1470",
   "metadata": {
    "tags": []
   },
   "outputs": [
    {
     "data": {
      "image/png": "[encoded data removed]",
      "text/plain": [
       "<Figure size 864x432 with 1 Axes>"
      ]
     },
     "metadata": {
      "needs_background": "light"
     },
     "output_type": "display_data"
    }
   ],
   "source": [
    "plt.rcParams.update({\"font.size\": 14})\n",
    "sns.set_palette(\"Set3\")\n",
    "fig, ax = plt.subplots(figsize=(12, 6))\n",
    "sns.barplot(data=test_passed_ver_style, x=\"version\", y=\"%_tests_passed\", hue=\"style\",\n",
    "            zorder=2, linewidth=1.5, edgecolor=\"0.4\", ax=ax)\n",
    "ax.set_ylabel(\"Average % of tests passed (out of 4 tests)\")\n",
    "ax.set_xlabel(\"Version\", labelpad=10)\n",
    "ax.grid(zorder=-1, alpha=0.5)\n",
    "ax.set_yticks([0, 25, 50, 75, 100])\n",
    "ax.yaxis.set_major_formatter(StrMethodFormatter(u\"{x}%\"))\n",
    "ax.set_title(\"Average % of tests passed - by source and style\");"
   ]
  }
 ],
 "metadata": {
  "kernelspec": {
   "display_name": "Python 3 (ipykernel)",
   "language": "python",
   "name": "python3"
  },
  "language_info": {
   "codemirror_mode": {
    "name": "ipython",
    "version": 3
   },
   "file_extension": ".py",
   "mimetype": "text/x-python",
   "name": "python",
   "nbconvert_exporter": "python",
   "pygments_lexer": "ipython3",
   "version": "3.9.12"
  }
 },
 "nbformat": 4,
 "nbformat_minor": 5
}
