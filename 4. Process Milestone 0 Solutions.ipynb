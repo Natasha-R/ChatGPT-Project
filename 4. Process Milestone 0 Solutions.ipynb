{
 "cells": [
  {
   "cell_type": "code",
   "execution_count": 1,
   "id": "f891bb2a-3bd5-494d-8560-3a551a00c556",
   "metadata": {
    "tags": []
   },
   "outputs": [],
   "source": [
    "import pandas as pd\n",
    "import json\n",
    "import os\n",
    "import glob"
   ]
  },
  {
   "cell_type": "markdown",
   "id": "05a09d6c-df1c-4ac6-8e76-d848275f65ea",
   "metadata": {},
   "source": [
    "## Processing the Milestone 0 Solutions"
   ]
  },
  {
   "cell_type": "markdown",
   "id": "5c9baca5-39af-4216-b376-1319c4be766d",
   "metadata": {},
   "source": [
    "*Re-run this entire notebook to process any new solutions and store them in the files. This notebook can be run independently.*"
   ]
  },
  {
   "cell_type": "markdown",
   "id": "d2bc7be6-bedb-427a-8db4-ba948679dfbb",
   "metadata": {},
   "source": [
    "## Storing the code"
   ]
  },
  {
   "cell_type": "code",
   "execution_count": 2,
   "id": "6591a01e-d8d6-4a06-98be-abf69cd2d1a7",
   "metadata": {
    "tags": []
   },
   "outputs": [],
   "source": [
    "sources = [\"gpt3.5\", \"bing\", \"bard\", \"student\"]\n",
    "attributes = {\"student\": [\"source\", \"name\", \"code\"],\n",
    "              \"gpt3.5\": [\"source\", \"name\", \"style\", \"code\"],\n",
    "              \"bing\": [\"source\", \"name\", \"style\", \"version\", \"code\"],\n",
    "              \"bard\": [\"source\", \"name\", \"style\", \"code\"]}"
   ]
  },
  {
   "cell_type": "code",
   "execution_count": 3,
   "id": "b1cb4bd0-fa9f-42ab-b80b-ce2ce4a99616",
   "metadata": {
    "tags": []
   },
   "outputs": [],
   "source": [
    "data = list()\n",
    "\n",
    "for source in sources:\n",
    "    # list all the solution names for milestone 0\n",
    "    names = [name for name in os.listdir(f\"raw_solutions\\\\{source}_solutions\") if name[:2]==\"m0\"]\n",
    "\n",
    "    for full_name in names:\n",
    "        # find all java files, including those in sub-directories\n",
    "        path = f\"raw_solutions\\\\{source}_solutions\\\\{full_name}\\\\src\\\\main\\\\java\\\\thkoeln\\\\st\\\\st2praktikum\\\\exercise\\\\\"\n",
    "        file_list = [java_file for java_file in glob.glob(path + \"/**/*.java\", recursive=True)]\n",
    "        \n",
    "        # extract out the attributes of the solutions\n",
    "        name_parts = full_name.split(\"_\")\n",
    "        if source == \"student\":\n",
    "            name = name_parts[1]\n",
    "        else:\n",
    "            if source == \"bing\":\n",
    "                version = name_parts[1]\n",
    "            name = name_parts[-2]\n",
    "            style = name_parts[-1]\n",
    "            \n",
    "        # store java file as a document\n",
    "        for java_file in file_list:\n",
    "            with open(java_file, \"r\", encoding='utf-8') as open_java_file:\n",
    "                code_text = open_java_file.read()\n",
    "                document = {\"source\":source,\n",
    "                            \"name\":name,\n",
    "                            \"file_name\":java_file[len(path):]}\n",
    "                if source != \"student\":\n",
    "                    document[\"style\"] = style\n",
    "                    if source == \"bing\":\n",
    "                        document[\"version\"] = version\n",
    "                document[\"code\"] = code_text\n",
    "                data.append(document)"
   ]
  },
  {
   "cell_type": "markdown",
   "id": "ca387b1e-0555-4049-9a31-4d245ac9f9e4",
   "metadata": {},
   "source": [
    "Removing the students who did not attempt to complete the assignment:"
   ]
  },
  {
   "cell_type": "code",
   "execution_count": 4,
   "id": "aef31f80-f3e7-4788-99b8-714e819c4aa5",
   "metadata": {
    "tags": []
   },
   "outputs": [],
   "source": [
    "no_solutions = [solution[\"name\"] for solution in data if solution[\"source\"]==\"student\"\\\n",
    "                                                      and solution[\"file_name\"]==\"Exercise0.java\"\\\n",
    "                                                      and len(solution[\"code\"])<250]"
   ]
  },
  {
   "cell_type": "code",
   "execution_count": 5,
   "id": "158a826a-bff0-4ba3-b06f-0fc389451f2b",
   "metadata": {
    "tags": []
   },
   "outputs": [],
   "source": [
    "data = [solution for solution in data if solution[\"name\"] not in no_solutions]"
   ]
  },
  {
   "cell_type": "markdown",
   "id": "0d34cfbf-a515-42bc-a7ca-3d4f90394920",
   "metadata": {},
   "source": [
    "Storing the data as JSON:"
   ]
  },
  {
   "cell_type": "code",
   "execution_count": 6,
   "id": "5558c508-67fb-49dd-bb55-72263ba1c3cd",
   "metadata": {
    "tags": []
   },
   "outputs": [],
   "source": [
    "with open(\"processed_solutions/m0_code_solutions.json\", 'w') as json_file:\n",
    "    json.dump(data, json_file)"
   ]
  },
  {
   "cell_type": "markdown",
   "id": "ee89d6d4-a2a0-4c02-9e4c-569582ffcd64",
   "metadata": {
    "tags": []
   },
   "source": [
    "## Concatenate all files"
   ]
  },
  {
   "cell_type": "code",
   "execution_count": 7,
   "id": "b55f9795-9855-4fc0-9079-e74f55e0400f",
   "metadata": {
    "tags": []
   },
   "outputs": [],
   "source": [
    "concatenated_data = list()\n",
    "for source in sources:\n",
    "    all_files = pd.DataFrame([[file[attribute] for attribute in attributes[source]]\\\n",
    "               for file in data if file[\"source\"]==source], columns=attributes[source])\n",
    "    concat_files = pd.DataFrame(all_files.groupby(attributes[source][:-1])[\"code\"]\\\n",
    "                                .apply(lambda row:\"\\n\".join(row))).reset_index()\n",
    "    concatenated_data += json.loads(concat_files.to_json(orient=\"records\"))"
   ]
  },
  {
   "cell_type": "markdown",
   "id": "cca52223-3fbd-49e1-866e-95f89217e3ca",
   "metadata": {},
   "source": [
    "Storing the data as JSON:"
   ]
  },
  {
   "cell_type": "code",
   "execution_count": 8,
   "id": "75f7ab8e-12f6-4ad2-a568-5194145def1f",
   "metadata": {
    "tags": []
   },
   "outputs": [],
   "source": [
    "with open(\"processed_solutions/m0_concat_code_solutions.json\", 'w') as json_file:\n",
    "    json.dump(concatenated_data, json_file)"
   ]
  },
  {
   "cell_type": "markdown",
   "id": "c2d06aee-9aa4-4485-9e92-3b2a7c89bd58",
   "metadata": {},
   "source": [
    "## Storing the code as csv files"
   ]
  },
  {
   "cell_type": "markdown",
   "id": "82aad253-7dff-4b40-a1cb-5c6055971bd9",
   "metadata": {},
   "source": [
    "Creating a dataset containing the source of a solution, (e.g. student, specific LLM), style of solution, version (relevant only for Bing chat version) and code:"
   ]
  },
  {
   "cell_type": "code",
   "execution_count": 9,
   "id": "9daf6b61-e5f6-4f54-9477-728eba62f4c5",
   "metadata": {
    "tags": []
   },
   "outputs": [],
   "source": [
    "df_data = pd.DataFrame(concatenated_data)[[\"source\", \"style\", \"version\", \"code\"]]"
   ]
  },
  {
   "cell_type": "code",
   "execution_count": 10,
   "id": "7e83093a-ea92-454c-a6c9-dbf2986ec837",
   "metadata": {
    "tags": []
   },
   "outputs": [
    {
     "data": {
      "text/html": [
       "<div>\n",
       "<style scoped>\n",
       "    .dataframe tbody tr th:only-of-type {\n",
       "        vertical-align: middle;\n",
       "    }\n",
       "\n",
       "    .dataframe tbody tr th {\n",
       "        vertical-align: top;\n",
       "    }\n",
       "\n",
       "    .dataframe thead th {\n",
       "        text-align: right;\n",
       "    }\n",
       "</style>\n",
       "<table border=\"1\" class=\"dataframe\">\n",
       "  <thead>\n",
       "    <tr style=\"text-align: right;\">\n",
       "      <th></th>\n",
       "      <th>source</th>\n",
       "      <th>style</th>\n",
       "      <th>version</th>\n",
       "      <th>code</th>\n",
       "    </tr>\n",
       "  </thead>\n",
       "  <tbody>\n",
       "    <tr>\n",
       "      <th>0</th>\n",
       "      <td>gpt3.5</td>\n",
       "      <td>plain</td>\n",
       "      <td>NaN</td>\n",
       "      <td>package thkoeln.st.st2praktikum.exercise;\\n\\np...</td>\n",
       "    </tr>\n",
       "    <tr>\n",
       "      <th>1</th>\n",
       "      <td>gpt3.5</td>\n",
       "      <td>plain</td>\n",
       "      <td>NaN</td>\n",
       "      <td>package thkoeln.st.st2praktikum.exercise;\\n\\np...</td>\n",
       "    </tr>\n",
       "    <tr>\n",
       "      <th>2</th>\n",
       "      <td>gpt3.5</td>\n",
       "      <td>cc</td>\n",
       "      <td>NaN</td>\n",
       "      <td>package thkoeln.st.st2praktikum.exercise;\\n\\ni...</td>\n",
       "    </tr>\n",
       "    <tr>\n",
       "      <th>3</th>\n",
       "      <td>gpt3.5</td>\n",
       "      <td>cc</td>\n",
       "      <td>NaN</td>\n",
       "      <td>package thkoeln.st.st2praktikum.exercise;\\n\\np...</td>\n",
       "    </tr>\n",
       "    <tr>\n",
       "      <th>4</th>\n",
       "      <td>gpt3.5</td>\n",
       "      <td>cc</td>\n",
       "      <td>NaN</td>\n",
       "      <td>package thkoeln.st.st2praktikum.exercise;\\n\\ni...</td>\n",
       "    </tr>\n",
       "  </tbody>\n",
       "</table>\n",
       "</div>"
      ],
      "text/plain": [
       "   source  style version                                               code\n",
       "0  gpt3.5  plain     NaN  package thkoeln.st.st2praktikum.exercise;\\n\\np...\n",
       "1  gpt3.5  plain     NaN  package thkoeln.st.st2praktikum.exercise;\\n\\np...\n",
       "2  gpt3.5     cc     NaN  package thkoeln.st.st2praktikum.exercise;\\n\\ni...\n",
       "3  gpt3.5     cc     NaN  package thkoeln.st.st2praktikum.exercise;\\n\\np...\n",
       "4  gpt3.5     cc     NaN  package thkoeln.st.st2praktikum.exercise;\\n\\ni..."
      ]
     },
     "execution_count": 10,
     "metadata": {},
     "output_type": "execute_result"
    }
   ],
   "source": [
    "df_data.head()"
   ]
  },
  {
   "cell_type": "code",
   "execution_count": 11,
   "id": "973785fb-ba8a-42c0-b484-7abf456f1957",
   "metadata": {
    "tags": []
   },
   "outputs": [
    {
     "data": {
      "text/html": [
       "<div>\n",
       "<style scoped>\n",
       "    .dataframe tbody tr th:only-of-type {\n",
       "        vertical-align: middle;\n",
       "    }\n",
       "\n",
       "    .dataframe tbody tr th {\n",
       "        vertical-align: top;\n",
       "    }\n",
       "\n",
       "    .dataframe thead th {\n",
       "        text-align: right;\n",
       "    }\n",
       "</style>\n",
       "<table border=\"1\" class=\"dataframe\">\n",
       "  <thead>\n",
       "    <tr style=\"text-align: right;\">\n",
       "      <th></th>\n",
       "      <th></th>\n",
       "      <th>counts</th>\n",
       "    </tr>\n",
       "    <tr>\n",
       "      <th>column</th>\n",
       "      <th>value</th>\n",
       "      <th></th>\n",
       "    </tr>\n",
       "  </thead>\n",
       "  <tbody>\n",
       "    <tr>\n",
       "      <th rowspan=\"4\" valign=\"top\">source</th>\n",
       "      <th>bard</th>\n",
       "      <td>17</td>\n",
       "    </tr>\n",
       "    <tr>\n",
       "      <th>gpt3.5</th>\n",
       "      <td>19</td>\n",
       "    </tr>\n",
       "    <tr>\n",
       "      <th>bing</th>\n",
       "      <td>28</td>\n",
       "    </tr>\n",
       "    <tr>\n",
       "      <th>student</th>\n",
       "      <td>104</td>\n",
       "    </tr>\n",
       "    <tr>\n",
       "      <th rowspan=\"3\" valign=\"top\">style</th>\n",
       "      <th>cc</th>\n",
       "      <td>15</td>\n",
       "    </tr>\n",
       "    <tr>\n",
       "      <th>styled</th>\n",
       "      <td>19</td>\n",
       "    </tr>\n",
       "    <tr>\n",
       "      <th>plain</th>\n",
       "      <td>30</td>\n",
       "    </tr>\n",
       "    <tr>\n",
       "      <th rowspan=\"3\" valign=\"top\">version</th>\n",
       "      <th>balanced</th>\n",
       "      <td>7</td>\n",
       "    </tr>\n",
       "    <tr>\n",
       "      <th>concise</th>\n",
       "      <td>9</td>\n",
       "    </tr>\n",
       "    <tr>\n",
       "      <th>creative</th>\n",
       "      <td>12</td>\n",
       "    </tr>\n",
       "  </tbody>\n",
       "</table>\n",
       "</div>"
      ],
      "text/plain": [
       "                  counts\n",
       "column  value           \n",
       "source  bard          17\n",
       "        gpt3.5        19\n",
       "        bing          28\n",
       "        student      104\n",
       "style   cc            15\n",
       "        styled        19\n",
       "        plain         30\n",
       "version balanced       7\n",
       "        concise        9\n",
       "        creative      12"
      ]
     },
     "execution_count": 11,
     "metadata": {},
     "output_type": "execute_result"
    }
   ],
   "source": [
    "pd.DataFrame(df_data[[\"source\", \"style\", \"version\"]].melt(var_name=\"column\", value_name=\"value\")\\\n",
    "             .value_counts()).rename(columns={0: 'counts'}).sort_values([\"column\", \"counts\"])"
   ]
  },
  {
   "cell_type": "markdown",
   "id": "c00dd583-2196-43db-aee8-4c4d75f89946",
   "metadata": {},
   "source": [
    "Creating a binary class version of the dataset, with labels \"ai\" and \"student\":"
   ]
  },
  {
   "cell_type": "code",
   "execution_count": 12,
   "id": "5889da18-dbc5-45d9-8b9d-6d85d7f9ff83",
   "metadata": {
    "tags": []
   },
   "outputs": [],
   "source": [
    "binary_data = df_data.replace({\"source\":{\"gpt3.5\":\"ai\", \"bing\":\"ai\", \"bard\":\"ai\"}})[[\"source\", \"code\"]]"
   ]
  },
  {
   "cell_type": "code",
   "execution_count": 13,
   "id": "95a08875-82fd-4955-844a-18cc39b51cc0",
   "metadata": {
    "tags": []
   },
   "outputs": [
    {
     "data": {
      "text/html": [
       "<div>\n",
       "<style scoped>\n",
       "    .dataframe tbody tr th:only-of-type {\n",
       "        vertical-align: middle;\n",
       "    }\n",
       "\n",
       "    .dataframe tbody tr th {\n",
       "        vertical-align: top;\n",
       "    }\n",
       "\n",
       "    .dataframe thead th {\n",
       "        text-align: right;\n",
       "    }\n",
       "</style>\n",
       "<table border=\"1\" class=\"dataframe\">\n",
       "  <thead>\n",
       "    <tr style=\"text-align: right;\">\n",
       "      <th></th>\n",
       "      <th>source</th>\n",
       "      <th>code</th>\n",
       "    </tr>\n",
       "  </thead>\n",
       "  <tbody>\n",
       "    <tr>\n",
       "      <th>0</th>\n",
       "      <td>ai</td>\n",
       "      <td>package thkoeln.st.st2praktikum.exercise;\\n\\np...</td>\n",
       "    </tr>\n",
       "    <tr>\n",
       "      <th>1</th>\n",
       "      <td>ai</td>\n",
       "      <td>package thkoeln.st.st2praktikum.exercise;\\n\\np...</td>\n",
       "    </tr>\n",
       "    <tr>\n",
       "      <th>2</th>\n",
       "      <td>ai</td>\n",
       "      <td>package thkoeln.st.st2praktikum.exercise;\\n\\ni...</td>\n",
       "    </tr>\n",
       "    <tr>\n",
       "      <th>3</th>\n",
       "      <td>ai</td>\n",
       "      <td>package thkoeln.st.st2praktikum.exercise;\\n\\np...</td>\n",
       "    </tr>\n",
       "    <tr>\n",
       "      <th>4</th>\n",
       "      <td>ai</td>\n",
       "      <td>package thkoeln.st.st2praktikum.exercise;\\n\\ni...</td>\n",
       "    </tr>\n",
       "  </tbody>\n",
       "</table>\n",
       "</div>"
      ],
      "text/plain": [
       "  source                                               code\n",
       "0     ai  package thkoeln.st.st2praktikum.exercise;\\n\\np...\n",
       "1     ai  package thkoeln.st.st2praktikum.exercise;\\n\\np...\n",
       "2     ai  package thkoeln.st.st2praktikum.exercise;\\n\\ni...\n",
       "3     ai  package thkoeln.st.st2praktikum.exercise;\\n\\np...\n",
       "4     ai  package thkoeln.st.st2praktikum.exercise;\\n\\ni..."
      ]
     },
     "execution_count": 13,
     "metadata": {},
     "output_type": "execute_result"
    }
   ],
   "source": [
    "binary_data.head()"
   ]
  },
  {
   "cell_type": "code",
   "execution_count": 14,
   "id": "618acf6d-e0f3-43db-ba83-8518808075f3",
   "metadata": {},
   "outputs": [
    {
     "data": {
      "text/plain": [
       "student    104\n",
       "ai          64\n",
       "Name: source, dtype: int64"
      ]
     },
     "execution_count": 14,
     "metadata": {},
     "output_type": "execute_result"
    }
   ],
   "source": [
    "binary_data[\"source\"].value_counts()"
   ]
  },
  {
   "cell_type": "markdown",
   "id": "0b52bb51-c712-448f-b470-e35560d14cce",
   "metadata": {},
   "source": [
    "Saving the dataframes as csv files:"
   ]
  },
  {
   "cell_type": "code",
   "execution_count": 15,
   "id": "f9caa038-e89f-4448-948b-bbe163bc1d16",
   "metadata": {
    "tags": []
   },
   "outputs": [],
   "source": [
    "df_data.to_csv(\"processed_solutions/m0_data.csv\", index=False)"
   ]
  },
  {
   "cell_type": "code",
   "execution_count": 16,
   "id": "bac97716-a167-4cd6-bb5b-7de366effb3a",
   "metadata": {
    "tags": []
   },
   "outputs": [],
   "source": [
    "binary_data.to_csv(\"processed_solutions/m0_data_binary.csv\", index=False)"
   ]
  }
 ],
 "metadata": {
  "kernelspec": {
   "display_name": "Python 3 (ipykernel)",
   "language": "python",
   "name": "python3"
  },
  "language_info": {
   "codemirror_mode": {
    "name": "ipython",
    "version": 3
   },
   "file_extension": ".py",
   "mimetype": "text/x-python",
   "name": "python",
   "nbconvert_exporter": "python",
   "pygments_lexer": "ipython3",
   "version": "3.9.12"
  }
 },
 "nbformat": 4,
 "nbformat_minor": 5
}
