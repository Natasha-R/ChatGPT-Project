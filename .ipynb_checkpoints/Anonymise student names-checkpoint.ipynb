{
 "cells": [
  {
   "cell_type": "code",
   "execution_count": 47,
   "id": "dd7d069e-e677-45e5-86b5-092c65c57e62",
   "metadata": {
    "tags": []
   },
   "outputs": [],
   "source": [
    "import pandas as pd\n",
    "import json\n",
    "import os\n",
    "import glob"
   ]
  },
  {
   "cell_type": "markdown",
   "id": "81a41cdd-3f09-43c1-a16c-de8ed4d5f795",
   "metadata": {},
   "source": [
    "Get all actual student names from the repos and assign each a unique anonymised id:"
   ]
  },
  {
   "cell_type": "code",
   "execution_count": 48,
   "id": "46421e1a-377b-4524-9573-aa961c14d302",
   "metadata": {
    "tags": []
   },
   "outputs": [],
   "source": [
    "student_dict = pd.Series([\"student\"+str(value) for value in range(159)], \n",
    "               index=list({name[3:] for name in os.listdir(f\"raw_solutions\\\\student_solutions\")})).to_dict()"
   ]
  },
  {
   "cell_type": "markdown",
   "id": "0993ad2b-b189-48cf-a947-e86244bcefa9",
   "metadata": {
    "tags": []
   },
   "source": [
    "Rename the student folders with the anonymised id:"
   ]
  },
  {
   "cell_type": "code",
   "execution_count": 51,
   "id": "307c31da-cb29-4d3c-b053-dd360521b0f1",
   "metadata": {
    "tags": []
   },
   "outputs": [],
   "source": [
    "all_files = os.listdir(f\"raw_solutions\\\\student_solutions\")\n",
    "for file in all_files:\n",
    "    os.rename(f\"raw_solutions\\\\student_solutions\\\\{file}\", f\"raw_solutions\\\\student_solutions\\\\{file[:3]}{student_dict[file[3:]]}\")"
   ]
  },
  {
   "cell_type": "markdown",
   "id": "06a132dd-7df1-4ca0-86a9-e16a61bc6c1d",
   "metadata": {},
   "source": [
    "Fixing any student folders that were not properly renamed:"
   ]
  },
  {
   "cell_type": "code",
   "execution_count": 69,
   "id": "0740f996-6639-49db-b8fb-7ab664939b84",
   "metadata": {
    "tags": []
   },
   "outputs": [],
   "source": [
    "failed_renames = [value for value in os.listdir(f\"raw_solutions\\\\student_solutions\") if \"student\" not in value]\n",
    "for file in failed_renames:\n",
    "    os.rename(f\"raw_solutions\\\\student_solutions\\\\{file}\", f\"raw_solutions\\\\student_solutions\\\\{file[:3]}{student_dict[file[3:]]}\")"
   ]
  },
  {
   "cell_type": "markdown",
   "id": "13ea9d16-0fee-4c68-90a5-b1a335689bf2",
   "metadata": {},
   "source": [
    "Delete git related files, so that the student solutions will properly upload to Github:"
   ]
  },
  {
   "cell_type": "code",
   "execution_count": 72,
   "id": "8c0e272c-dfcb-47a2-9e42-5a49cc6fc004",
   "metadata": {
    "tags": []
   },
   "outputs": [],
   "source": [
    "all_folders = os.listdir(f\"raw_solutions\\\\student_solutions\")\n",
    "for folder in all_folders:\n",
    "    "
   ]
  },
  {
   "cell_type": "code",
   "execution_count": 75,
   "id": "0b7822ca-eac8-4720-8377-4ba0b09dd310",
   "metadata": {
    "tags": []
   },
   "outputs": [
    {
     "data": {
      "text/plain": [
       "['.git', '.gitignore', '.gitlab-ci.yml', 'pom.xml', 'README.md', 'src']"
      ]
     },
     "execution_count": 75,
     "metadata": {},
     "output_type": "execute_result"
    }
   ],
   "source": [
    "os.listdir(f\"raw_solutions\\\\student_solutions\\\\{folder}\\\\\"\")"
   ]
  },
  {
   "cell_type": "code",
   "execution_count": null,
   "id": "e74629c6-884d-46c3-80a8-325436310202",
   "metadata": {},
   "outputs": [],
   "source": [
    "os.remove(file_path)"
   ]
  }
 ],
 "metadata": {
  "kernelspec": {
   "display_name": "Python 3 (ipykernel)",
   "language": "python",
   "name": "python3"
  },
  "language_info": {
   "codemirror_mode": {
    "name": "ipython",
    "version": 3
   },
   "file_extension": ".py",
   "mimetype": "text/x-python",
   "name": "python",
   "nbconvert_exporter": "python",
   "pygments_lexer": "ipython3",
   "version": "3.9.12"
  }
 },
 "nbformat": 4,
 "nbformat_minor": 5
}
