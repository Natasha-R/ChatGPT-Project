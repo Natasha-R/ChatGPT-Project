{
 "cells": [
  {
   "cell_type": "code",
   "execution_count": 1,
   "id": "a86b0315-9f20-4001-a1e1-8b82338a6c36",
   "metadata": {
    "tags": []
   },
   "outputs": [],
   "source": [
    "import pandas as pd\n",
    "import seaborn as sns\n",
    "import matplotlib.pyplot as plt"
   ]
  },
  {
   "cell_type": "code",
   "execution_count": 2,
   "id": "04898a30-52b0-44a0-858a-e94d8d678a67",
   "metadata": {
    "tags": []
   },
   "outputs": [],
   "source": [
    "data = pd.read_csv(\"ss21_processed_solutions/m0_data.csv\")"
   ]
  },
  {
   "cell_type": "code",
   "execution_count": 3,
   "id": "e41fc859-bb43-40ec-9694-abf882824721",
   "metadata": {
    "tags": []
   },
   "outputs": [],
   "source": [
    "data[\"num_chars\"] = data[\"code\"].str.len()\n",
    "data[\"num_lines\"] = data[\"code\"].apply(lambda row: len(row.splitlines()))"
   ]
  },
  {
   "cell_type": "code",
   "execution_count": 4,
   "id": "a7e98f63-b5e3-49be-84c6-c71b1fa4572f",
   "metadata": {
    "tags": []
   },
   "outputs": [
    {
     "data": {
      "text/html": [
       "<div>\n",
       "<style scoped>\n",
       "    .dataframe tbody tr th:only-of-type {\n",
       "        vertical-align: middle;\n",
       "    }\n",
       "\n",
       "    .dataframe tbody tr th {\n",
       "        vertical-align: top;\n",
       "    }\n",
       "\n",
       "    .dataframe thead tr th {\n",
       "        text-align: left;\n",
       "    }\n",
       "\n",
       "    .dataframe thead tr:last-of-type th {\n",
       "        text-align: right;\n",
       "    }\n",
       "</style>\n",
       "<table border=\"1\" class=\"dataframe\">\n",
       "  <thead>\n",
       "    <tr>\n",
       "      <th></th>\n",
       "      <th colspan=\"8\" halign=\"left\">num_chars</th>\n",
       "      <th colspan=\"8\" halign=\"left\">num_lines</th>\n",
       "    </tr>\n",
       "    <tr>\n",
       "      <th></th>\n",
       "      <th>count</th>\n",
       "      <th>mean</th>\n",
       "      <th>std</th>\n",
       "      <th>min</th>\n",
       "      <th>25%</th>\n",
       "      <th>50%</th>\n",
       "      <th>75%</th>\n",
       "      <th>max</th>\n",
       "      <th>count</th>\n",
       "      <th>mean</th>\n",
       "      <th>std</th>\n",
       "      <th>min</th>\n",
       "      <th>25%</th>\n",
       "      <th>50%</th>\n",
       "      <th>75%</th>\n",
       "      <th>max</th>\n",
       "    </tr>\n",
       "    <tr>\n",
       "      <th>source</th>\n",
       "      <th></th>\n",
       "      <th></th>\n",
       "      <th></th>\n",
       "      <th></th>\n",
       "      <th></th>\n",
       "      <th></th>\n",
       "      <th></th>\n",
       "      <th></th>\n",
       "      <th></th>\n",
       "      <th></th>\n",
       "      <th></th>\n",
       "      <th></th>\n",
       "      <th></th>\n",
       "      <th></th>\n",
       "      <th></th>\n",
       "      <th></th>\n",
       "    </tr>\n",
       "  </thead>\n",
       "  <tbody>\n",
       "    <tr>\n",
       "      <th>bard</th>\n",
       "      <td>17.0</td>\n",
       "      <td>2522.941176</td>\n",
       "      <td>450.678998</td>\n",
       "      <td>1930.0</td>\n",
       "      <td>2104.0</td>\n",
       "      <td>2437.0</td>\n",
       "      <td>2753.0</td>\n",
       "      <td>3258.0</td>\n",
       "      <td>17.0</td>\n",
       "      <td>83.352941</td>\n",
       "      <td>15.944988</td>\n",
       "      <td>61.0</td>\n",
       "      <td>72.00</td>\n",
       "      <td>81.0</td>\n",
       "      <td>94.00</td>\n",
       "      <td>124.0</td>\n",
       "    </tr>\n",
       "    <tr>\n",
       "      <th>bing</th>\n",
       "      <td>28.0</td>\n",
       "      <td>3436.714286</td>\n",
       "      <td>1844.300587</td>\n",
       "      <td>1717.0</td>\n",
       "      <td>2148.0</td>\n",
       "      <td>2668.0</td>\n",
       "      <td>4300.5</td>\n",
       "      <td>9185.0</td>\n",
       "      <td>28.0</td>\n",
       "      <td>101.535714</td>\n",
       "      <td>46.309332</td>\n",
       "      <td>47.0</td>\n",
       "      <td>71.00</td>\n",
       "      <td>86.0</td>\n",
       "      <td>116.25</td>\n",
       "      <td>219.0</td>\n",
       "    </tr>\n",
       "    <tr>\n",
       "      <th>gpt3.5</th>\n",
       "      <td>19.0</td>\n",
       "      <td>2695.315789</td>\n",
       "      <td>448.985777</td>\n",
       "      <td>1558.0</td>\n",
       "      <td>2453.5</td>\n",
       "      <td>2816.0</td>\n",
       "      <td>2949.5</td>\n",
       "      <td>3361.0</td>\n",
       "      <td>19.0</td>\n",
       "      <td>79.578947</td>\n",
       "      <td>11.456758</td>\n",
       "      <td>50.0</td>\n",
       "      <td>74.50</td>\n",
       "      <td>81.0</td>\n",
       "      <td>86.50</td>\n",
       "      <td>100.0</td>\n",
       "    </tr>\n",
       "    <tr>\n",
       "      <th>gpt4</th>\n",
       "      <td>31.0</td>\n",
       "      <td>2468.935484</td>\n",
       "      <td>661.068072</td>\n",
       "      <td>1464.0</td>\n",
       "      <td>1960.0</td>\n",
       "      <td>2545.0</td>\n",
       "      <td>2921.5</td>\n",
       "      <td>3724.0</td>\n",
       "      <td>31.0</td>\n",
       "      <td>79.193548</td>\n",
       "      <td>23.812349</td>\n",
       "      <td>35.0</td>\n",
       "      <td>63.50</td>\n",
       "      <td>79.0</td>\n",
       "      <td>96.50</td>\n",
       "      <td>140.0</td>\n",
       "    </tr>\n",
       "    <tr>\n",
       "      <th>student</th>\n",
       "      <td>104.0</td>\n",
       "      <td>5215.903846</td>\n",
       "      <td>2636.217946</td>\n",
       "      <td>1149.0</td>\n",
       "      <td>3314.0</td>\n",
       "      <td>4693.5</td>\n",
       "      <td>6090.0</td>\n",
       "      <td>15908.0</td>\n",
       "      <td>104.0</td>\n",
       "      <td>169.134615</td>\n",
       "      <td>81.864920</td>\n",
       "      <td>37.0</td>\n",
       "      <td>109.75</td>\n",
       "      <td>159.0</td>\n",
       "      <td>202.00</td>\n",
       "      <td>627.0</td>\n",
       "    </tr>\n",
       "  </tbody>\n",
       "</table>\n",
       "</div>"
      ],
      "text/plain": [
       "        num_chars                                                            \\\n",
       "            count         mean          std     min     25%     50%     75%   \n",
       "source                                                                        \n",
       "bard         17.0  2522.941176   450.678998  1930.0  2104.0  2437.0  2753.0   \n",
       "bing         28.0  3436.714286  1844.300587  1717.0  2148.0  2668.0  4300.5   \n",
       "gpt3.5       19.0  2695.315789   448.985777  1558.0  2453.5  2816.0  2949.5   \n",
       "gpt4         31.0  2468.935484   661.068072  1464.0  1960.0  2545.0  2921.5   \n",
       "student     104.0  5215.903846  2636.217946  1149.0  3314.0  4693.5  6090.0   \n",
       "\n",
       "                 num_lines                                              \\\n",
       "             max     count        mean        std   min     25%    50%   \n",
       "source                                                                   \n",
       "bard      3258.0      17.0   83.352941  15.944988  61.0   72.00   81.0   \n",
       "bing      9185.0      28.0  101.535714  46.309332  47.0   71.00   86.0   \n",
       "gpt3.5    3361.0      19.0   79.578947  11.456758  50.0   74.50   81.0   \n",
       "gpt4      3724.0      31.0   79.193548  23.812349  35.0   63.50   79.0   \n",
       "student  15908.0     104.0  169.134615  81.864920  37.0  109.75  159.0   \n",
       "\n",
       "                        \n",
       "            75%    max  \n",
       "source                  \n",
       "bard      94.00  124.0  \n",
       "bing     116.25  219.0  \n",
       "gpt3.5    86.50  100.0  \n",
       "gpt4      96.50  140.0  \n",
       "student  202.00  627.0  "
      ]
     },
     "execution_count": 4,
     "metadata": {},
     "output_type": "execute_result"
    }
   ],
   "source": [
    "data.groupby([\"source\"]).describe()"
   ]
  },
  {
   "cell_type": "code",
   "execution_count": 5,
   "id": "7ab7bb26-9130-4988-a250-87428469196d",
   "metadata": {
    "tags": []
   },
   "outputs": [
    {
     "data": {
      "text/plain": [
       "<Axes: xlabel='num_lines', ylabel='Density'>"
      ]
     },
     "execution_count": 5,
     "metadata": {},
     "output_type": "execute_result"
    },
    {
     "data": {
      "image/png": "[encoded data removed]",
      "text/plain": [
       "<Figure size 432x288 with 1 Axes>"
      ]
     },
     "metadata": {
      "needs_background": "light"
     },
     "output_type": "display_data"
    }
   ],
   "source": [
    "sns.histplot(data=data, x=\"num_lines\", hue=\"source\", stat=\"density\", bins=30, common_norm=False)"
   ]
  }
 ],
 "metadata": {
  "kernelspec": {
   "display_name": "Python 3 (ipykernel)",
   "language": "python",
   "name": "python3"
  },
  "language_info": {
   "codemirror_mode": {
    "name": "ipython",
    "version": 3
   },
   "file_extension": ".py",
   "mimetype": "text/x-python",
   "name": "python",
   "nbconvert_exporter": "python",
   "pygments_lexer": "ipython3",
   "version": "3.9.12"
  }
 },
 "nbformat": 4,
 "nbformat_minor": 5
}
