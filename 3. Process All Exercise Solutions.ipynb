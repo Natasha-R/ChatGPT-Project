{
 "cells": [
  {
   "cell_type": "code",
   "execution_count": 3,
   "id": "f891bb2a-3bd5-494d-8560-3a551a00c556",
   "metadata": {
    "tags": []
   },
   "outputs": [],
   "source": [
    "import pandas as pd\n",
    "import json\n",
    "import os\n",
    "import glob"
   ]
  },
  {
   "cell_type": "markdown",
   "id": "05a09d6c-df1c-4ac6-8e76-d848275f65ea",
   "metadata": {},
   "source": [
    "## Processing all of the ST2 Milestone Solutions"
   ]
  },
  {
   "cell_type": "markdown",
   "id": "5c9baca5-39af-4216-b376-1319c4be766d",
   "metadata": {},
   "source": [
    "*Re-run this entire notebook to process any new solutions and store them in the files.*"
   ]
  },
  {
   "cell_type": "markdown",
   "id": "d2bc7be6-bedb-427a-8db4-ba948679dfbb",
   "metadata": {},
   "source": [
    "## Storing the code"
   ]
  },
  {
   "cell_type": "code",
   "execution_count": 29,
   "id": "6591a01e-d8d6-4a06-98be-abf69cd2d1a7",
   "metadata": {
    "tags": []
   },
   "outputs": [],
   "source": [
    "# add to this cell each AI that has been tested\n",
    "sources = [\"gpt3.5\", \"bing\", \"bard\", \"gpt4\", \"student\"]\n",
    "attributes = {\"student\": [\"source\", \"milestone\", \"name\", \"code\"],\n",
    "              \"gpt3.5\": [\"source\", \"milestone\", \"name\", \"style\", \"code\"],\n",
    "              \"bing\": [\"source\", \"milestone\", \"name\", \"style\", \"version\", \"code\"],\n",
    "              \"bard\": [\"source\", \"milestone\", \"name\", \"style\", \"code\"],\n",
    "              \"gpt4\": [\"source\", \"milestone\", \"name\", \"style\", \"code\"]}"
   ]
  },
  {
   "cell_type": "code",
   "execution_count": 30,
   "id": "b1cb4bd0-fa9f-42ab-b80b-ce2ce4a99616",
   "metadata": {
    "tags": []
   },
   "outputs": [],
   "source": [
    "data = list()\n",
    "default_tests = [\"E1MovementTests.java\", \"E1ValueObjectParsingTests.java\", \n",
    "                 \"E1ValueObjectValidationTests.java\", \"core\\\\MovementTests.java\"]\n",
    "\n",
    "for source in sources:\n",
    "    # list all the solution names\n",
    "    names = os.listdir(f\"raw_solutions\\\\{source}_solutions\")\n",
    "\n",
    "    for full_name in names:\n",
    "        # find all java files, including those in sub-directories\n",
    "        path = f\"raw_solutions\\\\{source}_solutions\\\\{full_name}\\\\src\\\\main\\\\java\\\\thkoeln\\\\st\\\\st2praktikum\\\\exercise\\\\\"\n",
    "        file_list = [java_file for java_file in glob.glob(path + \"/**/*.java\", recursive=True)]\n",
    "        \n",
    "        # extract out the attributes of the solutions\n",
    "        name_parts = full_name.split(\"_\")\n",
    "        milestone = name_parts[0]\n",
    "        if source == \"student\":\n",
    "            name = name_parts[1]\n",
    "        else:\n",
    "            if source == \"bing\":\n",
    "                version = name_parts[1]\n",
    "            name = name_parts[-2]\n",
    "            style = name_parts[-1]\n",
    "            \n",
    "        # include the test files, written as part of the assignment in milestone 2\n",
    "        if milestone==\"m2\":\n",
    "            test_path = f\"raw_solutions\\\\{source}_solutions\\\\{full_name}\\\\src\\\\test\\\\java\\\\thkoeln\\\\st\\\\st2praktikum\\\\exercise\\\\\"\n",
    "            file_list = file_list + [test_file for test_file in glob.glob(test_path + \"/**/*.java\", recursive=True)\\\n",
    "                                     if test_file[len(test_path):] not in default_tests]\n",
    "            \n",
    "        # store java file as a document\n",
    "        for java_file in file_list:\n",
    "            with open(java_file, \"r\", encoding='utf-8') as open_java_file:\n",
    "                code_text = open_java_file.read()\n",
    "                document = {\"source\":source,\n",
    "                            \"milestone\":milestone,\n",
    "                            \"name\":name,\n",
    "                            \"file_name\":java_file[len(path):]}\n",
    "                if source != \"student\":\n",
    "                    document[\"style\"] = style\n",
    "                    if source == \"bing\":\n",
    "                        document[\"version\"] = version\n",
    "                document[\"code\"] = code_text\n",
    "                data.append(document)"
   ]
  },
  {
   "cell_type": "markdown",
   "id": "ca387b1e-0555-4049-9a31-4d245ac9f9e4",
   "metadata": {},
   "source": [
    "Removing the students who did not attempt to complete the assignment:"
   ]
  },
  {
   "cell_type": "code",
   "execution_count": 31,
   "id": "aef31f80-f3e7-4788-99b8-714e819c4aa5",
   "metadata": {
    "tags": []
   },
   "outputs": [],
   "source": [
    "no_solutions = [solution[\"name\"] for solution in data if solution[\"milestone\"]==\"m0\"\\\n",
    "                                                      and solution[\"source\"]==\"student\"\\\n",
    "                                                      and solution[\"file_name\"]==\"Exercise0.java\"\\\n",
    "                                                      and len(solution[\"code\"])<250]"
   ]
  },
  {
   "cell_type": "code",
   "execution_count": 32,
   "id": "158a826a-bff0-4ba3-b06f-0fc389451f2b",
   "metadata": {
    "tags": []
   },
   "outputs": [],
   "source": [
    "data = [solution for solution in data if solution[\"name\"] not in no_solutions]"
   ]
  },
  {
   "cell_type": "markdown",
   "id": "0d34cfbf-a515-42bc-a7ca-3d4f90394920",
   "metadata": {},
   "source": [
    "Storing the data as JSON:"
   ]
  },
  {
   "cell_type": "code",
   "execution_count": 33,
   "id": "5558c508-67fb-49dd-bb55-72263ba1c3cd",
   "metadata": {
    "tags": []
   },
   "outputs": [],
   "source": [
    "with open(\"processed_solutions/all_code_solutions.json\", 'w') as json_file:\n",
    "    json.dump(data, json_file)"
   ]
  },
  {
   "cell_type": "markdown",
   "id": "33f0f1f9-d773-4867-a7f1-ee9ad6711cad",
   "metadata": {
    "tags": []
   },
   "source": [
    "Number of code files per source and milestone:"
   ]
  },
  {
   "cell_type": "code",
   "execution_count": 34,
   "id": "1eb9e993-db4d-4b60-a23c-bf80ceef8ad8",
   "metadata": {
    "tags": []
   },
   "outputs": [
    {
     "data": {
      "text/html": [
       "<div>\n",
       "<style scoped>\n",
       "    .dataframe tbody tr th:only-of-type {\n",
       "        vertical-align: middle;\n",
       "    }\n",
       "\n",
       "    .dataframe tbody tr th {\n",
       "        vertical-align: top;\n",
       "    }\n",
       "\n",
       "    .dataframe thead th {\n",
       "        text-align: right;\n",
       "    }\n",
       "</style>\n",
       "<table border=\"1\" class=\"dataframe\">\n",
       "  <thead>\n",
       "    <tr style=\"text-align: right;\">\n",
       "      <th>milestone</th>\n",
       "      <th>m0</th>\n",
       "      <th>m1</th>\n",
       "      <th>m2</th>\n",
       "      <th>m3</th>\n",
       "      <th>m4</th>\n",
       "      <th>All</th>\n",
       "    </tr>\n",
       "    <tr>\n",
       "      <th>source</th>\n",
       "      <th></th>\n",
       "      <th></th>\n",
       "      <th></th>\n",
       "      <th></th>\n",
       "      <th></th>\n",
       "      <th></th>\n",
       "    </tr>\n",
       "  </thead>\n",
       "  <tbody>\n",
       "    <tr>\n",
       "      <th>bard</th>\n",
       "      <td>35</td>\n",
       "      <td>0</td>\n",
       "      <td>0</td>\n",
       "      <td>0</td>\n",
       "      <td>0</td>\n",
       "      <td>35</td>\n",
       "    </tr>\n",
       "    <tr>\n",
       "      <th>bing</th>\n",
       "      <td>56</td>\n",
       "      <td>0</td>\n",
       "      <td>0</td>\n",
       "      <td>0</td>\n",
       "      <td>0</td>\n",
       "      <td>56</td>\n",
       "    </tr>\n",
       "    <tr>\n",
       "      <th>gpt3.5</th>\n",
       "      <td>38</td>\n",
       "      <td>34</td>\n",
       "      <td>10</td>\n",
       "      <td>10</td>\n",
       "      <td>22</td>\n",
       "      <td>114</td>\n",
       "    </tr>\n",
       "    <tr>\n",
       "      <th>gpt4</th>\n",
       "      <td>34</td>\n",
       "      <td>0</td>\n",
       "      <td>0</td>\n",
       "      <td>0</td>\n",
       "      <td>0</td>\n",
       "      <td>34</td>\n",
       "    </tr>\n",
       "    <tr>\n",
       "      <th>student</th>\n",
       "      <td>303</td>\n",
       "      <td>990</td>\n",
       "      <td>1249</td>\n",
       "      <td>1454</td>\n",
       "      <td>1626</td>\n",
       "      <td>5622</td>\n",
       "    </tr>\n",
       "    <tr>\n",
       "      <th>All</th>\n",
       "      <td>466</td>\n",
       "      <td>1024</td>\n",
       "      <td>1259</td>\n",
       "      <td>1464</td>\n",
       "      <td>1648</td>\n",
       "      <td>5861</td>\n",
       "    </tr>\n",
       "  </tbody>\n",
       "</table>\n",
       "</div>"
      ],
      "text/plain": [
       "milestone   m0    m1    m2    m3    m4   All\n",
       "source                                      \n",
       "bard        35     0     0     0     0    35\n",
       "bing        56     0     0     0     0    56\n",
       "gpt3.5      38    34    10    10    22   114\n",
       "gpt4        34     0     0     0     0    34\n",
       "student    303   990  1249  1454  1626  5622\n",
       "All        466  1024  1259  1464  1648  5861"
      ]
     },
     "execution_count": 34,
     "metadata": {},
     "output_type": "execute_result"
    }
   ],
   "source": [
    "files_count = pd.DataFrame([(value[\"source\"], value[\"milestone\"]) for value in data], \n",
    "                               columns=[\"source\", \"milestone\"])\n",
    "pd.crosstab(files_count[\"source\"], files_count[\"milestone\"], margins=True)"
   ]
  },
  {
   "cell_type": "markdown",
   "id": "7ddc4e08-6a7f-4f6a-ad4b-9859fd68092f",
   "metadata": {},
   "source": [
    "## Storing the markdown tables"
   ]
  },
  {
   "cell_type": "code",
   "execution_count": 35,
   "id": "dd49a31f-a716-4f13-8c05-15239d247f7d",
   "metadata": {
    "tags": []
   },
   "outputs": [],
   "source": [
    "markdown_data = list()\n",
    "for source in sources:\n",
    "    names = [name for name in os.listdir(f\"raw_solutions\\\\{source}_solutions\") if name[:2]==\"m3\"]\n",
    "    for name in names:\n",
    "        for table in [\"E2.md\", \"E3.md\"]:\n",
    "            path = f\"raw_solutions\\\\{source}_solutions\\\\{name}\\\\src\\\\main\\\\resources\\\\{table}\"\n",
    "            with open(path, \"r\", encoding='utf-8') as open_text:\n",
    "                text = open_text.read()\n",
    "                markdown_data.append({\"source\":source,\n",
    "                                      \"name\":name[3:],\n",
    "                                      \"table\":table,\n",
    "                                      \"text\":text})"
   ]
  },
  {
   "cell_type": "markdown",
   "id": "12f888c8-e470-4174-a9ae-3026d1626b75",
   "metadata": {},
   "source": [
    "Storing the data as JSON:"
   ]
  },
  {
   "cell_type": "code",
   "execution_count": 36,
   "id": "e8ec3ced-944e-459a-8d48-55779d188e0d",
   "metadata": {
    "tags": []
   },
   "outputs": [],
   "source": [
    "with open(\"processed_solutions/all_markdown_tables.json\", 'w') as json_file:\n",
    "    json.dump(markdown_data, json_file)"
   ]
  },
  {
   "cell_type": "markdown",
   "id": "5296e91f-4454-4819-912d-046847ded86d",
   "metadata": {
    "tags": []
   },
   "source": [
    "Number of markdown tables per source and table:"
   ]
  },
  {
   "cell_type": "code",
   "execution_count": 37,
   "id": "490737e5-afb5-47c8-85b0-62234ef9fa4f",
   "metadata": {
    "tags": []
   },
   "outputs": [
    {
     "data": {
      "text/html": [
       "<div>\n",
       "<style scoped>\n",
       "    .dataframe tbody tr th:only-of-type {\n",
       "        vertical-align: middle;\n",
       "    }\n",
       "\n",
       "    .dataframe tbody tr th {\n",
       "        vertical-align: top;\n",
       "    }\n",
       "\n",
       "    .dataframe thead th {\n",
       "        text-align: right;\n",
       "    }\n",
       "</style>\n",
       "<table border=\"1\" class=\"dataframe\">\n",
       "  <thead>\n",
       "    <tr style=\"text-align: right;\">\n",
       "      <th>table</th>\n",
       "      <th>E2.md</th>\n",
       "      <th>E3.md</th>\n",
       "      <th>All</th>\n",
       "    </tr>\n",
       "    <tr>\n",
       "      <th>source</th>\n",
       "      <th></th>\n",
       "      <th></th>\n",
       "      <th></th>\n",
       "    </tr>\n",
       "  </thead>\n",
       "  <tbody>\n",
       "    <tr>\n",
       "      <th>gpt3.5</th>\n",
       "      <td>1</td>\n",
       "      <td>1</td>\n",
       "      <td>2</td>\n",
       "    </tr>\n",
       "    <tr>\n",
       "      <th>student</th>\n",
       "      <td>83</td>\n",
       "      <td>83</td>\n",
       "      <td>166</td>\n",
       "    </tr>\n",
       "    <tr>\n",
       "      <th>All</th>\n",
       "      <td>84</td>\n",
       "      <td>84</td>\n",
       "      <td>168</td>\n",
       "    </tr>\n",
       "  </tbody>\n",
       "</table>\n",
       "</div>"
      ],
      "text/plain": [
       "table    E2.md  E3.md  All\n",
       "source                    \n",
       "gpt3.5       1      1    2\n",
       "student     83     83  166\n",
       "All         84     84  168"
      ]
     },
     "execution_count": 37,
     "metadata": {},
     "output_type": "execute_result"
    }
   ],
   "source": [
    "tables_count = pd.DataFrame([(value[\"source\"], value[\"table\"]) for value in markdown_data], \n",
    "                               columns=[\"source\", \"table\"])\n",
    "pd.crosstab(tables_count[\"source\"], tables_count[\"table\"], margins=True)"
   ]
  },
  {
   "cell_type": "markdown",
   "id": "ee89d6d4-a2a0-4c02-9e4c-569582ffcd64",
   "metadata": {
    "tags": []
   },
   "source": [
    "## Concatenate all files"
   ]
  },
  {
   "cell_type": "code",
   "execution_count": 38,
   "id": "b55f9795-9855-4fc0-9079-e74f55e0400f",
   "metadata": {
    "tags": []
   },
   "outputs": [],
   "source": [
    "concatenated_data = list()\n",
    "for source in sources:\n",
    "    all_files = pd.DataFrame([[file[attribute] for attribute in attributes[source]]\\\n",
    "               for file in data if file[\"source\"]==source], columns=attributes[source])\n",
    "    concat_files = pd.DataFrame(all_files.groupby(attributes[source][:-1])[\"code\"]\\\n",
    "                                .apply(lambda row:\"\\n\".join(row))).reset_index()\n",
    "    concatenated_data += json.loads(concat_files.to_json(orient=\"records\"))"
   ]
  },
  {
   "cell_type": "markdown",
   "id": "cca52223-3fbd-49e1-866e-95f89217e3ca",
   "metadata": {},
   "source": [
    "Storing the data as JSON:"
   ]
  },
  {
   "cell_type": "code",
   "execution_count": 39,
   "id": "75f7ab8e-12f6-4ad2-a568-5194145def1f",
   "metadata": {
    "tags": []
   },
   "outputs": [],
   "source": [
    "with open(\"processed_solutions/all_concat_code_solutions.json\", 'w') as json_file:\n",
    "    json.dump(concatenated_data, json_file)"
   ]
  },
  {
   "cell_type": "markdown",
   "id": "b216ac6b-fed8-4060-b4aa-7fc991784ce5",
   "metadata": {},
   "source": [
    "Number of solutions per source and milestone:"
   ]
  },
  {
   "cell_type": "code",
   "execution_count": 40,
   "id": "3c28a2bc-c604-470d-99ba-76b1b5fb76ac",
   "metadata": {
    "tags": []
   },
   "outputs": [
    {
     "data": {
      "text/html": [
       "<div>\n",
       "<style scoped>\n",
       "    .dataframe tbody tr th:only-of-type {\n",
       "        vertical-align: middle;\n",
       "    }\n",
       "\n",
       "    .dataframe tbody tr th {\n",
       "        vertical-align: top;\n",
       "    }\n",
       "\n",
       "    .dataframe thead th {\n",
       "        text-align: right;\n",
       "    }\n",
       "</style>\n",
       "<table border=\"1\" class=\"dataframe\">\n",
       "  <thead>\n",
       "    <tr style=\"text-align: right;\">\n",
       "      <th>milestone</th>\n",
       "      <th>m0</th>\n",
       "      <th>m1</th>\n",
       "      <th>m2</th>\n",
       "      <th>m3</th>\n",
       "      <th>m4</th>\n",
       "      <th>All</th>\n",
       "    </tr>\n",
       "    <tr>\n",
       "      <th>source</th>\n",
       "      <th></th>\n",
       "      <th></th>\n",
       "      <th></th>\n",
       "      <th></th>\n",
       "      <th></th>\n",
       "      <th></th>\n",
       "    </tr>\n",
       "  </thead>\n",
       "  <tbody>\n",
       "    <tr>\n",
       "      <th>bard</th>\n",
       "      <td>17</td>\n",
       "      <td>0</td>\n",
       "      <td>0</td>\n",
       "      <td>0</td>\n",
       "      <td>0</td>\n",
       "      <td>17</td>\n",
       "    </tr>\n",
       "    <tr>\n",
       "      <th>bing</th>\n",
       "      <td>28</td>\n",
       "      <td>0</td>\n",
       "      <td>0</td>\n",
       "      <td>0</td>\n",
       "      <td>0</td>\n",
       "      <td>28</td>\n",
       "    </tr>\n",
       "    <tr>\n",
       "      <th>gpt3.5</th>\n",
       "      <td>19</td>\n",
       "      <td>4</td>\n",
       "      <td>1</td>\n",
       "      <td>1</td>\n",
       "      <td>1</td>\n",
       "      <td>26</td>\n",
       "    </tr>\n",
       "    <tr>\n",
       "      <th>gpt4</th>\n",
       "      <td>17</td>\n",
       "      <td>0</td>\n",
       "      <td>0</td>\n",
       "      <td>0</td>\n",
       "      <td>0</td>\n",
       "      <td>17</td>\n",
       "    </tr>\n",
       "    <tr>\n",
       "      <th>student</th>\n",
       "      <td>104</td>\n",
       "      <td>102</td>\n",
       "      <td>87</td>\n",
       "      <td>80</td>\n",
       "      <td>73</td>\n",
       "      <td>446</td>\n",
       "    </tr>\n",
       "    <tr>\n",
       "      <th>All</th>\n",
       "      <td>185</td>\n",
       "      <td>106</td>\n",
       "      <td>88</td>\n",
       "      <td>81</td>\n",
       "      <td>74</td>\n",
       "      <td>534</td>\n",
       "    </tr>\n",
       "  </tbody>\n",
       "</table>\n",
       "</div>"
      ],
      "text/plain": [
       "milestone   m0   m1  m2  m3  m4  All\n",
       "source                              \n",
       "bard        17    0   0   0   0   17\n",
       "bing        28    0   0   0   0   28\n",
       "gpt3.5      19    4   1   1   1   26\n",
       "gpt4        17    0   0   0   0   17\n",
       "student    104  102  87  80  73  446\n",
       "All        185  106  88  81  74  534"
      ]
     },
     "execution_count": 40,
     "metadata": {},
     "output_type": "execute_result"
    }
   ],
   "source": [
    "files_count = pd.DataFrame([(value[\"source\"], value[\"milestone\"]) for value in concatenated_data], \n",
    "                           columns=[\"source\", \"milestone\"])\n",
    "pd.crosstab(files_count[\"source\"], files_count[\"milestone\"], margins=True)"
   ]
  }
 ],
 "metadata": {
  "kernelspec": {
   "display_name": "Python 3 (ipykernel)",
   "language": "python",
   "name": "python3"
  },
  "language_info": {
   "codemirror_mode": {
    "name": "ipython",
    "version": 3
   },
   "file_extension": ".py",
   "mimetype": "text/x-python",
   "name": "python",
   "nbconvert_exporter": "python",
   "pygments_lexer": "ipython3",
   "version": "3.9.12"
  }
 },
 "nbformat": 4,
 "nbformat_minor": 5
}
