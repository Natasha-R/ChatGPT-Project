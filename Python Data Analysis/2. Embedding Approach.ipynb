{
 "cells": [
  {
   "cell_type": "code",
   "execution_count": 5,
   "id": "2feabf4a-1fc3-4fa6-8f2b-3011753e3e2c",
   "metadata": {
    "tags": []
   },
   "outputs": [],
   "source": [
    "import pandas as pd\n",
    "import numpy as np\n",
    "from sklearn.ensemble import RandomForestClassifier\n",
    "from sklearn.linear_model import LogisticRegression\n",
    "from sklearn.model_selection import train_test_split, GridSearchCV\n",
    "from sklearn.metrics import accuracy_score\n",
    "import matplotlib.pyplot as plt"
   ]
  },
  {
   "cell_type": "code",
   "execution_count": 12,
   "id": "37f5829f-6ae8-41d9-b31c-4c96edf99cc3",
   "metadata": {
    "tags": []
   },
   "outputs": [],
   "source": [
    "data = pd.read_csv(\"data/sample_data_embeddings.csv\")"
   ]
  },
  {
   "cell_type": "code",
   "execution_count": 13,
   "id": "143f64fe-d0a1-4ebd-bd37-6409da800a2e",
   "metadata": {
    "tags": []
   },
   "outputs": [
    {
     "data": {
      "text/html": [
       "<div>\n",
       "<style scoped>\n",
       "    .dataframe tbody tr th:only-of-type {\n",
       "        vertical-align: middle;\n",
       "    }\n",
       "\n",
       "    .dataframe tbody tr th {\n",
       "        vertical-align: top;\n",
       "    }\n",
       "\n",
       "    .dataframe thead th {\n",
       "        text-align: right;\n",
       "    }\n",
       "</style>\n",
       "<table border=\"1\" class=\"dataframe\">\n",
       "  <thead>\n",
       "    <tr style=\"text-align: right;\">\n",
       "      <th></th>\n",
       "      <th>problem_id</th>\n",
       "      <th>source</th>\n",
       "      <th>solution</th>\n",
       "      <th>0</th>\n",
       "      <th>1</th>\n",
       "      <th>2</th>\n",
       "      <th>3</th>\n",
       "      <th>4</th>\n",
       "      <th>5</th>\n",
       "      <th>6</th>\n",
       "      <th>...</th>\n",
       "      <th>1526</th>\n",
       "      <th>1527</th>\n",
       "      <th>1528</th>\n",
       "      <th>1529</th>\n",
       "      <th>1530</th>\n",
       "      <th>1531</th>\n",
       "      <th>1532</th>\n",
       "      <th>1533</th>\n",
       "      <th>1534</th>\n",
       "      <th>1535</th>\n",
       "    </tr>\n",
       "  </thead>\n",
       "  <tbody>\n",
       "    <tr>\n",
       "      <th>0</th>\n",
       "      <td>HumanEval/0</td>\n",
       "      <td>Human</td>\n",
       "      <td>for idx, elem in enumerate(numbers):\\n    ...</td>\n",
       "      <td>-0.004247</td>\n",
       "      <td>-0.005158</td>\n",
       "      <td>0.005247</td>\n",
       "      <td>-0.019879</td>\n",
       "      <td>0.004960</td>\n",
       "      <td>0.025503</td>\n",
       "      <td>0.002922</td>\n",
       "      <td>...</td>\n",
       "      <td>0.008758</td>\n",
       "      <td>-0.008250</td>\n",
       "      <td>0.024288</td>\n",
       "      <td>-0.016883</td>\n",
       "      <td>-0.035614</td>\n",
       "      <td>-0.008507</td>\n",
       "      <td>0.025885</td>\n",
       "      <td>-0.008422</td>\n",
       "      <td>0.007293</td>\n",
       "      <td>-0.032129</td>\n",
       "    </tr>\n",
       "    <tr>\n",
       "      <th>1</th>\n",
       "      <td>HumanEval/1</td>\n",
       "      <td>Human</td>\n",
       "      <td>result = []\\n    current_string = []\\n    ...</td>\n",
       "      <td>0.017016</td>\n",
       "      <td>0.027445</td>\n",
       "      <td>0.000411</td>\n",
       "      <td>-0.023322</td>\n",
       "      <td>-0.014780</td>\n",
       "      <td>0.007986</td>\n",
       "      <td>-0.005941</td>\n",
       "      <td>...</td>\n",
       "      <td>0.012250</td>\n",
       "      <td>-0.021675</td>\n",
       "      <td>0.050740</td>\n",
       "      <td>-0.048946</td>\n",
       "      <td>-0.039254</td>\n",
       "      <td>-0.013910</td>\n",
       "      <td>-0.009546</td>\n",
       "      <td>-0.005010</td>\n",
       "      <td>0.008247</td>\n",
       "      <td>-0.044421</td>\n",
       "    </tr>\n",
       "    <tr>\n",
       "      <th>2</th>\n",
       "      <td>HumanEval/2</td>\n",
       "      <td>Human</td>\n",
       "      <td>return number % 1.0\\n</td>\n",
       "      <td>0.020809</td>\n",
       "      <td>0.016133</td>\n",
       "      <td>0.011168</td>\n",
       "      <td>-0.041892</td>\n",
       "      <td>0.004910</td>\n",
       "      <td>-0.006780</td>\n",
       "      <td>-0.008554</td>\n",
       "      <td>...</td>\n",
       "      <td>0.027286</td>\n",
       "      <td>-0.017439</td>\n",
       "      <td>0.010102</td>\n",
       "      <td>-0.024659</td>\n",
       "      <td>-0.033695</td>\n",
       "      <td>0.003765</td>\n",
       "      <td>0.011181</td>\n",
       "      <td>-0.013574</td>\n",
       "      <td>-0.007592</td>\n",
       "      <td>-0.046596</td>\n",
       "    </tr>\n",
       "    <tr>\n",
       "      <th>3</th>\n",
       "      <td>HumanEval/3</td>\n",
       "      <td>Human</td>\n",
       "      <td>balance = 0\\n\\n    for op in operations:\\n...</td>\n",
       "      <td>0.009949</td>\n",
       "      <td>-0.005340</td>\n",
       "      <td>-0.006248</td>\n",
       "      <td>-0.022691</td>\n",
       "      <td>-0.007548</td>\n",
       "      <td>0.010208</td>\n",
       "      <td>-0.014631</td>\n",
       "      <td>...</td>\n",
       "      <td>0.013687</td>\n",
       "      <td>-0.037455</td>\n",
       "      <td>0.034795</td>\n",
       "      <td>0.009058</td>\n",
       "      <td>-0.031603</td>\n",
       "      <td>0.009231</td>\n",
       "      <td>0.019353</td>\n",
       "      <td>-0.007209</td>\n",
       "      <td>0.038626</td>\n",
       "      <td>-0.046048</td>\n",
       "    </tr>\n",
       "    <tr>\n",
       "      <th>4</th>\n",
       "      <td>HumanEval/4</td>\n",
       "      <td>Human</td>\n",
       "      <td>mean = sum(numbers) / len(numbers)\\n    re...</td>\n",
       "      <td>0.008044</td>\n",
       "      <td>0.004901</td>\n",
       "      <td>0.036726</td>\n",
       "      <td>-0.031968</td>\n",
       "      <td>0.003839</td>\n",
       "      <td>-0.007312</td>\n",
       "      <td>0.022597</td>\n",
       "      <td>...</td>\n",
       "      <td>0.031106</td>\n",
       "      <td>-0.021173</td>\n",
       "      <td>0.009012</td>\n",
       "      <td>-0.027080</td>\n",
       "      <td>-0.029093</td>\n",
       "      <td>-0.000782</td>\n",
       "      <td>0.032491</td>\n",
       "      <td>-0.029250</td>\n",
       "      <td>0.002658</td>\n",
       "      <td>-0.044175</td>\n",
       "    </tr>\n",
       "  </tbody>\n",
       "</table>\n",
       "<p>5 rows × 1539 columns</p>\n",
       "</div>"
      ],
      "text/plain": [
       "    problem_id source                                           solution  \\\n",
       "0  HumanEval/0  Human      for idx, elem in enumerate(numbers):\\n    ...   \n",
       "1  HumanEval/1  Human      result = []\\n    current_string = []\\n    ...   \n",
       "2  HumanEval/2  Human                              return number % 1.0\\n   \n",
       "3  HumanEval/3  Human      balance = 0\\n\\n    for op in operations:\\n...   \n",
       "4  HumanEval/4  Human      mean = sum(numbers) / len(numbers)\\n    re...   \n",
       "\n",
       "          0         1         2         3         4         5         6  ...  \\\n",
       "0 -0.004247 -0.005158  0.005247 -0.019879  0.004960  0.025503  0.002922  ...   \n",
       "1  0.017016  0.027445  0.000411 -0.023322 -0.014780  0.007986 -0.005941  ...   \n",
       "2  0.020809  0.016133  0.011168 -0.041892  0.004910 -0.006780 -0.008554  ...   \n",
       "3  0.009949 -0.005340 -0.006248 -0.022691 -0.007548  0.010208 -0.014631  ...   \n",
       "4  0.008044  0.004901  0.036726 -0.031968  0.003839 -0.007312  0.022597  ...   \n",
       "\n",
       "       1526      1527      1528      1529      1530      1531      1532  \\\n",
       "0  0.008758 -0.008250  0.024288 -0.016883 -0.035614 -0.008507  0.025885   \n",
       "1  0.012250 -0.021675  0.050740 -0.048946 -0.039254 -0.013910 -0.009546   \n",
       "2  0.027286 -0.017439  0.010102 -0.024659 -0.033695  0.003765  0.011181   \n",
       "3  0.013687 -0.037455  0.034795  0.009058 -0.031603  0.009231  0.019353   \n",
       "4  0.031106 -0.021173  0.009012 -0.027080 -0.029093 -0.000782  0.032491   \n",
       "\n",
       "       1533      1534      1535  \n",
       "0 -0.008422  0.007293 -0.032129  \n",
       "1 -0.005010  0.008247 -0.044421  \n",
       "2 -0.013574 -0.007592 -0.046596  \n",
       "3 -0.007209  0.038626 -0.046048  \n",
       "4 -0.029250  0.002658 -0.044175  \n",
       "\n",
       "[5 rows x 1539 columns]"
      ]
     },
     "execution_count": 13,
     "metadata": {},
     "output_type": "execute_result"
    }
   ],
   "source": [
    "data.head()"
   ]
  },
  {
   "cell_type": "markdown",
   "id": "c144743e-41e9-4f4c-a781-69590408ca4f",
   "metadata": {
    "tags": []
   },
   "source": [
    "## Modelling"
   ]
  },
  {
   "cell_type": "code",
   "execution_count": 14,
   "id": "b07cc409-d238-4602-b98c-e5dcb5a396f0",
   "metadata": {
    "tags": []
   },
   "outputs": [],
   "source": [
    "features = list(data.columns[4:])"
   ]
  },
  {
   "cell_type": "code",
   "execution_count": 15,
   "id": "d2f536d6-ab8a-4a25-91f6-95bec4456e9f",
   "metadata": {
    "tags": []
   },
   "outputs": [],
   "source": [
    "X_train, X_test, y_train, y_test = train_test_split(data[features].values, data[\"source\"], test_size=0.3, random_state=3)"
   ]
  },
  {
   "cell_type": "raw",
   "id": "e79654d8-a846-4664-8758-a071ee0dc744",
   "metadata": {
    "tags": []
   },
   "source": [
    "forest_cv = GridSearchCV(RandomForestClassifier(random_state=0), param_grid={\"n_estimators\":np.arange(100,200,10),\n",
    "                                                                             \"max_depth\":[10, 20, 30, None], \n",
    "                                                                             \"max_features\":[1, 0.9, 0.8, \"sqrt\", \"log2\"]}) \n",
    "forest_cv.fit(X_train, y_train)\n",
    "forest_cv_results = pd.DataFrame(forest_cv.cv_results_)\n",
    "forest_cv_results[forest_cv_results[\"rank_test_score\"]==1]"
   ]
  },
  {
   "cell_type": "code",
   "execution_count": 16,
   "id": "c37e8b53-a46b-49a0-b428-f6a2decd73c6",
   "metadata": {
    "tags": []
   },
   "outputs": [
    {
     "name": "stdout",
     "output_type": "stream",
     "text": [
      "Accuracy on test set: 99.0 %\n"
     ]
    }
   ],
   "source": [
    "forest_model = RandomForestClassifier(random_state=0, n_estimators=160, max_features=\"sqrt\")\n",
    "forest_model.fit(X_train, y_train)\n",
    "print(\"Accuracy on test set:\", np.round(accuracy_score(y_test, forest_model.predict(X_test)), 3)*100, \"%\")"
   ]
  },
  {
   "cell_type": "code",
   "execution_count": 17,
   "id": "26b2a855-e08d-4e3f-b737-77401597ef66",
   "metadata": {
    "tags": []
   },
   "outputs": [
    {
     "data": {
      "image/png": "[encoded data removed]",
      "text/plain": [
       "<Figure size 504x720 with 1 Axes>"
      ]
     },
     "metadata": {
      "needs_background": "light"
     },
     "output_type": "display_data"
    }
   ],
   "source": [
    "plt.figure(figsize=(7, 10))\n",
    "ax = pd.Series(forest_model.feature_importances_, index=features).sort_values(ascending=True).tail(50).plot.barh()"
   ]
  },
  {
   "cell_type": "code",
   "execution_count": 18,
   "id": "7d108a00-185c-4a5b-900c-b3ebf2b7e702",
   "metadata": {
    "tags": []
   },
   "outputs": [],
   "source": [
    "misclassified = y_test != forest_model.predict(X_test)"
   ]
  },
  {
   "cell_type": "code",
   "execution_count": 19,
   "id": "6a6fbc1d-5535-4740-997d-55c31fa1d76f",
   "metadata": {},
   "outputs": [
    {
     "data": {
      "text/plain": [
       "['    return sum(elem for elem in arr[:k] if len(str(elem)) <= 2)']"
      ]
     },
     "execution_count": 19,
     "metadata": {},
     "output_type": "execute_result"
    }
   ],
   "source": [
    "data.loc[misclassified.index[misclassified]][\"solution\"][122].splitlines()"
   ]
  }
 ],
 "metadata": {
  "kernelspec": {
   "display_name": "Python 3 (ipykernel)",
   "language": "python",
   "name": "python3"
  },
  "language_info": {
   "codemirror_mode": {
    "name": "ipython",
    "version": 3
   },
   "file_extension": ".py",
   "mimetype": "text/x-python",
   "name": "python",
   "nbconvert_exporter": "python",
   "pygments_lexer": "ipython3",
   "version": "3.9.12"
  }
 },
 "nbformat": 4,
 "nbformat_minor": 5
}
