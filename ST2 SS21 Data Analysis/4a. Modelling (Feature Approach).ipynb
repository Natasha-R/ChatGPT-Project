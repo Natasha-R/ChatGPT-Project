{
 "cells": [
  {
   "cell_type": "code",
   "execution_count": 1,
   "id": "c55b527f-03ca-4c0c-88a0-51abae0bbedd",
   "metadata": {
    "tags": []
   },
   "outputs": [],
   "source": [
    "import pandas as pd\n",
    "import numpy as np\n",
    "import scipy as sp\n",
    "import seaborn as sns\n",
    "import matplotlib.pyplot as plt\n",
    "\n",
    "from sklearn.ensemble import RandomForestClassifier\n",
    "from sklearn.linear_model import LogisticRegression\n",
    "from sklearn.model_selection import train_test_split, GridSearchCV\n",
    "from sklearn.metrics import accuracy_score, precision_recall_curve"
   ]
  },
  {
   "cell_type": "code",
   "execution_count": 2,
   "id": "37699842-2612-40bf-b5d3-7d2e14ef578b",
   "metadata": {
    "tags": []
   },
   "outputs": [],
   "source": [
    "feature_data = pd.read_csv(\"ss21_processed_solutions/m0_feature_data.csv\")\n",
    "feature_data[\"binary_source\"] = feature_data[\"source\"].apply(lambda row: row if row==\"student\" else \"ai\")\n",
    "\n",
    "features = list(feature_data.columns[6:-1])"
   ]
  },
  {
   "cell_type": "code",
   "execution_count": 4,
   "id": "1890ce5b-beac-42fc-85db-d5093e38164b",
   "metadata": {
    "tags": []
   },
   "outputs": [
    {
     "data": {
      "text/plain": [
       "['num_chars',\n",
       " 'num_lines',\n",
       " 'avg_line_length',\n",
       " 'max_line_length',\n",
       " 'num_scaled_comments',\n",
       " 'num_scaled_if',\n",
       " 'num_scaled_for',\n",
       " 'num_scaled_switch',\n",
       " 'num_scaled_digits',\n",
       " 'num_scaled_exceptions',\n",
       " 'num_scaled_empty_lines',\n",
       " 'num_scaled_whitespace',\n",
       " 'num_scaled_indents',\n",
       " 'num_scaled_prints',\n",
       " 'prop_spaces_around_assignments',\n",
       " 'used_boolean',\n",
       " 'used_List',\n",
       " 'used_Integer',\n",
       " 'used_Point',\n",
       " 'used_ArrayList',\n",
       " 'used_StringBuilder',\n",
       " 'num_files',\n",
       " 'num_scaled_method_declarations',\n",
       " 'num_scaled_declared_fields',\n",
       " 'num_scaled_local_variables',\n",
       " 'num_scaled_classes',\n",
       " 'num_scaled_field_references',\n",
       " 'num_scaled_method_invocations',\n",
       " 'num_scaled_imports',\n",
       " 'avg_name_length',\n",
       " 'max_name_length',\n",
       " 'avg_comment_length',\n",
       " 'max_comment_length',\n",
       " 'scaled_edit_distance',\n",
       " 'diff_num_chars',\n",
       " 'diff_num_lines',\n",
       " 'diff_avg_line_length',\n",
       " 'diff_max_line_length',\n",
       " 'diff_num_scaled_empty_lines',\n",
       " 'diff_num_scaled_whitespace',\n",
       " 'diff_num_scaled_indents']"
      ]
     },
     "execution_count": 4,
     "metadata": {},
     "output_type": "execute_result"
    }
   ],
   "source": [
    "features"
   ]
  },
  {
   "cell_type": "code",
   "execution_count": 4,
   "id": "e0b3d07c-695e-42d0-8f6a-e19fd276b94f",
   "metadata": {
    "tags": []
   },
   "outputs": [
    {
     "data": {
      "text/html": [
       "<div>\n",
       "<style scoped>\n",
       "    .dataframe tbody tr th:only-of-type {\n",
       "        vertical-align: middle;\n",
       "    }\n",
       "\n",
       "    .dataframe tbody tr th {\n",
       "        vertical-align: top;\n",
       "    }\n",
       "\n",
       "    .dataframe thead th {\n",
       "        text-align: right;\n",
       "    }\n",
       "</style>\n",
       "<table border=\"1\" class=\"dataframe\">\n",
       "  <thead>\n",
       "    <tr style=\"text-align: right;\">\n",
       "      <th></th>\n",
       "      <th>source</th>\n",
       "      <th>milestone</th>\n",
       "      <th>name</th>\n",
       "      <th>style</th>\n",
       "      <th>version</th>\n",
       "      <th>code</th>\n",
       "      <th>num_chars</th>\n",
       "      <th>num_lines</th>\n",
       "      <th>avg_line_length</th>\n",
       "      <th>max_line_length</th>\n",
       "      <th>...</th>\n",
       "      <th>max_comment_length</th>\n",
       "      <th>scaled_edit_distance</th>\n",
       "      <th>diff_num_chars</th>\n",
       "      <th>diff_num_lines</th>\n",
       "      <th>diff_avg_line_length</th>\n",
       "      <th>diff_max_line_length</th>\n",
       "      <th>diff_num_scaled_empty_lines</th>\n",
       "      <th>diff_num_scaled_whitespace</th>\n",
       "      <th>diff_num_scaled_indents</th>\n",
       "      <th>binary_source</th>\n",
       "    </tr>\n",
       "  </thead>\n",
       "  <tbody>\n",
       "    <tr>\n",
       "      <th>0</th>\n",
       "      <td>bard</td>\n",
       "      <td>m0</td>\n",
       "      <td>1</td>\n",
       "      <td>plain</td>\n",
       "      <td>NaN</td>\n",
       "      <td>package thkoeln.st.st2praktikum.exercise;\\n\\np...</td>\n",
       "      <td>2393</td>\n",
       "      <td>72</td>\n",
       "      <td>35.707692</td>\n",
       "      <td>99</td>\n",
       "      <td>...</td>\n",
       "      <td>0</td>\n",
       "      <td>4.791667</td>\n",
       "      <td>343</td>\n",
       "      <td>1</td>\n",
       "      <td>5.292308</td>\n",
       "      <td>4</td>\n",
       "      <td>0.013889</td>\n",
       "      <td>4.777778</td>\n",
       "      <td>4.777778</td>\n",
       "      <td>ai</td>\n",
       "    </tr>\n",
       "    <tr>\n",
       "      <th>1</th>\n",
       "      <td>bard</td>\n",
       "      <td>m0</td>\n",
       "      <td>10</td>\n",
       "      <td>styled</td>\n",
       "      <td>NaN</td>\n",
       "      <td>package thkoeln.st.st2praktikum.exercise;\\n\\np...</td>\n",
       "      <td>2345</td>\n",
       "      <td>81</td>\n",
       "      <td>31.444444</td>\n",
       "      <td>100</td>\n",
       "      <td>...</td>\n",
       "      <td>37</td>\n",
       "      <td>5.148148</td>\n",
       "      <td>415</td>\n",
       "      <td>1</td>\n",
       "      <td>5.777778</td>\n",
       "      <td>4</td>\n",
       "      <td>0.012346</td>\n",
       "      <td>5.135802</td>\n",
       "      <td>5.135802</td>\n",
       "      <td>ai</td>\n",
       "    </tr>\n",
       "    <tr>\n",
       "      <th>2</th>\n",
       "      <td>bard</td>\n",
       "      <td>m0</td>\n",
       "      <td>11</td>\n",
       "      <td>styled</td>\n",
       "      <td>NaN</td>\n",
       "      <td>package thkoeln.st.st2praktikum.exercise;\\n\\np...</td>\n",
       "      <td>2014</td>\n",
       "      <td>72</td>\n",
       "      <td>30.343750</td>\n",
       "      <td>97</td>\n",
       "      <td>...</td>\n",
       "      <td>0</td>\n",
       "      <td>6.041667</td>\n",
       "      <td>289</td>\n",
       "      <td>1</td>\n",
       "      <td>4.531250</td>\n",
       "      <td>2</td>\n",
       "      <td>0.013889</td>\n",
       "      <td>4.027778</td>\n",
       "      <td>5.083333</td>\n",
       "      <td>ai</td>\n",
       "    </tr>\n",
       "    <tr>\n",
       "      <th>3</th>\n",
       "      <td>bard</td>\n",
       "      <td>m0</td>\n",
       "      <td>12</td>\n",
       "      <td>styled</td>\n",
       "      <td>NaN</td>\n",
       "      <td>package thkoeln.st.st2praktikum.exercise;\\n\\np...</td>\n",
       "      <td>1930</td>\n",
       "      <td>61</td>\n",
       "      <td>31.677966</td>\n",
       "      <td>100</td>\n",
       "      <td>...</td>\n",
       "      <td>0</td>\n",
       "      <td>4.606557</td>\n",
       "      <td>276</td>\n",
       "      <td>4</td>\n",
       "      <td>4.745763</td>\n",
       "      <td>4</td>\n",
       "      <td>0.065574</td>\n",
       "      <td>4.590164</td>\n",
       "      <td>4.590164</td>\n",
       "      <td>ai</td>\n",
       "    </tr>\n",
       "    <tr>\n",
       "      <th>4</th>\n",
       "      <td>bard</td>\n",
       "      <td>m0</td>\n",
       "      <td>13</td>\n",
       "      <td>cc</td>\n",
       "      <td>NaN</td>\n",
       "      <td>package thkoeln.st.st2praktikum.exercise;\\n\\ni...</td>\n",
       "      <td>2729</td>\n",
       "      <td>85</td>\n",
       "      <td>37.771429</td>\n",
       "      <td>115</td>\n",
       "      <td>...</td>\n",
       "      <td>66</td>\n",
       "      <td>3.611765</td>\n",
       "      <td>209</td>\n",
       "      <td>7</td>\n",
       "      <td>5.824060</td>\n",
       "      <td>20</td>\n",
       "      <td>0.011765</td>\n",
       "      <td>2.541176</td>\n",
       "      <td>2.494118</td>\n",
       "      <td>ai</td>\n",
       "    </tr>\n",
       "    <tr>\n",
       "      <th>...</th>\n",
       "      <td>...</td>\n",
       "      <td>...</td>\n",
       "      <td>...</td>\n",
       "      <td>...</td>\n",
       "      <td>...</td>\n",
       "      <td>...</td>\n",
       "      <td>...</td>\n",
       "      <td>...</td>\n",
       "      <td>...</td>\n",
       "      <td>...</td>\n",
       "      <td>...</td>\n",
       "      <td>...</td>\n",
       "      <td>...</td>\n",
       "      <td>...</td>\n",
       "      <td>...</td>\n",
       "      <td>...</td>\n",
       "      <td>...</td>\n",
       "      <td>...</td>\n",
       "      <td>...</td>\n",
       "      <td>...</td>\n",
       "      <td>...</td>\n",
       "    </tr>\n",
       "    <tr>\n",
       "      <th>193</th>\n",
       "      <td>student</td>\n",
       "      <td>m0</td>\n",
       "      <td>student92</td>\n",
       "      <td>NaN</td>\n",
       "      <td>NaN</td>\n",
       "      <td>package thkoeln.st.st2praktikum.exercise;\\n\\np...</td>\n",
       "      <td>2739</td>\n",
       "      <td>87</td>\n",
       "      <td>33.150000</td>\n",
       "      <td>61</td>\n",
       "      <td>...</td>\n",
       "      <td>0</td>\n",
       "      <td>8.632184</td>\n",
       "      <td>729</td>\n",
       "      <td>-13</td>\n",
       "      <td>4.254478</td>\n",
       "      <td>-4</td>\n",
       "      <td>0.000000</td>\n",
       "      <td>8.229885</td>\n",
       "      <td>8.505747</td>\n",
       "      <td>student</td>\n",
       "    </tr>\n",
       "    <tr>\n",
       "      <th>194</th>\n",
       "      <td>student</td>\n",
       "      <td>m0</td>\n",
       "      <td>student94</td>\n",
       "      <td>NaN</td>\n",
       "      <td>NaN</td>\n",
       "      <td>package thkoeln.st.st2praktikum.exercise;\\npub...</td>\n",
       "      <td>4578</td>\n",
       "      <td>158</td>\n",
       "      <td>31.798561</td>\n",
       "      <td>134</td>\n",
       "      <td>...</td>\n",
       "      <td>12</td>\n",
       "      <td>11.341772</td>\n",
       "      <td>1225</td>\n",
       "      <td>-27</td>\n",
       "      <td>3.030704</td>\n",
       "      <td>23</td>\n",
       "      <td>0.000000</td>\n",
       "      <td>7.582278</td>\n",
       "      <td>9.664557</td>\n",
       "      <td>student</td>\n",
       "    </tr>\n",
       "    <tr>\n",
       "      <th>195</th>\n",
       "      <td>student</td>\n",
       "      <td>m0</td>\n",
       "      <td>student96</td>\n",
       "      <td>NaN</td>\n",
       "      <td>NaN</td>\n",
       "      <td>package thkoeln.st.st2praktikum.exercise;\\n\\np...</td>\n",
       "      <td>5241</td>\n",
       "      <td>161</td>\n",
       "      <td>40.967742</td>\n",
       "      <td>97</td>\n",
       "      <td>...</td>\n",
       "      <td>75</td>\n",
       "      <td>5.385093</td>\n",
       "      <td>832</td>\n",
       "      <td>-8</td>\n",
       "      <td>6.645161</td>\n",
       "      <td>9</td>\n",
       "      <td>-0.012422</td>\n",
       "      <td>5.118012</td>\n",
       "      <td>5.211180</td>\n",
       "      <td>student</td>\n",
       "    </tr>\n",
       "    <tr>\n",
       "      <th>196</th>\n",
       "      <td>student</td>\n",
       "      <td>m0</td>\n",
       "      <td>student97</td>\n",
       "      <td>NaN</td>\n",
       "      <td>NaN</td>\n",
       "      <td>package thkoeln.st.st2praktikum.exercise;\\n\\n\\...</td>\n",
       "      <td>3127</td>\n",
       "      <td>95</td>\n",
       "      <td>39.894737</td>\n",
       "      <td>107</td>\n",
       "      <td>...</td>\n",
       "      <td>43</td>\n",
       "      <td>6.473684</td>\n",
       "      <td>508</td>\n",
       "      <td>-18</td>\n",
       "      <td>0.787045</td>\n",
       "      <td>7</td>\n",
       "      <td>-0.010526</td>\n",
       "      <td>5.157895</td>\n",
       "      <td>5.663158</td>\n",
       "      <td>student</td>\n",
       "    </tr>\n",
       "    <tr>\n",
       "      <th>197</th>\n",
       "      <td>student</td>\n",
       "      <td>m0</td>\n",
       "      <td>student98</td>\n",
       "      <td>NaN</td>\n",
       "      <td>NaN</td>\n",
       "      <td>package thkoeln.st.st2praktikum.exercise;\\n\\na...</td>\n",
       "      <td>10099</td>\n",
       "      <td>332</td>\n",
       "      <td>37.136882</td>\n",
       "      <td>166</td>\n",
       "      <td>...</td>\n",
       "      <td>156</td>\n",
       "      <td>3.810241</td>\n",
       "      <td>840</td>\n",
       "      <td>8</td>\n",
       "      <td>4.225443</td>\n",
       "      <td>66</td>\n",
       "      <td>0.000000</td>\n",
       "      <td>2.566265</td>\n",
       "      <td>2.518072</td>\n",
       "      <td>student</td>\n",
       "    </tr>\n",
       "  </tbody>\n",
       "</table>\n",
       "<p>198 rows × 48 columns</p>\n",
       "</div>"
      ],
      "text/plain": [
       "      source milestone       name   style version  \\\n",
       "0       bard        m0          1   plain     NaN   \n",
       "1       bard        m0         10  styled     NaN   \n",
       "2       bard        m0         11  styled     NaN   \n",
       "3       bard        m0         12  styled     NaN   \n",
       "4       bard        m0         13      cc     NaN   \n",
       "..       ...       ...        ...     ...     ...   \n",
       "193  student        m0  student92     NaN     NaN   \n",
       "194  student        m0  student94     NaN     NaN   \n",
       "195  student        m0  student96     NaN     NaN   \n",
       "196  student        m0  student97     NaN     NaN   \n",
       "197  student        m0  student98     NaN     NaN   \n",
       "\n",
       "                                                  code  num_chars  num_lines  \\\n",
       "0    package thkoeln.st.st2praktikum.exercise;\\n\\np...       2393         72   \n",
       "1    package thkoeln.st.st2praktikum.exercise;\\n\\np...       2345         81   \n",
       "2    package thkoeln.st.st2praktikum.exercise;\\n\\np...       2014         72   \n",
       "3    package thkoeln.st.st2praktikum.exercise;\\n\\np...       1930         61   \n",
       "4    package thkoeln.st.st2praktikum.exercise;\\n\\ni...       2729         85   \n",
       "..                                                 ...        ...        ...   \n",
       "193  package thkoeln.st.st2praktikum.exercise;\\n\\np...       2739         87   \n",
       "194  package thkoeln.st.st2praktikum.exercise;\\npub...       4578        158   \n",
       "195  package thkoeln.st.st2praktikum.exercise;\\n\\np...       5241        161   \n",
       "196  package thkoeln.st.st2praktikum.exercise;\\n\\n\\...       3127         95   \n",
       "197  package thkoeln.st.st2praktikum.exercise;\\n\\na...      10099        332   \n",
       "\n",
       "     avg_line_length  max_line_length  ...  max_comment_length  \\\n",
       "0          35.707692               99  ...                   0   \n",
       "1          31.444444              100  ...                  37   \n",
       "2          30.343750               97  ...                   0   \n",
       "3          31.677966              100  ...                   0   \n",
       "4          37.771429              115  ...                  66   \n",
       "..               ...              ...  ...                 ...   \n",
       "193        33.150000               61  ...                   0   \n",
       "194        31.798561              134  ...                  12   \n",
       "195        40.967742               97  ...                  75   \n",
       "196        39.894737              107  ...                  43   \n",
       "197        37.136882              166  ...                 156   \n",
       "\n",
       "     scaled_edit_distance  diff_num_chars  diff_num_lines  \\\n",
       "0                4.791667             343               1   \n",
       "1                5.148148             415               1   \n",
       "2                6.041667             289               1   \n",
       "3                4.606557             276               4   \n",
       "4                3.611765             209               7   \n",
       "..                    ...             ...             ...   \n",
       "193              8.632184             729             -13   \n",
       "194             11.341772            1225             -27   \n",
       "195              5.385093             832              -8   \n",
       "196              6.473684             508             -18   \n",
       "197              3.810241             840               8   \n",
       "\n",
       "     diff_avg_line_length  diff_max_line_length  diff_num_scaled_empty_lines  \\\n",
       "0                5.292308                     4                     0.013889   \n",
       "1                5.777778                     4                     0.012346   \n",
       "2                4.531250                     2                     0.013889   \n",
       "3                4.745763                     4                     0.065574   \n",
       "4                5.824060                    20                     0.011765   \n",
       "..                    ...                   ...                          ...   \n",
       "193              4.254478                    -4                     0.000000   \n",
       "194              3.030704                    23                     0.000000   \n",
       "195              6.645161                     9                    -0.012422   \n",
       "196              0.787045                     7                    -0.010526   \n",
       "197              4.225443                    66                     0.000000   \n",
       "\n",
       "     diff_num_scaled_whitespace  diff_num_scaled_indents  binary_source  \n",
       "0                      4.777778                 4.777778             ai  \n",
       "1                      5.135802                 5.135802             ai  \n",
       "2                      4.027778                 5.083333             ai  \n",
       "3                      4.590164                 4.590164             ai  \n",
       "4                      2.541176                 2.494118             ai  \n",
       "..                          ...                      ...            ...  \n",
       "193                    8.229885                 8.505747        student  \n",
       "194                    7.582278                 9.664557        student  \n",
       "195                    5.118012                 5.211180        student  \n",
       "196                    5.157895                 5.663158        student  \n",
       "197                    2.566265                 2.518072        student  \n",
       "\n",
       "[198 rows x 48 columns]"
      ]
     },
     "execution_count": 4,
     "metadata": {},
     "output_type": "execute_result"
    }
   ],
   "source": [
    "feature_data"
   ]
  },
  {
   "cell_type": "markdown",
   "id": "0c5a1b70-1f88-4cf4-adf4-4ce78ab3c046",
   "metadata": {},
   "source": [
    "## Classifying the data using features"
   ]
  },
  {
   "cell_type": "code",
   "execution_count": 3,
   "id": "44763d2d-d457-488d-bc20-001c6919bc32",
   "metadata": {
    "tags": []
   },
   "outputs": [],
   "source": [
    "X_train_binary, X_test_binary, y_train_binary, y_test_binary = train_test_split(feature_data[features].values, feature_data[\"binary_source\"], test_size=0.3, random_state=0)"
   ]
  },
  {
   "cell_type": "markdown",
   "id": "0a990dea-1125-454a-a4db-32e9e70657cc",
   "metadata": {},
   "source": [
    "Cross-validation on only the training data to find the best hyperparameters for the random forest classification model:"
   ]
  },
  {
   "cell_type": "code",
   "execution_count": 4,
   "id": "4373a3aa-f45f-41d9-9c6f-c8d148be6170",
   "metadata": {
    "tags": []
   },
   "outputs": [
    {
     "data": {
      "text/html": [
       "<div>\n",
       "<style scoped>\n",
       "    .dataframe tbody tr th:only-of-type {\n",
       "        vertical-align: middle;\n",
       "    }\n",
       "\n",
       "    .dataframe tbody tr th {\n",
       "        vertical-align: top;\n",
       "    }\n",
       "\n",
       "    .dataframe thead th {\n",
       "        text-align: right;\n",
       "    }\n",
       "</style>\n",
       "<table border=\"1\" class=\"dataframe\">\n",
       "  <thead>\n",
       "    <tr style=\"text-align: right;\">\n",
       "      <th></th>\n",
       "      <th>mean_fit_time</th>\n",
       "      <th>std_fit_time</th>\n",
       "      <th>mean_score_time</th>\n",
       "      <th>std_score_time</th>\n",
       "      <th>param_max_depth</th>\n",
       "      <th>param_max_features</th>\n",
       "      <th>param_n_estimators</th>\n",
       "      <th>params</th>\n",
       "      <th>split0_test_score</th>\n",
       "      <th>split1_test_score</th>\n",
       "      <th>split2_test_score</th>\n",
       "      <th>split3_test_score</th>\n",
       "      <th>split4_test_score</th>\n",
       "      <th>mean_test_score</th>\n",
       "      <th>std_test_score</th>\n",
       "      <th>rank_test_score</th>\n",
       "    </tr>\n",
       "  </thead>\n",
       "  <tbody>\n",
       "    <tr>\n",
       "      <th>50</th>\n",
       "      <td>0.097088</td>\n",
       "      <td>0.000633</td>\n",
       "      <td>0.009008</td>\n",
       "      <td>1.507891e-07</td>\n",
       "      <td>20</td>\n",
       "      <td>1</td>\n",
       "      <td>100</td>\n",
       "      <td>{'max_depth': 20, 'max_features': 1, 'n_estima...</td>\n",
       "      <td>0.892857</td>\n",
       "      <td>0.964286</td>\n",
       "      <td>0.857143</td>\n",
       "      <td>0.888889</td>\n",
       "      <td>0.925926</td>\n",
       "      <td>0.90582</td>\n",
       "      <td>0.03646</td>\n",
       "      <td>1</td>\n",
       "    </tr>\n",
       "    <tr>\n",
       "      <th>51</th>\n",
       "      <td>0.105496</td>\n",
       "      <td>0.000801</td>\n",
       "      <td>0.009609</td>\n",
       "      <td>4.905243e-04</td>\n",
       "      <td>20</td>\n",
       "      <td>1</td>\n",
       "      <td>110</td>\n",
       "      <td>{'max_depth': 20, 'max_features': 1, 'n_estima...</td>\n",
       "      <td>0.892857</td>\n",
       "      <td>0.964286</td>\n",
       "      <td>0.857143</td>\n",
       "      <td>0.888889</td>\n",
       "      <td>0.925926</td>\n",
       "      <td>0.90582</td>\n",
       "      <td>0.03646</td>\n",
       "      <td>1</td>\n",
       "    </tr>\n",
       "    <tr>\n",
       "      <th>100</th>\n",
       "      <td>0.097487</td>\n",
       "      <td>0.002579</td>\n",
       "      <td>0.008608</td>\n",
       "      <td>4.906217e-04</td>\n",
       "      <td>30</td>\n",
       "      <td>1</td>\n",
       "      <td>100</td>\n",
       "      <td>{'max_depth': 30, 'max_features': 1, 'n_estima...</td>\n",
       "      <td>0.892857</td>\n",
       "      <td>0.964286</td>\n",
       "      <td>0.857143</td>\n",
       "      <td>0.888889</td>\n",
       "      <td>0.925926</td>\n",
       "      <td>0.90582</td>\n",
       "      <td>0.03646</td>\n",
       "      <td>1</td>\n",
       "    </tr>\n",
       "    <tr>\n",
       "      <th>101</th>\n",
       "      <td>0.107898</td>\n",
       "      <td>0.000749</td>\n",
       "      <td>0.009409</td>\n",
       "      <td>4.903686e-04</td>\n",
       "      <td>30</td>\n",
       "      <td>1</td>\n",
       "      <td>110</td>\n",
       "      <td>{'max_depth': 30, 'max_features': 1, 'n_estima...</td>\n",
       "      <td>0.892857</td>\n",
       "      <td>0.964286</td>\n",
       "      <td>0.857143</td>\n",
       "      <td>0.888889</td>\n",
       "      <td>0.925926</td>\n",
       "      <td>0.90582</td>\n",
       "      <td>0.03646</td>\n",
       "      <td>1</td>\n",
       "    </tr>\n",
       "    <tr>\n",
       "      <th>150</th>\n",
       "      <td>0.096488</td>\n",
       "      <td>0.000490</td>\n",
       "      <td>0.009008</td>\n",
       "      <td>1.907349e-07</td>\n",
       "      <td>None</td>\n",
       "      <td>1</td>\n",
       "      <td>100</td>\n",
       "      <td>{'max_depth': None, 'max_features': 1, 'n_esti...</td>\n",
       "      <td>0.892857</td>\n",
       "      <td>0.964286</td>\n",
       "      <td>0.857143</td>\n",
       "      <td>0.888889</td>\n",
       "      <td>0.925926</td>\n",
       "      <td>0.90582</td>\n",
       "      <td>0.03646</td>\n",
       "      <td>1</td>\n",
       "    </tr>\n",
       "    <tr>\n",
       "      <th>151</th>\n",
       "      <td>0.107097</td>\n",
       "      <td>0.000633</td>\n",
       "      <td>0.009609</td>\n",
       "      <td>4.902129e-04</td>\n",
       "      <td>None</td>\n",
       "      <td>1</td>\n",
       "      <td>110</td>\n",
       "      <td>{'max_depth': None, 'max_features': 1, 'n_esti...</td>\n",
       "      <td>0.892857</td>\n",
       "      <td>0.964286</td>\n",
       "      <td>0.857143</td>\n",
       "      <td>0.888889</td>\n",
       "      <td>0.925926</td>\n",
       "      <td>0.90582</td>\n",
       "      <td>0.03646</td>\n",
       "      <td>1</td>\n",
       "    </tr>\n",
       "  </tbody>\n",
       "</table>\n",
       "</div>"
      ],
      "text/plain": [
       "     mean_fit_time  std_fit_time  mean_score_time  std_score_time  \\\n",
       "50        0.097088      0.000633         0.009008    1.507891e-07   \n",
       "51        0.105496      0.000801         0.009609    4.905243e-04   \n",
       "100       0.097487      0.002579         0.008608    4.906217e-04   \n",
       "101       0.107898      0.000749         0.009409    4.903686e-04   \n",
       "150       0.096488      0.000490         0.009008    1.907349e-07   \n",
       "151       0.107097      0.000633         0.009609    4.902129e-04   \n",
       "\n",
       "    param_max_depth param_max_features param_n_estimators  \\\n",
       "50               20                  1                100   \n",
       "51               20                  1                110   \n",
       "100              30                  1                100   \n",
       "101              30                  1                110   \n",
       "150            None                  1                100   \n",
       "151            None                  1                110   \n",
       "\n",
       "                                                params  split0_test_score  \\\n",
       "50   {'max_depth': 20, 'max_features': 1, 'n_estima...           0.892857   \n",
       "51   {'max_depth': 20, 'max_features': 1, 'n_estima...           0.892857   \n",
       "100  {'max_depth': 30, 'max_features': 1, 'n_estima...           0.892857   \n",
       "101  {'max_depth': 30, 'max_features': 1, 'n_estima...           0.892857   \n",
       "150  {'max_depth': None, 'max_features': 1, 'n_esti...           0.892857   \n",
       "151  {'max_depth': None, 'max_features': 1, 'n_esti...           0.892857   \n",
       "\n",
       "     split1_test_score  split2_test_score  split3_test_score  \\\n",
       "50            0.964286           0.857143           0.888889   \n",
       "51            0.964286           0.857143           0.888889   \n",
       "100           0.964286           0.857143           0.888889   \n",
       "101           0.964286           0.857143           0.888889   \n",
       "150           0.964286           0.857143           0.888889   \n",
       "151           0.964286           0.857143           0.888889   \n",
       "\n",
       "     split4_test_score  mean_test_score  std_test_score  rank_test_score  \n",
       "50            0.925926          0.90582         0.03646                1  \n",
       "51            0.925926          0.90582         0.03646                1  \n",
       "100           0.925926          0.90582         0.03646                1  \n",
       "101           0.925926          0.90582         0.03646                1  \n",
       "150           0.925926          0.90582         0.03646                1  \n",
       "151           0.925926          0.90582         0.03646                1  "
      ]
     },
     "execution_count": 4,
     "metadata": {},
     "output_type": "execute_result"
    }
   ],
   "source": [
    "forest_binary_cv = GridSearchCV(RandomForestClassifier(random_state=0), param_grid={\"n_estimators\":np.arange(100,200,10),\n",
    "                                                                                    \"max_depth\":[10, 20, 30, None], \n",
    "                                                                                    \"max_features\":[1, 0.9, 0.8, \"sqrt\", \"log2\"]}) \n",
    "forest_binary_cv.fit(X_train_binary, y_train_binary)\n",
    "forest_binary_cv_results = pd.DataFrame(forest_binary_cv.cv_results_)\n",
    "forest_binary_cv_results[forest_binary_cv_results[\"rank_test_score\"]==1]"
   ]
  },
  {
   "cell_type": "markdown",
   "id": "8f681a01-a147-45ce-929a-3900d3330a74",
   "metadata": {},
   "source": [
    "Training the model on the best found hyperparameters:"
   ]
  },
  {
   "cell_type": "code",
   "execution_count": 5,
   "id": "2405a9f7-15ce-41fb-b297-a65134703140",
   "metadata": {
    "tags": []
   },
   "outputs": [
    {
     "data": {
      "text/plain": [
       "RandomForestClassifier(max_features=1, n_estimators=110, random_state=0)"
      ]
     },
     "execution_count": 5,
     "metadata": {},
     "output_type": "execute_result"
    }
   ],
   "source": [
    "forest_binary = RandomForestClassifier(random_state=0, max_features=1, n_estimators=110, max_depth=None)\n",
    "forest_binary.fit(X_train_binary, y_train_binary)"
   ]
  },
  {
   "cell_type": "markdown",
   "id": "e9957d5e-5d36-47a2-818c-a49019f608c2",
   "metadata": {},
   "source": [
    "Accuracy score on the test data:"
   ]
  },
  {
   "cell_type": "code",
   "execution_count": 6,
   "id": "b3b3face-2108-471d-883c-b396446d6105",
   "metadata": {
    "tags": []
   },
   "outputs": [
    {
     "data": {
      "text/plain": [
       "0.9"
      ]
     },
     "execution_count": 6,
     "metadata": {},
     "output_type": "execute_result"
    }
   ],
   "source": [
    "np.round(accuracy_score(y_test_binary, forest_binary.predict(X_test_binary)), 3)"
   ]
  },
  {
   "cell_type": "markdown",
   "id": "8fca541b-5080-4707-8305-bf955e102b1f",
   "metadata": {},
   "source": [
    "% of each source of solution that was misclassified (e.g. 18% of the student solutions in the test data were classified incorrectly):"
   ]
  },
  {
   "cell_type": "code",
   "execution_count": 7,
   "id": "0b6f7eb4-f241-48a4-98b1-794ad77ddf32",
   "metadata": {
    "tags": []
   },
   "outputs": [
    {
     "data": {
      "text/plain": [
       "bing       11.111111\n",
       "gpt4       12.500000\n",
       "student    12.500000\n",
       "Name: source, dtype: float64"
      ]
     },
     "execution_count": 7,
     "metadata": {},
     "output_type": "execute_result"
    }
   ],
   "source": [
    "misclassified_binary = y_test_binary != forest_binary.predict(X_test_binary)\n",
    "(feature_data.loc[misclassified_binary.index[misclassified_binary]][\"source\"].value_counts() / feature_data.loc[y_test_binary.index][\"source\"].value_counts()).dropna() * 100"
   ]
  },
  {
   "cell_type": "markdown",
   "id": "5687f4ba-f21a-41bb-acf3-49ee721bc754",
   "metadata": {},
   "source": [
    "Feature importance:"
   ]
  },
  {
   "cell_type": "code",
   "execution_count": 8,
   "id": "65c65155-8697-4340-9ec5-ca7f28d07aa5",
   "metadata": {
    "tags": []
   },
   "outputs": [
    {
     "data": {
      "image/png": "[encoded data removed]",
      "text/plain": [
       "<Figure size 504x720 with 1 Axes>"
      ]
     },
     "metadata": {
      "needs_background": "light"
     },
     "output_type": "display_data"
    }
   ],
   "source": [
    "plt.figure(figsize=(7, 10))\n",
    "ax = pd.Series(forest_binary.feature_importances_, index=features).sort_values(ascending=True).plot.barh()"
   ]
  },
  {
   "cell_type": "code",
   "execution_count": 9,
   "id": "165fca13-63f1-42ef-bf1b-b8958c36af17",
   "metadata": {
    "tags": []
   },
   "outputs": [
    {
     "data": {
      "text/plain": [
       "0.85"
      ]
     },
     "execution_count": 9,
     "metadata": {},
     "output_type": "execute_result"
    }
   ],
   "source": [
    "X_train_binary_small, X_test_binary_small, y_train_binary_small, y_test_binary_small = train_test_split(feature_data[[\"num_lines\", \"num_scaled_declared_fields\"]].values, feature_data[\"binary_source\"], test_size=0.2, random_state=0)\n",
    "small_forest_binary = RandomForestClassifier(random_state=0, max_features=1, n_estimators=100, max_depth=10)\n",
    "small_forest_binary.fit(X_train_binary_small, y_train_binary_small)\n",
    "np.round(accuracy_score(y_test_binary_small, small_forest_binary.predict(X_test_binary_small)), 3)"
   ]
  },
  {
   "cell_type": "code",
   "execution_count": 10,
   "id": "f938a6da-afc6-4605-9676-851ef25f8406",
   "metadata": {
    "tags": []
   },
   "outputs": [
    {
     "data": {
      "text/plain": [
       "LogisticRegression(max_iter=10000)"
      ]
     },
     "execution_count": 10,
     "metadata": {},
     "output_type": "execute_result"
    }
   ],
   "source": [
    "log_binary = LogisticRegression(max_iter=10000)\n",
    "log_binary.fit(X_train_binary, y_train_binary)"
   ]
  },
  {
   "cell_type": "code",
   "execution_count": 11,
   "id": "fa07e374-7063-44eb-a8c5-c54115c8864e",
   "metadata": {
    "tags": []
   },
   "outputs": [
    {
     "data": {
      "text/plain": [
       "0.933"
      ]
     },
     "execution_count": 11,
     "metadata": {},
     "output_type": "execute_result"
    }
   ],
   "source": [
    "np.round(accuracy_score(y_test_binary, log_binary.predict(X_test_binary)), 3)"
   ]
  },
  {
   "cell_type": "markdown",
   "id": "20a6dfb9-3588-43b6-8c8b-1ac22f5656ad",
   "metadata": {},
   "source": [
    "## Classifying each AI source against Student"
   ]
  },
  {
   "cell_type": "code",
   "execution_count": 12,
   "id": "b2757612-52f6-41f9-aeb4-8744a61e0984",
   "metadata": {
    "tags": []
   },
   "outputs": [
    {
     "name": "stdout",
     "output_type": "stream",
     "text": [
      "Accuracy of predicting GPT4 versus Student: 0.926\n"
     ]
    },
    {
     "data": {
      "image/png": "[encoded data removed]",
      "text/plain": [
       "<Figure size 504x144 with 1 Axes>"
      ]
     },
     "metadata": {
      "needs_background": "light"
     },
     "output_type": "display_data"
    }
   ],
   "source": [
    "gpt4_data = feature_data[features + [\"source\"]].copy()\n",
    "gpt4_data = gpt4_data[(gpt4_data[\"source\"]==\"gpt4\")|(gpt4_data[\"source\"]==\"student\")]\n",
    "X_train_gpt4, X_test_gpt4, y_train_gpt4, y_test_gpt4 = train_test_split(gpt4_data[features].values, gpt4_data[\"source\"], stratify=gpt4_data[\"source\"], test_size=0.2, random_state=0)\n",
    "forest_gpt4 = RandomForestClassifier(random_state=0, max_features=1, n_estimators=110, max_depth=None)\n",
    "forest_gpt4.fit(X_train_gpt4, y_train_gpt4)\n",
    "print(\"Accuracy of predicting GPT4 versus Student:\", np.round(accuracy_score(y_test_gpt4, forest_gpt4.predict(X_test_gpt4)), 3))\n",
    "plt.figure(figsize=(7, 2))\n",
    "ax = pd.Series(forest_gpt4.feature_importances_, index=features).sort_values(ascending=True)[-5:].plot.barh()"
   ]
  },
  {
   "cell_type": "code",
   "execution_count": 13,
   "id": "7b254c44-10fa-48df-8ddf-2f92db2969d5",
   "metadata": {
    "tags": []
   },
   "outputs": [
    {
     "name": "stdout",
     "output_type": "stream",
     "text": [
      "Accuracy of predicting GPT3.5 versus Student: 0.92\n"
     ]
    },
    {
     "data": {
      "image/png": "[encoded data removed]",
      "text/plain": [
       "<Figure size 504x144 with 1 Axes>"
      ]
     },
     "metadata": {
      "needs_background": "light"
     },
     "output_type": "display_data"
    }
   ],
   "source": [
    "gpt35_data = feature_data[features + [\"source\"]].copy().copy()\n",
    "gpt35_data = gpt35_data[(gpt35_data[\"source\"]==\"gpt3.5\")|(gpt35_data[\"source\"]==\"student\")]\n",
    "X_train_gpt35, X_test_gpt35, y_train_gpt35, y_test_gpt35 = train_test_split(gpt35_data[features].values, gpt35_data[\"source\"], stratify=gpt35_data[\"source\"], test_size=0.2, random_state=0)\n",
    "forest_gpt35 = RandomForestClassifier(random_state=0, max_features=1, n_estimators=110, max_depth=None)\n",
    "forest_gpt35.fit(X_train_gpt35, y_train_gpt35)\n",
    "print(\"Accuracy of predicting GPT3.5 versus Student:\", np.round(accuracy_score(y_test_gpt35, forest_gpt35.predict(X_test_gpt35)), 3))\n",
    "plt.figure(figsize=(7, 2))\n",
    "ax = pd.Series(forest_gpt35.feature_importances_, index=features).sort_values(ascending=True)[-5:].plot.barh()"
   ]
  },
  {
   "cell_type": "code",
   "execution_count": 14,
   "id": "86a1e9cd-33cc-4137-8a58-04747a47ca44",
   "metadata": {
    "tags": []
   },
   "outputs": [
    {
     "name": "stdout",
     "output_type": "stream",
     "text": [
      "Accuracy of predicting Bard versus Student: 0.92\n"
     ]
    },
    {
     "data": {
      "image/png": "[encoded data removed]",
      "text/plain": [
       "<Figure size 504x144 with 1 Axes>"
      ]
     },
     "metadata": {
      "needs_background": "light"
     },
     "output_type": "display_data"
    }
   ],
   "source": [
    "bard_data = feature_data[features + [\"source\"]].copy()\n",
    "bard_data = bard_data[(bard_data[\"source\"]==\"bard\")|(bard_data[\"source\"]==\"student\")]\n",
    "X_train_bard, X_test_bard, y_train_bard, y_test_bard = train_test_split(bard_data[features].values, bard_data[\"source\"], stratify=bard_data[\"source\"], test_size=0.2, random_state=0)\n",
    "forest_bard = RandomForestClassifier(random_state=0, max_features=1, n_estimators=110, max_depth=None)\n",
    "forest_bard.fit(X_train_bard, y_train_bard)\n",
    "print(\"Accuracy of predicting Bard versus Student:\", np.round(accuracy_score(y_test_bard, forest_bard.predict(X_test_bard)), 3))\n",
    "plt.figure(figsize=(7, 2))\n",
    "ax = pd.Series(forest_bard.feature_importances_, index=features).sort_values(ascending=True)[-5:].plot.barh()"
   ]
  },
  {
   "cell_type": "code",
   "execution_count": 15,
   "id": "ca6674c8-ba9f-4651-accf-28aa8327c10a",
   "metadata": {
    "tags": []
   },
   "outputs": [
    {
     "name": "stdout",
     "output_type": "stream",
     "text": [
      "Accuracy of predicting Bing versus Student: 0.852\n"
     ]
    },
    {
     "data": {
      "image/png": "[encoded data removed]",
      "text/plain": [
       "<Figure size 504x144 with 1 Axes>"
      ]
     },
     "metadata": {
      "needs_background": "light"
     },
     "output_type": "display_data"
    }
   ],
   "source": [
    "bing_data = feature_data[features + [\"source\"]].copy()\n",
    "bing_data = bing_data[(bing_data[\"source\"]==\"bing\")|(bing_data[\"source\"]==\"student\")]\n",
    "X_train_bing, X_test_bing, y_train_bing, y_test_bing = train_test_split(bing_data[features].values, bing_data[\"source\"], stratify=bing_data[\"source\"], test_size=0.2, random_state=0)\n",
    "forest_bing = RandomForestClassifier(random_state=0, max_features=1, n_estimators=110, max_depth=None)\n",
    "forest_bing.fit(X_train_bing, y_train_bing)\n",
    "print(\"Accuracy of predicting Bing versus Student:\", np.round(accuracy_score(y_test_bing, forest_bing.predict(X_test_bing)), 3))\n",
    "plt.figure(figsize=(7, 2))\n",
    "ax = pd.Series(forest_bing.feature_importances_, index=features).sort_values(ascending=True)[-5:].plot.barh()"
   ]
  },
  {
   "cell_type": "markdown",
   "id": "a7ea7fb8-822a-4cbb-8e4b-94b9f880d73a",
   "metadata": {},
   "source": [
    "## Classifying each source of data\n",
    "\n",
    "A new model is trained on all of the data except for the data from each source. Then the trained model is used to try to predict the solutions from the source that it never saw during training."
   ]
  },
  {
   "cell_type": "code",
   "execution_count": 16,
   "id": "432f9a24-690b-4893-b975-c7dd3883dbb7",
   "metadata": {
    "tags": []
   },
   "outputs": [
    {
     "name": "stdout",
     "output_type": "stream",
     "text": [
      "Accuracy on classifying bard: 88.2 %\n",
      "Accuracy on classifying bing: 53.6 %\n",
      "Accuracy on classifying gpt3.5: 83.3 %\n",
      "Accuracy on classifying gpt4: 83.89999999999999 %\n"
     ]
    }
   ],
   "source": [
    "for source in feature_data[\"source\"].unique()[:-1]:\n",
    "    feature_model = RandomForestClassifier(random_state=0, max_features=1, n_estimators=100, max_depth=10)\n",
    "    \n",
    "    feature_model.fit(feature_data[feature_data[\"source\"] != source][features], feature_data[feature_data[\"source\"] != source][\"binary_source\"])\n",
    "    \n",
    "    print(f\"Accuracy on classifying {source}:\", np.round(accuracy_score(feature_data[feature_data[\"source\"] == source][\"binary_source\"], \n",
    "                                                            feature_model.predict(feature_data[feature_data[\"source\"] == source][features])), 3)*100, \"%\")"
   ]
  },
  {
   "cell_type": "markdown",
   "id": "8909444b-4aab-440b-84e9-27dad0d394b0",
   "metadata": {},
   "source": [
    "## Predictions on the optimised/intervene solutions using features"
   ]
  },
  {
   "cell_type": "code",
   "execution_count": 5,
   "id": "b3cad073-d86e-496f-8df4-7da6adc15755",
   "metadata": {
    "tags": []
   },
   "outputs": [],
   "source": [
    "optimised_data = pd.read_csv(\"ss21_processed_solutions/optimised_feature_data.csv\")\n",
    "optimised_data[\"binary_source\"] = optimised_data[\"source\"].apply(lambda row: row if row==\"student\" else \"ai\")"
   ]
  },
  {
   "cell_type": "code",
   "execution_count": 6,
   "id": "4bb116d6-1606-4348-a449-248f0d5b134f",
   "metadata": {
    "tags": []
   },
   "outputs": [
    {
     "data": {
      "text/plain": [
       "RandomForestClassifier(max_depth=10, max_features=1, random_state=0)"
      ]
     },
     "execution_count": 6,
     "metadata": {},
     "output_type": "execute_result"
    }
   ],
   "source": [
    "full_model = RandomForestClassifier(random_state=0, max_features=1, n_estimators=100, max_depth=10)\n",
    "full_model.fit(feature_data[features].values, feature_data[\"binary_source\"])"
   ]
  },
  {
   "cell_type": "code",
   "execution_count": 8,
   "id": "895482e4-fc11-4e87-a0a2-60fc5917a87d",
   "metadata": {
    "tags": []
   },
   "outputs": [
    {
     "data": {
      "text/html": [
       "<div>\n",
       "<style scoped>\n",
       "    .dataframe tbody tr th:only-of-type {\n",
       "        vertical-align: middle;\n",
       "    }\n",
       "\n",
       "    .dataframe tbody tr th {\n",
       "        vertical-align: top;\n",
       "    }\n",
       "\n",
       "    .dataframe thead th {\n",
       "        text-align: right;\n",
       "    }\n",
       "</style>\n",
       "<table border=\"1\" class=\"dataframe\">\n",
       "  <thead>\n",
       "    <tr style=\"text-align: right;\">\n",
       "      <th></th>\n",
       "      <th>Probability AI</th>\n",
       "      <th>Probability Human</th>\n",
       "      <th>source</th>\n",
       "      <th>milestone</th>\n",
       "      <th>name</th>\n",
       "      <th>style</th>\n",
       "      <th>version</th>\n",
       "      <th>code</th>\n",
       "    </tr>\n",
       "  </thead>\n",
       "  <tbody>\n",
       "    <tr>\n",
       "      <th>19</th>\n",
       "      <td>0.180000</td>\n",
       "      <td>0.820000</td>\n",
       "      <td>optimised</td>\n",
       "      <td>m0</td>\n",
       "      <td>4</td>\n",
       "      <td>NaN</td>\n",
       "      <td>NaN</td>\n",
       "      <td>package thkoeln.st.st2praktikum.exercise;\\n\\ni...</td>\n",
       "    </tr>\n",
       "    <tr>\n",
       "      <th>4</th>\n",
       "      <td>0.194234</td>\n",
       "      <td>0.805766</td>\n",
       "      <td>intervene</td>\n",
       "      <td>m0</td>\n",
       "      <td>natasha4</td>\n",
       "      <td>NaN</td>\n",
       "      <td>NaN</td>\n",
       "      <td>package thkoeln.st.st2praktikum.exercise;\\n\\np...</td>\n",
       "    </tr>\n",
       "    <tr>\n",
       "      <th>7</th>\n",
       "      <td>0.209629</td>\n",
       "      <td>0.790371</td>\n",
       "      <td>optimised</td>\n",
       "      <td>m0</td>\n",
       "      <td>11</td>\n",
       "      <td>NaN</td>\n",
       "      <td>NaN</td>\n",
       "      <td>package thkoeln.st.st2praktikum.exercise;\\n\\ni...</td>\n",
       "    </tr>\n",
       "    <tr>\n",
       "      <th>23</th>\n",
       "      <td>0.250000</td>\n",
       "      <td>0.750000</td>\n",
       "      <td>optimised</td>\n",
       "      <td>m0</td>\n",
       "      <td>8</td>\n",
       "      <td>NaN</td>\n",
       "      <td>NaN</td>\n",
       "      <td>package thkoeln.st.st2praktikum.exercise;\\n\\ni...</td>\n",
       "    </tr>\n",
       "    <tr>\n",
       "      <th>5</th>\n",
       "      <td>0.269936</td>\n",
       "      <td>0.730064</td>\n",
       "      <td>optimised</td>\n",
       "      <td>m0</td>\n",
       "      <td>1</td>\n",
       "      <td>NaN</td>\n",
       "      <td>NaN</td>\n",
       "      <td>package thkoeln.st.st2praktikum.exercise;\\n\\ni...</td>\n",
       "    </tr>\n",
       "    <tr>\n",
       "      <th>9</th>\n",
       "      <td>0.280000</td>\n",
       "      <td>0.720000</td>\n",
       "      <td>optimised</td>\n",
       "      <td>m0</td>\n",
       "      <td>13</td>\n",
       "      <td>NaN</td>\n",
       "      <td>NaN</td>\n",
       "      <td>package thkoeln.st.st2praktikum.exercise;\\n\\ni...</td>\n",
       "    </tr>\n",
       "    <tr>\n",
       "      <th>16</th>\n",
       "      <td>0.316731</td>\n",
       "      <td>0.683269</td>\n",
       "      <td>optimised</td>\n",
       "      <td>m0</td>\n",
       "      <td>2</td>\n",
       "      <td>NaN</td>\n",
       "      <td>NaN</td>\n",
       "      <td>package thkoeln.st.st2praktikum.exercise;\\n\\ni...</td>\n",
       "    </tr>\n",
       "    <tr>\n",
       "      <th>12</th>\n",
       "      <td>0.320833</td>\n",
       "      <td>0.679167</td>\n",
       "      <td>optimised</td>\n",
       "      <td>m0</td>\n",
       "      <td>16</td>\n",
       "      <td>NaN</td>\n",
       "      <td>NaN</td>\n",
       "      <td>package thkoeln.st.st2praktikum.exercise;\\n\\nc...</td>\n",
       "    </tr>\n",
       "    <tr>\n",
       "      <th>3</th>\n",
       "      <td>0.332219</td>\n",
       "      <td>0.667781</td>\n",
       "      <td>intervene</td>\n",
       "      <td>m0</td>\n",
       "      <td>natasha3</td>\n",
       "      <td>NaN</td>\n",
       "      <td>NaN</td>\n",
       "      <td>package thkoeln.st.st2praktikum.exercise;\\n\\nc...</td>\n",
       "    </tr>\n",
       "    <tr>\n",
       "      <th>14</th>\n",
       "      <td>0.340000</td>\n",
       "      <td>0.660000</td>\n",
       "      <td>optimised</td>\n",
       "      <td>m0</td>\n",
       "      <td>18</td>\n",
       "      <td>NaN</td>\n",
       "      <td>NaN</td>\n",
       "      <td>package thkoeln.st.st2praktikum.exercise;\\n\\ni...</td>\n",
       "    </tr>\n",
       "    <tr>\n",
       "      <th>18</th>\n",
       "      <td>0.343969</td>\n",
       "      <td>0.656031</td>\n",
       "      <td>optimised</td>\n",
       "      <td>m0</td>\n",
       "      <td>3</td>\n",
       "      <td>NaN</td>\n",
       "      <td>NaN</td>\n",
       "      <td>package thkoeln.st.st2praktikum.exercise;\\n\\ni...</td>\n",
       "    </tr>\n",
       "    <tr>\n",
       "      <th>10</th>\n",
       "      <td>0.357764</td>\n",
       "      <td>0.642236</td>\n",
       "      <td>optimised</td>\n",
       "      <td>m0</td>\n",
       "      <td>14</td>\n",
       "      <td>NaN</td>\n",
       "      <td>NaN</td>\n",
       "      <td>package thkoeln.st.st2praktikum.exercise;\\n\\ni...</td>\n",
       "    </tr>\n",
       "    <tr>\n",
       "      <th>20</th>\n",
       "      <td>0.359722</td>\n",
       "      <td>0.640278</td>\n",
       "      <td>optimised</td>\n",
       "      <td>m0</td>\n",
       "      <td>5</td>\n",
       "      <td>NaN</td>\n",
       "      <td>NaN</td>\n",
       "      <td>// Package for the class\\npackage thkoeln.st.s...</td>\n",
       "    </tr>\n",
       "    <tr>\n",
       "      <th>8</th>\n",
       "      <td>0.374465</td>\n",
       "      <td>0.625535</td>\n",
       "      <td>optimised</td>\n",
       "      <td>m0</td>\n",
       "      <td>12</td>\n",
       "      <td>NaN</td>\n",
       "      <td>NaN</td>\n",
       "      <td>package thkoeln.st.st2praktikum.exercise;\\n\\ni...</td>\n",
       "    </tr>\n",
       "    <tr>\n",
       "      <th>13</th>\n",
       "      <td>0.383397</td>\n",
       "      <td>0.616603</td>\n",
       "      <td>optimised</td>\n",
       "      <td>m0</td>\n",
       "      <td>17</td>\n",
       "      <td>NaN</td>\n",
       "      <td>NaN</td>\n",
       "      <td>package thkoeln.st.st2praktikum.exercise;\\n\\ni...</td>\n",
       "    </tr>\n",
       "    <tr>\n",
       "      <th>11</th>\n",
       "      <td>0.421744</td>\n",
       "      <td>0.578256</td>\n",
       "      <td>optimised</td>\n",
       "      <td>m0</td>\n",
       "      <td>15</td>\n",
       "      <td>NaN</td>\n",
       "      <td>NaN</td>\n",
       "      <td>package thkoeln.st.st2praktikum.exercise;\\n\\nc...</td>\n",
       "    </tr>\n",
       "    <tr>\n",
       "      <th>17</th>\n",
       "      <td>0.425193</td>\n",
       "      <td>0.574807</td>\n",
       "      <td>optimised</td>\n",
       "      <td>m0</td>\n",
       "      <td>20</td>\n",
       "      <td>NaN</td>\n",
       "      <td>NaN</td>\n",
       "      <td>package thkoeln.st.st2praktikum.exercise;\\n\\ni...</td>\n",
       "    </tr>\n",
       "    <tr>\n",
       "      <th>6</th>\n",
       "      <td>0.444744</td>\n",
       "      <td>0.555256</td>\n",
       "      <td>optimised</td>\n",
       "      <td>m0</td>\n",
       "      <td>10</td>\n",
       "      <td>NaN</td>\n",
       "      <td>NaN</td>\n",
       "      <td>package thkoeln.st.st2praktikum.exercise;\\n\\ni...</td>\n",
       "    </tr>\n",
       "    <tr>\n",
       "      <th>0</th>\n",
       "      <td>0.468865</td>\n",
       "      <td>0.531135</td>\n",
       "      <td>intervene</td>\n",
       "      <td>m0</td>\n",
       "      <td>dennis</td>\n",
       "      <td>NaN</td>\n",
       "      <td>NaN</td>\n",
       "      <td>package thkoeln.st.st2praktikum.exercise;\\n\\np...</td>\n",
       "    </tr>\n",
       "    <tr>\n",
       "      <th>21</th>\n",
       "      <td>0.469366</td>\n",
       "      <td>0.530634</td>\n",
       "      <td>optimised</td>\n",
       "      <td>m0</td>\n",
       "      <td>6</td>\n",
       "      <td>NaN</td>\n",
       "      <td>NaN</td>\n",
       "      <td>package thkoeln.st.st2praktikum.exercise;\\n\\ni...</td>\n",
       "    </tr>\n",
       "    <tr>\n",
       "      <th>15</th>\n",
       "      <td>0.473553</td>\n",
       "      <td>0.526447</td>\n",
       "      <td>optimised</td>\n",
       "      <td>m0</td>\n",
       "      <td>19</td>\n",
       "      <td>NaN</td>\n",
       "      <td>NaN</td>\n",
       "      <td>package thkoeln.st.st2praktikum.exercise;\\n\\ni...</td>\n",
       "    </tr>\n",
       "    <tr>\n",
       "      <th>24</th>\n",
       "      <td>0.483562</td>\n",
       "      <td>0.516438</td>\n",
       "      <td>optimised</td>\n",
       "      <td>m0</td>\n",
       "      <td>9</td>\n",
       "      <td>NaN</td>\n",
       "      <td>NaN</td>\n",
       "      <td>package thkoeln.st.st2praktikum.exercise;\\n\\ni...</td>\n",
       "    </tr>\n",
       "    <tr>\n",
       "      <th>22</th>\n",
       "      <td>0.485000</td>\n",
       "      <td>0.515000</td>\n",
       "      <td>optimised</td>\n",
       "      <td>m0</td>\n",
       "      <td>7</td>\n",
       "      <td>NaN</td>\n",
       "      <td>NaN</td>\n",
       "      <td>package thkoeln.st.st2praktikum.exercise;\\n\\np...</td>\n",
       "    </tr>\n",
       "    <tr>\n",
       "      <th>2</th>\n",
       "      <td>0.615192</td>\n",
       "      <td>0.384808</td>\n",
       "      <td>intervene</td>\n",
       "      <td>m0</td>\n",
       "      <td>natasha2</td>\n",
       "      <td>NaN</td>\n",
       "      <td>NaN</td>\n",
       "      <td>package thkoeln.st.st2praktikum.exercise;\\n\\ni...</td>\n",
       "    </tr>\n",
       "    <tr>\n",
       "      <th>1</th>\n",
       "      <td>0.837871</td>\n",
       "      <td>0.162129</td>\n",
       "      <td>intervene</td>\n",
       "      <td>m0</td>\n",
       "      <td>natasha1</td>\n",
       "      <td>NaN</td>\n",
       "      <td>NaN</td>\n",
       "      <td>package thkoeln.st.st2praktikum.exercise;\\n\\ni...</td>\n",
       "    </tr>\n",
       "  </tbody>\n",
       "</table>\n",
       "</div>"
      ],
      "text/plain": [
       "    Probability AI  Probability Human     source milestone      name  style  \\\n",
       "19        0.180000           0.820000  optimised        m0         4    NaN   \n",
       "4         0.194234           0.805766  intervene        m0  natasha4    NaN   \n",
       "7         0.209629           0.790371  optimised        m0        11    NaN   \n",
       "23        0.250000           0.750000  optimised        m0         8    NaN   \n",
       "5         0.269936           0.730064  optimised        m0         1    NaN   \n",
       "9         0.280000           0.720000  optimised        m0        13    NaN   \n",
       "16        0.316731           0.683269  optimised        m0         2    NaN   \n",
       "12        0.320833           0.679167  optimised        m0        16    NaN   \n",
       "3         0.332219           0.667781  intervene        m0  natasha3    NaN   \n",
       "14        0.340000           0.660000  optimised        m0        18    NaN   \n",
       "18        0.343969           0.656031  optimised        m0         3    NaN   \n",
       "10        0.357764           0.642236  optimised        m0        14    NaN   \n",
       "20        0.359722           0.640278  optimised        m0         5    NaN   \n",
       "8         0.374465           0.625535  optimised        m0        12    NaN   \n",
       "13        0.383397           0.616603  optimised        m0        17    NaN   \n",
       "11        0.421744           0.578256  optimised        m0        15    NaN   \n",
       "17        0.425193           0.574807  optimised        m0        20    NaN   \n",
       "6         0.444744           0.555256  optimised        m0        10    NaN   \n",
       "0         0.468865           0.531135  intervene        m0    dennis    NaN   \n",
       "21        0.469366           0.530634  optimised        m0         6    NaN   \n",
       "15        0.473553           0.526447  optimised        m0        19    NaN   \n",
       "24        0.483562           0.516438  optimised        m0         9    NaN   \n",
       "22        0.485000           0.515000  optimised        m0         7    NaN   \n",
       "2         0.615192           0.384808  intervene        m0  natasha2    NaN   \n",
       "1         0.837871           0.162129  intervene        m0  natasha1    NaN   \n",
       "\n",
       "    version                                               code  \n",
       "19      NaN  package thkoeln.st.st2praktikum.exercise;\\n\\ni...  \n",
       "4       NaN  package thkoeln.st.st2praktikum.exercise;\\n\\np...  \n",
       "7       NaN  package thkoeln.st.st2praktikum.exercise;\\n\\ni...  \n",
       "23      NaN  package thkoeln.st.st2praktikum.exercise;\\n\\ni...  \n",
       "5       NaN  package thkoeln.st.st2praktikum.exercise;\\n\\ni...  \n",
       "9       NaN  package thkoeln.st.st2praktikum.exercise;\\n\\ni...  \n",
       "16      NaN  package thkoeln.st.st2praktikum.exercise;\\n\\ni...  \n",
       "12      NaN  package thkoeln.st.st2praktikum.exercise;\\n\\nc...  \n",
       "3       NaN  package thkoeln.st.st2praktikum.exercise;\\n\\nc...  \n",
       "14      NaN  package thkoeln.st.st2praktikum.exercise;\\n\\ni...  \n",
       "18      NaN  package thkoeln.st.st2praktikum.exercise;\\n\\ni...  \n",
       "10      NaN  package thkoeln.st.st2praktikum.exercise;\\n\\ni...  \n",
       "20      NaN  // Package for the class\\npackage thkoeln.st.s...  \n",
       "8       NaN  package thkoeln.st.st2praktikum.exercise;\\n\\ni...  \n",
       "13      NaN  package thkoeln.st.st2praktikum.exercise;\\n\\ni...  \n",
       "11      NaN  package thkoeln.st.st2praktikum.exercise;\\n\\nc...  \n",
       "17      NaN  package thkoeln.st.st2praktikum.exercise;\\n\\ni...  \n",
       "6       NaN  package thkoeln.st.st2praktikum.exercise;\\n\\ni...  \n",
       "0       NaN  package thkoeln.st.st2praktikum.exercise;\\n\\np...  \n",
       "21      NaN  package thkoeln.st.st2praktikum.exercise;\\n\\ni...  \n",
       "15      NaN  package thkoeln.st.st2praktikum.exercise;\\n\\ni...  \n",
       "24      NaN  package thkoeln.st.st2praktikum.exercise;\\n\\ni...  \n",
       "22      NaN  package thkoeln.st.st2praktikum.exercise;\\n\\np...  \n",
       "2       NaN  package thkoeln.st.st2praktikum.exercise;\\n\\ni...  \n",
       "1       NaN  package thkoeln.st.st2praktikum.exercise;\\n\\ni...  "
      ]
     },
     "execution_count": 8,
     "metadata": {},
     "output_type": "execute_result"
    }
   ],
   "source": [
    "predictions = pd.concat([pd.DataFrame(full_model.predict_proba(optimised_data[features].values), columns=[\"Probability AI\", \"Probability Human\"]),\n",
    "                        optimised_data.reset_index(drop=True)], axis=1)\n",
    "predictions.iloc[:,:8].sort_values(\"Probability Human\", ascending=False)"
   ]
  },
  {
   "cell_type": "markdown",
   "id": "d43e534c-d259-4c6a-9a98-cf6f6866b597",
   "metadata": {},
   "source": [
    "## Model trained on optimised code"
   ]
  },
  {
   "cell_type": "markdown",
   "id": "54986d90-0387-4858-89eb-7f1ab0345ba8",
   "metadata": {},
   "source": [
    "Training on a model on both the original data and the new optimised model-breaking solutions.  \n",
    "\n",
    "What are the new feature importances?\n",
    "\n",
    "A smaller sample of the original data is taken for the model, due to the much smaller number of optimised samples, allowing them both to have equal weight in the model."
   ]
  },
  {
   "cell_type": "code",
   "execution_count": 16,
   "id": "1665f63f-cf4c-4c14-880c-0a66bb8ecffb",
   "metadata": {
    "tags": []
   },
   "outputs": [],
   "source": [
    "optimised = optimised_data[optimised_data[\"source\"] != \"intervene\"]"
   ]
  },
  {
   "cell_type": "code",
   "execution_count": 21,
   "id": "5f7393d5-8505-4a87-95f2-739650f22f10",
   "metadata": {
    "tags": []
   },
   "outputs": [],
   "source": [
    "combined_data = pd.concat([feature_data[feature_data[\"source\"] == \"student\"], \n",
    "                           feature_data[feature_data[\"source\"] != \"student\"].sample(20, random_state=0),\n",
    "                           optimised]).reset_index(drop=True)"
   ]
  },
  {
   "cell_type": "code",
   "execution_count": 22,
   "id": "d22a1eb7-a7d3-4209-95cf-28a221e9d0ef",
   "metadata": {
    "tags": []
   },
   "outputs": [
    {
     "data": {
      "text/plain": [
       "RandomForestClassifier(max_depth=10, max_features=1, random_state=0)"
      ]
     },
     "execution_count": 22,
     "metadata": {},
     "output_type": "execute_result"
    }
   ],
   "source": [
    "alternate_model = RandomForestClassifier(random_state=0, max_features=1, n_estimators=100, max_depth=10)\n",
    "alternate_model.fit(combined_data[features].values, combined_data[\"binary_source\"])"
   ]
  },
  {
   "cell_type": "markdown",
   "id": "31e26127-baf4-497f-8265-ebeaa4b97c0f",
   "metadata": {},
   "source": [
    "\"Number of characters\" is now even more important. New important features include the \"number of for loops\"."
   ]
  },
  {
   "cell_type": "code",
   "execution_count": 23,
   "id": "d6e2d77b-adad-4cff-b4c4-fda8b4ed57bd",
   "metadata": {
    "tags": []
   },
   "outputs": [
    {
     "data": {
      "image/png": "[encoded data removed]",
      "text/plain": [
       "<Figure size 504x720 with 1 Axes>"
      ]
     },
     "metadata": {
      "needs_background": "light"
     },
     "output_type": "display_data"
    }
   ],
   "source": [
    "plt.figure(figsize=(7, 10))\n",
    "ax = pd.Series(alternate_model.feature_importances_, index=features).sort_values(ascending=True).plot.barh()"
   ]
  },
  {
   "cell_type": "markdown",
   "id": "85089ffb-b465-414f-a1c1-c2fd4ff75073",
   "metadata": {},
   "source": [
    "Modelling only students versus optimised solutions:"
   ]
  },
  {
   "cell_type": "code",
   "execution_count": 24,
   "id": "47ffd757-67e6-4ef4-aea7-bc891fb5d537",
   "metadata": {
    "tags": []
   },
   "outputs": [],
   "source": [
    "all_students_optimised = pd.concat([feature_data[feature_data[\"source\"] == \"student\"], optimised]).reset_index(drop=True)"
   ]
  },
  {
   "cell_type": "code",
   "execution_count": 25,
   "id": "82e8026f-093a-49aa-90d3-d671eee28d9b",
   "metadata": {
    "tags": []
   },
   "outputs": [],
   "source": [
    "X_train_binary, X_test_binary, y_train_binary, y_test_binary = train_test_split(all_students_optimised[features].values, \n",
    "                                                                                all_students_optimised[\"binary_source\"], test_size=0.3, random_state=0)"
   ]
  },
  {
   "cell_type": "code",
   "execution_count": 26,
   "id": "7507f15f-df17-4860-9168-e3e66d8b2c86",
   "metadata": {
    "tags": []
   },
   "outputs": [
    {
     "data": {
      "text/plain": [
       "RandomForestClassifier(max_depth=10, max_features=1, random_state=0)"
      ]
     },
     "execution_count": 26,
     "metadata": {},
     "output_type": "execute_result"
    }
   ],
   "source": [
    "alternate_model = RandomForestClassifier(random_state=0, max_features=1, n_estimators=100, max_depth=10)\n",
    "alternate_model.fit(X_train_binary, y_train_binary)"
   ]
  },
  {
   "cell_type": "code",
   "execution_count": 27,
   "id": "93a42b40-0c24-4064-82dc-6047484fc318",
   "metadata": {
    "tags": []
   },
   "outputs": [
    {
     "data": {
      "text/plain": [
       "0.921"
      ]
     },
     "execution_count": 27,
     "metadata": {},
     "output_type": "execute_result"
    }
   ],
   "source": [
    "np.round(accuracy_score(y_test_binary, alternate_model.predict(X_test_binary)), 3)"
   ]
  },
  {
   "cell_type": "markdown",
   "id": "9e5d1172-3f46-4782-a94b-64b831c66d93",
   "metadata": {},
   "source": [
    "The same accuracy is retained even after optimised prompts are generated - the model simply adapts."
   ]
  },
  {
   "cell_type": "code",
   "execution_count": 28,
   "id": "0b20c90b-41e8-4dba-993f-5106a0932369",
   "metadata": {
    "tags": []
   },
   "outputs": [
    {
     "data": {
      "text/plain": [
       "student    8.823529\n",
       "Name: source, dtype: float64"
      ]
     },
     "execution_count": 28,
     "metadata": {},
     "output_type": "execute_result"
    }
   ],
   "source": [
    "misclassified_binary = y_test_binary != alternate_model.predict(X_test_binary)\n",
    "(feature_data.loc[misclassified_binary.index[misclassified_binary]][\"source\"].value_counts() / all_students_optimised.loc[y_test_binary.index][\"source\"].value_counts()).dropna() * 100"
   ]
  },
  {
   "cell_type": "markdown",
   "id": "eab44fff-b51b-4e6a-b6a9-6408250d3fd5",
   "metadata": {},
   "source": [
    "The number of characters remains a key feature. The number of indents, edit distance and whitespace now become key features."
   ]
  },
  {
   "cell_type": "code",
   "execution_count": 29,
   "id": "7ea08b00-5122-413c-94f1-a19588b6faf0",
   "metadata": {
    "tags": []
   },
   "outputs": [
    {
     "data": {
      "image/png": "[encoded data removed]",
      "text/plain": [
       "<Figure size 504x720 with 1 Axes>"
      ]
     },
     "metadata": {
      "needs_background": "light"
     },
     "output_type": "display_data"
    }
   ],
   "source": [
    "plt.figure(figsize=(7, 10))\n",
    "ax = pd.Series(alternate_model.feature_importances_, index=features).sort_values(ascending=True).plot.barh()"
   ]
  }
 ],
 "metadata": {
  "kernelspec": {
   "display_name": "Python 3 (ipykernel)",
   "language": "python",
   "name": "python3"
  },
  "language_info": {
   "codemirror_mode": {
    "name": "ipython",
    "version": 3
   },
   "file_extension": ".py",
   "mimetype": "text/x-python",
   "name": "python",
   "nbconvert_exporter": "python",
   "pygments_lexer": "ipython3",
   "version": "3.9.12"
  }
 },
 "nbformat": 4,
 "nbformat_minor": 5
}
